{
 "cells": [
  {
   "cell_type": "markdown",
   "metadata": {},
   "source": [
    "# Logistic regression"
   ]
  },
  {
   "cell_type": "code",
   "execution_count": 260,
   "metadata": {},
   "outputs": [],
   "source": [
    "import matplotlib.pyplot as plt\n",
    "%matplotlib inline\n",
    "import matplotlib.cm as cm\n",
    "import numpy as np\n",
    "import pandas as pd\n",
    "import random\n",
    "\n",
    "import seaborn as sns\n",
    "plt.style.use('fivethirtyeight')\n"
   ]
  },
  {
   "cell_type": "code",
   "execution_count": 261,
   "metadata": {},
   "outputs": [],
   "source": [
    "import statsmodels.api as sm\n",
    "import statsmodels.formula.api as smf \n",
    "from statsmodels.stats.outliers_influence import variance_inflation_factor\n",
    "from statsmodels.tools.tools import add_constant"
   ]
  },
  {
   "cell_type": "code",
   "execution_count": 262,
   "metadata": {},
   "outputs": [],
   "source": [
    "from sklearn.linear_model import LinearRegression, Lasso, LassoCV, Ridge, RidgeCV\n",
    "from sklearn.metrics import r2_score #ordinary linear regression + w/ ridge regularization\n",
    "\n",
    "from sklearn.tree import DecisionTreeClassifier\n",
    "from sklearn.svm import LinearSVC\n",
    "from sklearn.svm import SVC\n",
    "from sklearn.ensemble import RandomForestClassifier\n",
    "from sklearn.linear_model import LogisticRegression\n",
    "from sklearn.model_selection import train_test_split\n",
    "from sklearn.metrics import precision_score, recall_score, accuracy_score, roc_auc_score\n",
    "from sklearn.metrics import confusion_matrix\n",
    "from sklearn.preprocessing import StandardScaler\n",
    "from sklearn.model_selection import StratifiedKFold"
   ]
  },
  {
   "cell_type": "code",
   "execution_count": 263,
   "metadata": {},
   "outputs": [],
   "source": [
    "def quick_test(model, X, y):\n",
    "    xtrain, xtest, ytrain, ytest = train_test_split(X, y, test_size=0.3)\n",
    "    model.fit(xtrain, ytrain)\n",
    "    return model.score(xtest, ytest)\n",
    "\n",
    "def quick_test_afew_times(model, X, y, n=10):\n",
    "    return np.mean([quick_test(model, X, y) for j in range(n)])\n"
   ]
  },
  {
   "cell_type": "code",
   "execution_count": 264,
   "metadata": {},
   "outputs": [],
   "source": [
    "df = pd.read_pickle('data/users_train.pkl')"
   ]
  },
  {
   "cell_type": "markdown",
   "metadata": {},
   "source": [
    "**View the data**"
   ]
  },
  {
   "cell_type": "code",
   "execution_count": 300,
   "metadata": {},
   "outputs": [],
   "source": [
    "grid={\"C\":np.logspace(-3,3,7)}"
   ]
  },
  {
   "cell_type": "code",
   "execution_count": 301,
   "metadata": {},
   "outputs": [
    {
     "data": {
      "text/plain": [
       "{'C': array([1.e-03, 1.e-02, 1.e-01, 1.e+00, 1.e+01, 1.e+02, 1.e+03])}"
      ]
     },
     "execution_count": 301,
     "metadata": {},
     "output_type": "execute_result"
    }
   ],
   "source": [
    "grid"
   ]
  },
  {
   "cell_type": "code",
   "execution_count": 265,
   "metadata": {
    "scrolled": true
   },
   "outputs": [],
   "source": [
    "#dest_bookings = Xtrain.groupby(['country_destination'])['id'].count().reset_index()\n",
    "#dest_bookings = dest_bookings[dest_bookings['country_destination'] != 'NDF']\n",
    "#dest_bookings['pct_of_total'] = [(x/dest_bookings['id'].sum())*100 for x in dest_bookings['id']]\n",
    "#dest_bookings = dest_bookings.sort_values(by='pct_of_total', ascending = False)\n",
    "#dest_bookings"
   ]
  },
  {
   "cell_type": "code",
   "execution_count": 266,
   "metadata": {
    "scrolled": true
   },
   "outputs": [
    {
     "data": {
      "text/html": [
       "<div>\n",
       "<style scoped>\n",
       "    .dataframe tbody tr th:only-of-type {\n",
       "        vertical-align: middle;\n",
       "    }\n",
       "\n",
       "    .dataframe tbody tr th {\n",
       "        vertical-align: top;\n",
       "    }\n",
       "\n",
       "    .dataframe thead th {\n",
       "        text-align: right;\n",
       "    }\n",
       "</style>\n",
       "<table border=\"1\" class=\"dataframe\">\n",
       "  <thead>\n",
       "    <tr style=\"text-align: right;\">\n",
       "      <th></th>\n",
       "      <th>country_destination</th>\n",
       "      <th>id</th>\n",
       "      <th>pct_of_total</th>\n",
       "    </tr>\n",
       "  </thead>\n",
       "  <tbody>\n",
       "    <tr>\n",
       "      <th>10</th>\n",
       "      <td>US</td>\n",
       "      <td>62376</td>\n",
       "      <td>70.157916</td>\n",
       "    </tr>\n",
       "    <tr>\n",
       "      <th>11</th>\n",
       "      <td>other</td>\n",
       "      <td>10094</td>\n",
       "      <td>11.353309</td>\n",
       "    </tr>\n",
       "    <tr>\n",
       "      <th>4</th>\n",
       "      <td>FR</td>\n",
       "      <td>5023</td>\n",
       "      <td>5.649660</td>\n",
       "    </tr>\n",
       "    <tr>\n",
       "      <th>6</th>\n",
       "      <td>IT</td>\n",
       "      <td>2835</td>\n",
       "      <td>3.188689</td>\n",
       "    </tr>\n",
       "    <tr>\n",
       "      <th>5</th>\n",
       "      <td>GB</td>\n",
       "      <td>2324</td>\n",
       "      <td>2.613938</td>\n",
       "    </tr>\n",
       "    <tr>\n",
       "      <th>3</th>\n",
       "      <td>ES</td>\n",
       "      <td>2249</td>\n",
       "      <td>2.529581</td>\n",
       "    </tr>\n",
       "    <tr>\n",
       "      <th>1</th>\n",
       "      <td>CA</td>\n",
       "      <td>1428</td>\n",
       "      <td>1.606155</td>\n",
       "    </tr>\n",
       "    <tr>\n",
       "      <th>2</th>\n",
       "      <td>DE</td>\n",
       "      <td>1061</td>\n",
       "      <td>1.193368</td>\n",
       "    </tr>\n",
       "    <tr>\n",
       "      <th>8</th>\n",
       "      <td>NL</td>\n",
       "      <td>762</td>\n",
       "      <td>0.857066</td>\n",
       "    </tr>\n",
       "    <tr>\n",
       "      <th>0</th>\n",
       "      <td>AU</td>\n",
       "      <td>539</td>\n",
       "      <td>0.606245</td>\n",
       "    </tr>\n",
       "    <tr>\n",
       "      <th>9</th>\n",
       "      <td>PT</td>\n",
       "      <td>217</td>\n",
       "      <td>0.244073</td>\n",
       "    </tr>\n",
       "  </tbody>\n",
       "</table>\n",
       "</div>"
      ],
      "text/plain": [
       "   country_destination     id  pct_of_total\n",
       "10                  US  62376     70.157916\n",
       "11               other  10094     11.353309\n",
       "4                   FR   5023      5.649660\n",
       "6                   IT   2835      3.188689\n",
       "5                   GB   2324      2.613938\n",
       "3                   ES   2249      2.529581\n",
       "1                   CA   1428      1.606155\n",
       "2                   DE   1061      1.193368\n",
       "8                   NL    762      0.857066\n",
       "0                   AU    539      0.606245\n",
       "9                   PT    217      0.244073"
      ]
     },
     "execution_count": 266,
     "metadata": {},
     "output_type": "execute_result"
    }
   ],
   "source": [
    "dest_bookings = df.groupby(['country_destination'])['id'].count().reset_index()\n",
    "dest_bookings = dest_bookings[dest_bookings['country_destination'] != 'NDF']\n",
    "dest_bookings['pct_of_total'] = [(x/dest_bookings['id'].sum())*100 for x in dest_bookings['id']]\n",
    "dest_bookings = dest_bookings.sort_values(by='pct_of_total', ascending = False)\n",
    "dest_bookings"
   ]
  },
  {
   "cell_type": "markdown",
   "metadata": {},
   "source": [
    "**Create two target classes (USA/Canada vs. rest of world)**"
   ]
  },
  {
   "cell_type": "code",
   "execution_count": 267,
   "metadata": {},
   "outputs": [
    {
     "data": {
      "text/plain": [
       "array(['US', 'other', 'FR', 'IT', 'GB', 'ES', 'CA', 'DE', 'NL', 'AU',\n",
       "       'PT'], dtype=object)"
      ]
     },
     "execution_count": 267,
     "metadata": {},
     "output_type": "execute_result"
    }
   ],
   "source": [
    "dest_bookings.country_destination.unique()"
   ]
  },
  {
   "cell_type": "code",
   "execution_count": 268,
   "metadata": {},
   "outputs": [],
   "source": [
    "dest_dict = {'US': 'USA', 'other':'WLD', 'FR':'WLD', 'IT':'WLD', \n",
    "             'GB':'WLD', 'ES':'WLD', 'CA':'USA', 'DE':'WLD', 'NL':'WLD', 'AU':'WLD','PT':'WLD'}\n",
    "dest_bi = {'USA':1, 'WLD':0}"
   ]
  },
  {
   "cell_type": "code",
   "execution_count": 269,
   "metadata": {},
   "outputs": [],
   "source": [
    "df['country_USA_World'] = df['country_destination'].map(dest_dict)\n",
    "df['country_USA_World_bi'] = df['country_USA_World'].map(dest_bi)"
   ]
  },
  {
   "cell_type": "code",
   "execution_count": 270,
   "metadata": {
    "scrolled": true
   },
   "outputs": [
    {
     "data": {
      "text/plain": [
       "1.0    0.717641\n",
       "0.0    0.282359\n",
       "Name: country_USA_World_bi, dtype: float64"
      ]
     },
     "execution_count": 270,
     "metadata": {},
     "output_type": "execute_result"
    }
   ],
   "source": [
    "df['country_USA_World_bi'].value_counts()/df['country_USA_World_bi'].value_counts().sum()"
   ]
  },
  {
   "cell_type": "markdown",
   "metadata": {},
   "source": [
    "**Define X features and y target**"
   ]
  },
  {
   "cell_type": "code",
   "execution_count": 271,
   "metadata": {},
   "outputs": [],
   "source": [
    "#df.columns"
   ]
  },
  {
   "cell_type": "code",
   "execution_count": 272,
   "metadata": {
    "scrolled": false
   },
   "outputs": [
    {
     "data": {
      "text/html": [
       "<div>\n",
       "<style scoped>\n",
       "    .dataframe tbody tr th:only-of-type {\n",
       "        vertical-align: middle;\n",
       "    }\n",
       "\n",
       "    .dataframe tbody tr th {\n",
       "        vertical-align: top;\n",
       "    }\n",
       "\n",
       "    .dataframe thead th {\n",
       "        text-align: right;\n",
       "    }\n",
       "</style>\n",
       "<table border=\"1\" class=\"dataframe\">\n",
       "  <thead>\n",
       "    <tr style=\"text-align: right;\">\n",
       "      <th></th>\n",
       "      <th>id</th>\n",
       "      <th>date_account_created</th>\n",
       "      <th>timestamp_first_active</th>\n",
       "      <th>date_first_booking</th>\n",
       "      <th>gender</th>\n",
       "      <th>age</th>\n",
       "      <th>signup_method</th>\n",
       "      <th>signup_flow</th>\n",
       "      <th>language</th>\n",
       "      <th>affiliate_channel</th>\n",
       "      <th>...</th>\n",
       "      <th>signup_app_2_ios</th>\n",
       "      <th>signup_app_2_moweb</th>\n",
       "      <th>secs_elapsed_mean</th>\n",
       "      <th>secs_elapsed_std</th>\n",
       "      <th>num_different_devices</th>\n",
       "      <th>num_different_actions</th>\n",
       "      <th>num_sessions</th>\n",
       "      <th>first_action_type</th>\n",
       "      <th>country_USA_World</th>\n",
       "      <th>country_USA_World_bi</th>\n",
       "    </tr>\n",
       "  </thead>\n",
       "  <tbody>\n",
       "    <tr>\n",
       "      <th>0</th>\n",
       "      <td>gxn3p5htnn</td>\n",
       "      <td>2010-06-28</td>\n",
       "      <td>2009-03-19 04:32:55</td>\n",
       "      <td>NaT</td>\n",
       "      <td>unknown</td>\n",
       "      <td>NaN</td>\n",
       "      <td>facebook</td>\n",
       "      <td>0.0</td>\n",
       "      <td>en</td>\n",
       "      <td>direct</td>\n",
       "      <td>...</td>\n",
       "      <td>0</td>\n",
       "      <td>0</td>\n",
       "      <td>NaN</td>\n",
       "      <td>NaN</td>\n",
       "      <td>NaN</td>\n",
       "      <td>NaN</td>\n",
       "      <td>NaN</td>\n",
       "      <td>NaN</td>\n",
       "      <td>NaN</td>\n",
       "      <td>NaN</td>\n",
       "    </tr>\n",
       "  </tbody>\n",
       "</table>\n",
       "<p>1 rows × 91 columns</p>\n",
       "</div>"
      ],
      "text/plain": [
       "           id date_account_created timestamp_first_active date_first_booking  \\\n",
       "0  gxn3p5htnn           2010-06-28    2009-03-19 04:32:55                NaT   \n",
       "\n",
       "    gender  age signup_method  signup_flow language affiliate_channel  ...  \\\n",
       "0  unknown  NaN      facebook          0.0       en            direct  ...   \n",
       "\n",
       "  signup_app_2_ios signup_app_2_moweb secs_elapsed_mean secs_elapsed_std  \\\n",
       "0                0                  0               NaN              NaN   \n",
       "\n",
       "  num_different_devices num_different_actions num_sessions  first_action_type  \\\n",
       "0                   NaN                   NaN          NaN                NaN   \n",
       "\n",
       "   country_USA_World  country_USA_World_bi  \n",
       "0                NaN                   NaN  \n",
       "\n",
       "[1 rows x 91 columns]"
      ]
     },
     "execution_count": 272,
     "metadata": {},
     "output_type": "execute_result"
    }
   ],
   "source": [
    "df.head(1)"
   ]
  },
  {
   "cell_type": "code",
   "execution_count": 273,
   "metadata": {},
   "outputs": [],
   "source": [
    "#df.dtypes"
   ]
  },
  {
   "cell_type": "code",
   "execution_count": 274,
   "metadata": {},
   "outputs": [],
   "source": [
    "numerics = ['int16', 'int32', 'int64', 'float16', 'float32', 'float64', 'uint8']\n",
    "\n",
    "X = df.select_dtypes(include=numerics)\n",
    "X = X.drop(['country_dest_id','country_USA_World_bi'], axis = 1)"
   ]
  },
  {
   "cell_type": "code",
   "execution_count": 275,
   "metadata": {
    "scrolled": true
   },
   "outputs": [
    {
     "data": {
      "text/plain": [
       "Index(['age', 'signup_flow', 'gender_female', 'gender_male', 'gender_other',\n",
       "       'signup_method_basic', 'signup_method_facebook', 'language_ca',\n",
       "       'language_cs', 'language_da', 'language_de', 'language_el',\n",
       "       'language_en', 'language_es', 'language_fi', 'language_fr',\n",
       "       'language_hr', 'language_hu', 'language_id', 'language_is',\n",
       "       'language_it', 'language_ja', 'language_ko', 'language_nl',\n",
       "       'language_no', 'language_pl', 'language_pt', 'language_ru',\n",
       "       'language_sv', 'language_th', 'language_tr', 'year_created',\n",
       "       'month_created', 'day_created', 'year_active', 'month_active',\n",
       "       'day_active', 'year_first_booking', 'month_first_booking',\n",
       "       'day_first_booking', 'lag_book_create', 'lag_active_create',\n",
       "       'affiliate_channel_2_brand', 'affiliate_channel_2_direct',\n",
       "       'affiliate_provider_2_direct', 'affiliate_provider_2_google',\n",
       "       'first_affiliate_tracked_2_linked', 'first_affiliate_tracked_2_omg',\n",
       "       'first_affiliate_tracked_2_other', 'first_device_type_2_android',\n",
       "       'first_device_type_2_ipad', 'first_device_type_2_iphone',\n",
       "       'first_device_type_2_mac desktop', 'first_device_type_2_other',\n",
       "       'first_browser_2_chrome', 'first_browser_2_firefox',\n",
       "       'first_browser_2_ie', 'first_browser_2_other', 'signup_app_2_android',\n",
       "       'signup_app_2_ios', 'signup_app_2_moweb', 'secs_elapsed_mean',\n",
       "       'secs_elapsed_std', 'num_different_devices', 'num_different_actions',\n",
       "       'num_sessions'],\n",
       "      dtype='object')"
      ]
     },
     "execution_count": 275,
     "metadata": {},
     "output_type": "execute_result"
    }
   ],
   "source": [
    "X.columns"
   ]
  },
  {
   "cell_type": "code",
   "execution_count": 276,
   "metadata": {},
   "outputs": [],
   "source": [
    "y_bi = df['country_USA_World_bi']\n",
    "y_mlt = df['country_dest_id']       "
   ]
  },
  {
   "cell_type": "markdown",
   "metadata": {},
   "source": [
    "**What do do about null values?**"
   ]
  },
  {
   "cell_type": "code",
   "execution_count": 277,
   "metadata": {
    "scrolled": true
   },
   "outputs": [
    {
     "data": {
      "text/plain": [
       "count    122659.000000\n",
       "mean         36.438036\n",
       "std          11.355767\n",
       "min          18.000000\n",
       "25%          28.000000\n",
       "50%          33.000000\n",
       "75%          42.000000\n",
       "max          85.000000\n",
       "Name: age, dtype: float64"
      ]
     },
     "execution_count": 277,
     "metadata": {},
     "output_type": "execute_result"
    }
   ],
   "source": [
    "#df['age'] = pd.to_numeric(df['age'], errors = 'coerce')\n",
    "#df.loc[df.age > 100, 'age'] = np.nan\n",
    "#df.loc[df.age < 16, 'age'] = np.nan\n",
    "#df = df.fillna(median,inplace=True)\n",
    "\n",
    "df['age'].describe()"
   ]
  },
  {
   "cell_type": "code",
   "execution_count": 278,
   "metadata": {},
   "outputs": [
    {
     "data": {
      "text/plain": [
       "213451"
      ]
     },
     "execution_count": 278,
     "metadata": {},
     "output_type": "execute_result"
    }
   ],
   "source": [
    "# Number of rows\n",
    "len(df)"
   ]
  },
  {
   "cell_type": "code",
   "execution_count": 279,
   "metadata": {},
   "outputs": [
    {
     "data": {
      "text/plain": [
       "140820"
      ]
     },
     "execution_count": 279,
     "metadata": {},
     "output_type": "execute_result"
    }
   ],
   "source": [
    "# No data from sessions\n",
    "df1 = df[df.secs_elapsed_mean.isna() == True]\n",
    "len(df1)"
   ]
  },
  {
   "cell_type": "code",
   "execution_count": 280,
   "metadata": {},
   "outputs": [
    {
     "data": {
      "text/plain": [
       "32380"
      ]
     },
     "execution_count": 280,
     "metadata": {},
     "output_type": "execute_result"
    }
   ],
   "source": [
    "# Predicting data: sessions info but no age\n",
    "df2 = df[(df.secs_elapsed_mean.isna() == False) & (df.age.isna() == True)]\n",
    "len(df2)"
   ]
  },
  {
   "cell_type": "code",
   "execution_count": 281,
   "metadata": {},
   "outputs": [
    {
     "data": {
      "text/plain": [
       "40251"
      ]
     },
     "execution_count": 281,
     "metadata": {},
     "output_type": "execute_result"
    }
   ],
   "source": [
    "# Training data: sessions info and age\n",
    "df3 = df[(df.secs_elapsed_mean.isna() == False) & (df.age.isna() == False)]\n",
    "len(df3)"
   ]
  },
  {
   "cell_type": "code",
   "execution_count": 282,
   "metadata": {},
   "outputs": [
    {
     "data": {
      "text/plain": [
       "1.0"
      ]
     },
     "execution_count": 282,
     "metadata": {},
     "output_type": "execute_result"
    }
   ],
   "source": [
    "(len(df1)+len(df2)+len(df3))/len(df)"
   ]
  },
  {
   "cell_type": "code",
   "execution_count": 283,
   "metadata": {},
   "outputs": [],
   "source": [
    "age_reg = LinearRegression()\n",
    "def mae(y_true, y_pred):\n",
    "    return np.mean(np.abs(y_pred - y_true)) \n",
    "\n",
    "def r2_adj(X,Y,r_squared):\n",
    "    adjusted_r_squared = 1 - (1-r_squared)*(len(y)-1)/(len(y)-X.shape[1]-1)\n",
    "    return(adjusted_r_squared)\n",
    "\n",
    "from statistics import mean"
   ]
  },
  {
   "cell_type": "code",
   "execution_count": 284,
   "metadata": {},
   "outputs": [
    {
     "name": "stdout",
     "output_type": "stream",
     "text": [
      "18541 21710\n"
     ]
    }
   ],
   "source": [
    "df_train_age = df3.drop(['year_first_booking',\n",
    "                  'month_first_booking',\n",
    "                  'day_first_booking',\n",
    "                  'lag_book_create'], axis = 1)\n",
    "df3_no_na = df_train_age[df_train_age.isnull().any(1) == False ]\n",
    "df3_w_na = df_train_age[df_train_age.isnull().any(1) == True ]\n",
    "print(len(df3_no_na), len(df3_w_na))"
   ]
  },
  {
   "cell_type": "code",
   "execution_count": 285,
   "metadata": {
    "scrolled": true
   },
   "outputs": [
    {
     "name": "stderr",
     "output_type": "stream",
     "text": [
      "/anaconda3/lib/python3.6/site-packages/numpy/core/fromnumeric.py:2223: FutureWarning: Method .ptp is deprecated and will be removed in a future version. Use numpy.ptp instead.\n",
      "  return ptp(axis=axis, out=out, **kwargs)\n"
     ]
    }
   ],
   "source": [
    "\n",
    "age_reg_X = sm.add_constant(df3_no_na.drop('age', axis=1), has_constant='add')\n",
    "age_reg_y = df3_no_na['age']"
   ]
  },
  {
   "cell_type": "code",
   "execution_count": 286,
   "metadata": {},
   "outputs": [],
   "source": [
    "age_reg_X = age_reg_X.select_dtypes(include=numerics)"
   ]
  },
  {
   "cell_type": "code",
   "execution_count": 287,
   "metadata": {},
   "outputs": [
    {
     "data": {
      "text/html": [
       "<div>\n",
       "<style scoped>\n",
       "    .dataframe tbody tr th:only-of-type {\n",
       "        vertical-align: middle;\n",
       "    }\n",
       "\n",
       "    .dataframe tbody tr th {\n",
       "        vertical-align: top;\n",
       "    }\n",
       "\n",
       "    .dataframe thead th {\n",
       "        text-align: right;\n",
       "    }\n",
       "</style>\n",
       "<table border=\"1\" class=\"dataframe\">\n",
       "  <thead>\n",
       "    <tr style=\"text-align: right;\">\n",
       "      <th></th>\n",
       "      <th>const</th>\n",
       "      <th>signup_flow</th>\n",
       "      <th>gender_female</th>\n",
       "      <th>gender_male</th>\n",
       "      <th>gender_other</th>\n",
       "      <th>signup_method_basic</th>\n",
       "      <th>signup_method_facebook</th>\n",
       "      <th>language_ca</th>\n",
       "      <th>language_cs</th>\n",
       "      <th>language_da</th>\n",
       "      <th>...</th>\n",
       "      <th>first_browser_2_other</th>\n",
       "      <th>signup_app_2_android</th>\n",
       "      <th>signup_app_2_ios</th>\n",
       "      <th>signup_app_2_moweb</th>\n",
       "      <th>secs_elapsed_mean</th>\n",
       "      <th>secs_elapsed_std</th>\n",
       "      <th>num_different_devices</th>\n",
       "      <th>num_different_actions</th>\n",
       "      <th>num_sessions</th>\n",
       "      <th>country_USA_World_bi</th>\n",
       "    </tr>\n",
       "  </thead>\n",
       "  <tbody>\n",
       "    <tr>\n",
       "      <th>137027</th>\n",
       "      <td>1.0</td>\n",
       "      <td>0.0</td>\n",
       "      <td>1</td>\n",
       "      <td>0</td>\n",
       "      <td>0</td>\n",
       "      <td>0</td>\n",
       "      <td>1</td>\n",
       "      <td>0</td>\n",
       "      <td>0</td>\n",
       "      <td>0</td>\n",
       "      <td>...</td>\n",
       "      <td>1</td>\n",
       "      <td>0</td>\n",
       "      <td>0</td>\n",
       "      <td>0</td>\n",
       "      <td>8278.833333</td>\n",
       "      <td>18615.345653</td>\n",
       "      <td>2.0</td>\n",
       "      <td>4.0</td>\n",
       "      <td>7.0</td>\n",
       "      <td>1.0</td>\n",
       "    </tr>\n",
       "    <tr>\n",
       "      <th>137029</th>\n",
       "      <td>1.0</td>\n",
       "      <td>0.0</td>\n",
       "      <td>0</td>\n",
       "      <td>0</td>\n",
       "      <td>0</td>\n",
       "      <td>1</td>\n",
       "      <td>0</td>\n",
       "      <td>0</td>\n",
       "      <td>0</td>\n",
       "      <td>0</td>\n",
       "      <td>...</td>\n",
       "      <td>0</td>\n",
       "      <td>0</td>\n",
       "      <td>0</td>\n",
       "      <td>0</td>\n",
       "      <td>30580.976190</td>\n",
       "      <td>106557.129472</td>\n",
       "      <td>1.0</td>\n",
       "      <td>12.0</td>\n",
       "      <td>43.0</td>\n",
       "      <td>0.0</td>\n",
       "    </tr>\n",
       "    <tr>\n",
       "      <th>137032</th>\n",
       "      <td>1.0</td>\n",
       "      <td>0.0</td>\n",
       "      <td>1</td>\n",
       "      <td>0</td>\n",
       "      <td>0</td>\n",
       "      <td>0</td>\n",
       "      <td>1</td>\n",
       "      <td>0</td>\n",
       "      <td>0</td>\n",
       "      <td>0</td>\n",
       "      <td>...</td>\n",
       "      <td>1</td>\n",
       "      <td>0</td>\n",
       "      <td>0</td>\n",
       "      <td>0</td>\n",
       "      <td>52458.142857</td>\n",
       "      <td>128053.626024</td>\n",
       "      <td>2.0</td>\n",
       "      <td>7.0</td>\n",
       "      <td>8.0</td>\n",
       "      <td>1.0</td>\n",
       "    </tr>\n",
       "    <tr>\n",
       "      <th>137056</th>\n",
       "      <td>1.0</td>\n",
       "      <td>0.0</td>\n",
       "      <td>0</td>\n",
       "      <td>1</td>\n",
       "      <td>0</td>\n",
       "      <td>1</td>\n",
       "      <td>0</td>\n",
       "      <td>0</td>\n",
       "      <td>0</td>\n",
       "      <td>0</td>\n",
       "      <td>...</td>\n",
       "      <td>0</td>\n",
       "      <td>0</td>\n",
       "      <td>0</td>\n",
       "      <td>0</td>\n",
       "      <td>51844.500000</td>\n",
       "      <td>87349.723199</td>\n",
       "      <td>2.0</td>\n",
       "      <td>14.0</td>\n",
       "      <td>17.0</td>\n",
       "      <td>1.0</td>\n",
       "    </tr>\n",
       "    <tr>\n",
       "      <th>137057</th>\n",
       "      <td>1.0</td>\n",
       "      <td>0.0</td>\n",
       "      <td>1</td>\n",
       "      <td>0</td>\n",
       "      <td>0</td>\n",
       "      <td>1</td>\n",
       "      <td>0</td>\n",
       "      <td>0</td>\n",
       "      <td>0</td>\n",
       "      <td>0</td>\n",
       "      <td>...</td>\n",
       "      <td>0</td>\n",
       "      <td>0</td>\n",
       "      <td>0</td>\n",
       "      <td>0</td>\n",
       "      <td>55788.807018</td>\n",
       "      <td>145277.628453</td>\n",
       "      <td>1.0</td>\n",
       "      <td>18.0</td>\n",
       "      <td>58.0</td>\n",
       "      <td>1.0</td>\n",
       "    </tr>\n",
       "  </tbody>\n",
       "</table>\n",
       "<p>5 rows × 64 columns</p>\n",
       "</div>"
      ],
      "text/plain": [
       "        const  signup_flow  gender_female  gender_male  gender_other  \\\n",
       "137027    1.0          0.0              1            0             0   \n",
       "137029    1.0          0.0              0            0             0   \n",
       "137032    1.0          0.0              1            0             0   \n",
       "137056    1.0          0.0              0            1             0   \n",
       "137057    1.0          0.0              1            0             0   \n",
       "\n",
       "        signup_method_basic  signup_method_facebook  language_ca  language_cs  \\\n",
       "137027                    0                       1            0            0   \n",
       "137029                    1                       0            0            0   \n",
       "137032                    0                       1            0            0   \n",
       "137056                    1                       0            0            0   \n",
       "137057                    1                       0            0            0   \n",
       "\n",
       "        language_da  ...  first_browser_2_other  signup_app_2_android  \\\n",
       "137027            0  ...                      1                     0   \n",
       "137029            0  ...                      0                     0   \n",
       "137032            0  ...                      1                     0   \n",
       "137056            0  ...                      0                     0   \n",
       "137057            0  ...                      0                     0   \n",
       "\n",
       "        signup_app_2_ios  signup_app_2_moweb  secs_elapsed_mean  \\\n",
       "137027                 0                   0        8278.833333   \n",
       "137029                 0                   0       30580.976190   \n",
       "137032                 0                   0       52458.142857   \n",
       "137056                 0                   0       51844.500000   \n",
       "137057                 0                   0       55788.807018   \n",
       "\n",
       "        secs_elapsed_std  num_different_devices  num_different_actions  \\\n",
       "137027      18615.345653                    2.0                    4.0   \n",
       "137029     106557.129472                    1.0                   12.0   \n",
       "137032     128053.626024                    2.0                    7.0   \n",
       "137056      87349.723199                    2.0                   14.0   \n",
       "137057     145277.628453                    1.0                   18.0   \n",
       "\n",
       "        num_sessions  country_USA_World_bi  \n",
       "137027           7.0                   1.0  \n",
       "137029          43.0                   0.0  \n",
       "137032           8.0                   1.0  \n",
       "137056          17.0                   1.0  \n",
       "137057          58.0                   1.0  \n",
       "\n",
       "[5 rows x 64 columns]"
      ]
     },
     "execution_count": 287,
     "metadata": {},
     "output_type": "execute_result"
    }
   ],
   "source": [
    "age_reg_X.head()"
   ]
  },
  {
   "cell_type": "code",
   "execution_count": 288,
   "metadata": {},
   "outputs": [
    {
     "data": {
      "text/plain": [
       "0.0"
      ]
     },
     "execution_count": 288,
     "metadata": {},
     "output_type": "execute_result"
    }
   ],
   "source": [
    "nan_rows = age_reg_X[age_reg_X.isnull().any(1)]\n",
    "len(nan_rows)/len(age_reg_X)"
   ]
  },
  {
   "cell_type": "code",
   "execution_count": 289,
   "metadata": {},
   "outputs": [
    {
     "data": {
      "text/plain": [
       "(18541, 64)"
      ]
     },
     "execution_count": 289,
     "metadata": {},
     "output_type": "execute_result"
    }
   ],
   "source": [
    "age_reg_X.shape"
   ]
  },
  {
   "cell_type": "code",
   "execution_count": 290,
   "metadata": {},
   "outputs": [
    {
     "data": {
      "text/plain": [
       "(18541,)"
      ]
     },
     "execution_count": 290,
     "metadata": {},
     "output_type": "execute_result"
    }
   ],
   "source": [
    "age_reg_y.shape"
   ]
  },
  {
   "cell_type": "code",
   "execution_count": 291,
   "metadata": {},
   "outputs": [],
   "source": [
    "#(age_reg_X.isna().sum())/len(age_reg_X)"
   ]
  },
  {
   "cell_type": "code",
   "execution_count": 292,
   "metadata": {},
   "outputs": [],
   "source": [
    "X_train_age, X_test_age, y_train_age, y_test_age = train_test_split(age_reg_X, age_reg_y, test_size=.2, random_state=10)\n",
    "\n",
    "\n",
    "from sklearn.model_selection import KFold\n",
    "kf = KFold(n_splits=3, shuffle=True, random_state = 101)"
   ]
  },
  {
   "cell_type": "code",
   "execution_count": 293,
   "metadata": {},
   "outputs": [
    {
     "data": {
      "text/html": [
       "<table class=\"simpletable\">\n",
       "<caption>OLS Regression Results</caption>\n",
       "<tr>\n",
       "  <th>Dep. Variable:</th>           <td>age</td>       <th>  R-squared:         </th> <td>   0.093</td> \n",
       "</tr>\n",
       "<tr>\n",
       "  <th>Model:</th>                   <td>OLS</td>       <th>  Adj. R-squared:    </th> <td>   0.090</td> \n",
       "</tr>\n",
       "<tr>\n",
       "  <th>Method:</th>             <td>Least Squares</td>  <th>  F-statistic:       </th> <td>   29.84</td> \n",
       "</tr>\n",
       "<tr>\n",
       "  <th>Date:</th>             <td>Tue, 05 Feb 2019</td> <th>  Prob (F-statistic):</th> <td>4.04e-270</td>\n",
       "</tr>\n",
       "<tr>\n",
       "  <th>Time:</th>                 <td>15:39:58</td>     <th>  Log-Likelihood:    </th> <td> -56274.</td> \n",
       "</tr>\n",
       "<tr>\n",
       "  <th>No. Observations:</th>      <td> 14832</td>      <th>  AIC:               </th> <td>1.127e+05</td>\n",
       "</tr>\n",
       "<tr>\n",
       "  <th>Df Residuals:</th>          <td> 14780</td>      <th>  BIC:               </th> <td>1.130e+05</td>\n",
       "</tr>\n",
       "<tr>\n",
       "  <th>Df Model:</th>              <td>    51</td>      <th>                     </th>     <td> </td>    \n",
       "</tr>\n",
       "<tr>\n",
       "  <th>Covariance Type:</th>      <td>nonrobust</td>    <th>                     </th>     <td> </td>    \n",
       "</tr>\n",
       "</table>\n",
       "<table class=\"simpletable\">\n",
       "<tr>\n",
       "                  <td></td>                    <th>coef</th>     <th>std err</th>      <th>t</th>      <th>P>|t|</th>  <th>[0.025</th>    <th>0.975]</th>  \n",
       "</tr>\n",
       "<tr>\n",
       "  <th>const</th>                            <td> 4.226e-06</td> <td> 2.45e-07</td> <td>   17.259</td> <td> 0.000</td> <td> 3.75e-06</td> <td> 4.71e-06</td>\n",
       "</tr>\n",
       "<tr>\n",
       "  <th>signup_flow</th>                      <td>   -0.0055</td> <td>    0.034</td> <td>   -0.161</td> <td> 0.872</td> <td>   -0.073</td> <td>    0.062</td>\n",
       "</tr>\n",
       "<tr>\n",
       "  <th>gender_female</th>                    <td>   -0.9961</td> <td>    0.248</td> <td>   -4.025</td> <td> 0.000</td> <td>   -1.481</td> <td>   -0.511</td>\n",
       "</tr>\n",
       "<tr>\n",
       "  <th>gender_male</th>                      <td>    0.5116</td> <td>    0.255</td> <td>    2.005</td> <td> 0.045</td> <td>    0.012</td> <td>    1.012</td>\n",
       "</tr>\n",
       "<tr>\n",
       "  <th>gender_other</th>                     <td>   -0.2514</td> <td>    1.949</td> <td>   -0.129</td> <td> 0.897</td> <td>   -4.071</td> <td>    3.568</td>\n",
       "</tr>\n",
       "<tr>\n",
       "  <th>signup_method_basic</th>              <td>   -0.6562</td> <td>    1.546</td> <td>   -0.425</td> <td> 0.671</td> <td>   -3.686</td> <td>    2.374</td>\n",
       "</tr>\n",
       "<tr>\n",
       "  <th>signup_method_facebook</th>           <td>   -2.6508</td> <td>    1.549</td> <td>   -1.711</td> <td> 0.087</td> <td>   -5.687</td> <td>    0.385</td>\n",
       "</tr>\n",
       "<tr>\n",
       "  <th>language_ca</th>                      <td>-7.581e-10</td> <td> 7.87e-10</td> <td>   -0.963</td> <td> 0.336</td> <td> -2.3e-09</td> <td> 7.85e-10</td>\n",
       "</tr>\n",
       "<tr>\n",
       "  <th>language_cs</th>                      <td> 6.816e-12</td> <td> 1.42e-11</td> <td>    0.479</td> <td> 0.632</td> <td>-2.11e-11</td> <td> 3.47e-11</td>\n",
       "</tr>\n",
       "<tr>\n",
       "  <th>language_da</th>                      <td>-1.152e-10</td> <td> 8.38e-11</td> <td>   -1.374</td> <td> 0.169</td> <td> -2.8e-10</td> <td> 4.91e-11</td>\n",
       "</tr>\n",
       "<tr>\n",
       "  <th>language_de</th>                      <td>    0.4916</td> <td>    1.838</td> <td>    0.268</td> <td> 0.789</td> <td>   -3.110</td> <td>    4.093</td>\n",
       "</tr>\n",
       "<tr>\n",
       "  <th>language_el</th>                      <td>    1.1241</td> <td>    5.472</td> <td>    0.205</td> <td> 0.837</td> <td>   -9.601</td> <td>   11.849</td>\n",
       "</tr>\n",
       "<tr>\n",
       "  <th>language_en</th>                      <td>    4.0174</td> <td>    0.951</td> <td>    4.223</td> <td> 0.000</td> <td>    2.153</td> <td>    5.882</td>\n",
       "</tr>\n",
       "<tr>\n",
       "  <th>language_es</th>                      <td>    2.5973</td> <td>    1.899</td> <td>    1.368</td> <td> 0.171</td> <td>   -1.124</td> <td>    6.319</td>\n",
       "</tr>\n",
       "<tr>\n",
       "  <th>language_fi</th>                      <td>    5.5399</td> <td>    7.686</td> <td>    0.721</td> <td> 0.471</td> <td>   -9.525</td> <td>   20.605</td>\n",
       "</tr>\n",
       "<tr>\n",
       "  <th>language_fr</th>                      <td>   -3.4612</td> <td>    1.771</td> <td>   -1.955</td> <td> 0.051</td> <td>   -6.932</td> <td>    0.009</td>\n",
       "</tr>\n",
       "<tr>\n",
       "  <th>language_hr</th>                      <td>-2.923e-09</td> <td> 4.02e-09</td> <td>   -0.728</td> <td> 0.467</td> <td>-1.08e-08</td> <td> 4.95e-09</td>\n",
       "</tr>\n",
       "<tr>\n",
       "  <th>language_hu</th>                      <td>   -2.7572</td> <td>   10.823</td> <td>   -0.255</td> <td> 0.799</td> <td>  -23.972</td> <td>   18.458</td>\n",
       "</tr>\n",
       "<tr>\n",
       "  <th>language_id</th>                      <td> 3.071e-14</td> <td> 4.49e-14</td> <td>    0.683</td> <td> 0.494</td> <td>-5.74e-14</td> <td> 1.19e-13</td>\n",
       "</tr>\n",
       "<tr>\n",
       "  <th>language_is</th>                      <td> 4.351e-14</td> <td> 3.48e-14</td> <td>    1.251</td> <td> 0.211</td> <td>-2.47e-14</td> <td> 1.12e-13</td>\n",
       "</tr>\n",
       "<tr>\n",
       "  <th>language_it</th>                      <td>    0.4587</td> <td>    2.787</td> <td>    0.165</td> <td> 0.869</td> <td>   -5.004</td> <td>    5.921</td>\n",
       "</tr>\n",
       "<tr>\n",
       "  <th>language_ja</th>                      <td>    3.2982</td> <td>    3.033</td> <td>    1.088</td> <td> 0.277</td> <td>   -2.646</td> <td>    9.243</td>\n",
       "</tr>\n",
       "<tr>\n",
       "  <th>language_ko</th>                      <td>   -0.6284</td> <td>    1.934</td> <td>   -0.325</td> <td> 0.745</td> <td>   -4.419</td> <td>    3.162</td>\n",
       "</tr>\n",
       "<tr>\n",
       "  <th>language_nl</th>                      <td>    6.3724</td> <td>    5.474</td> <td>    1.164</td> <td> 0.244</td> <td>   -4.357</td> <td>   17.101</td>\n",
       "</tr>\n",
       "<tr>\n",
       "  <th>language_no</th>                      <td>   10.7075</td> <td>   10.853</td> <td>    0.987</td> <td> 0.324</td> <td>  -10.565</td> <td>   31.980</td>\n",
       "</tr>\n",
       "<tr>\n",
       "  <th>language_pl</th>                      <td>    0.2911</td> <td>   10.819</td> <td>    0.027</td> <td> 0.979</td> <td>  -20.916</td> <td>   21.498</td>\n",
       "</tr>\n",
       "<tr>\n",
       "  <th>language_pt</th>                      <td>    3.5829</td> <td>    3.137</td> <td>    1.142</td> <td> 0.253</td> <td>   -2.567</td> <td>    9.732</td>\n",
       "</tr>\n",
       "<tr>\n",
       "  <th>language_ru</th>                      <td>   -0.5323</td> <td>    2.942</td> <td>   -0.181</td> <td> 0.856</td> <td>   -6.299</td> <td>    5.234</td>\n",
       "</tr>\n",
       "<tr>\n",
       "  <th>language_sv</th>                      <td>    6.2432</td> <td>    4.914</td> <td>    1.271</td> <td> 0.204</td> <td>   -3.388</td> <td>   15.875</td>\n",
       "</tr>\n",
       "<tr>\n",
       "  <th>language_th</th>                      <td>   -4.9428</td> <td>   10.819</td> <td>   -0.457</td> <td> 0.648</td> <td>  -26.150</td> <td>   16.265</td>\n",
       "</tr>\n",
       "<tr>\n",
       "  <th>language_tr</th>                      <td>   -0.5270</td> <td>    7.681</td> <td>   -0.069</td> <td> 0.945</td> <td>  -15.582</td> <td>   14.528</td>\n",
       "</tr>\n",
       "<tr>\n",
       "  <th>country_dest_id</th>                  <td>    0.0251</td> <td>    0.065</td> <td>    0.385</td> <td> 0.700</td> <td>   -0.103</td> <td>    0.153</td>\n",
       "</tr>\n",
       "<tr>\n",
       "  <th>year_created</th>                     <td>    0.0085</td> <td>    0.000</td> <td>   17.259</td> <td> 0.000</td> <td>    0.008</td> <td>    0.009</td>\n",
       "</tr>\n",
       "<tr>\n",
       "  <th>month_created</th>                    <td>   -0.0564</td> <td>    0.027</td> <td>   -2.053</td> <td> 0.040</td> <td>   -0.110</td> <td>   -0.003</td>\n",
       "</tr>\n",
       "<tr>\n",
       "  <th>day_created</th>                      <td>    0.0870</td> <td>    0.023</td> <td>    3.799</td> <td> 0.000</td> <td>    0.042</td> <td>    0.132</td>\n",
       "</tr>\n",
       "<tr>\n",
       "  <th>year_active</th>                      <td>    0.0085</td> <td>    0.000</td> <td>   17.259</td> <td> 0.000</td> <td>    0.008</td> <td>    0.009</td>\n",
       "</tr>\n",
       "<tr>\n",
       "  <th>month_active</th>                     <td>   -0.0564</td> <td>    0.027</td> <td>   -2.053</td> <td> 0.040</td> <td>   -0.110</td> <td>   -0.003</td>\n",
       "</tr>\n",
       "<tr>\n",
       "  <th>day_active</th>                       <td>    0.0870</td> <td>    0.023</td> <td>    3.799</td> <td> 0.000</td> <td>    0.042</td> <td>    0.132</td>\n",
       "</tr>\n",
       "<tr>\n",
       "  <th>lag_active_create</th>                <td>-4.226e-06</td> <td> 2.45e-07</td> <td>  -17.259</td> <td> 0.000</td> <td>-4.71e-06</td> <td>-3.75e-06</td>\n",
       "</tr>\n",
       "<tr>\n",
       "  <th>affiliate_channel_2_brand</th>        <td>    1.3757</td> <td>    0.449</td> <td>    3.065</td> <td> 0.002</td> <td>    0.496</td> <td>    2.256</td>\n",
       "</tr>\n",
       "<tr>\n",
       "  <th>affiliate_channel_2_direct</th>       <td>    0.3110</td> <td>    0.218</td> <td>    1.427</td> <td> 0.154</td> <td>   -0.116</td> <td>    0.738</td>\n",
       "</tr>\n",
       "<tr>\n",
       "  <th>affiliate_provider_2_direct</th>      <td>    0.3110</td> <td>    0.218</td> <td>    1.427</td> <td> 0.154</td> <td>   -0.116</td> <td>    0.738</td>\n",
       "</tr>\n",
       "<tr>\n",
       "  <th>affiliate_provider_2_google</th>      <td>    1.3190</td> <td>    0.516</td> <td>    2.557</td> <td> 0.011</td> <td>    0.308</td> <td>    2.330</td>\n",
       "</tr>\n",
       "<tr>\n",
       "  <th>first_affiliate_tracked_2_linked</th> <td>    0.3134</td> <td>    0.242</td> <td>    1.293</td> <td> 0.196</td> <td>   -0.162</td> <td>    0.788</td>\n",
       "</tr>\n",
       "<tr>\n",
       "  <th>first_affiliate_tracked_2_omg</th>    <td>    1.8325</td> <td>    0.319</td> <td>    5.738</td> <td> 0.000</td> <td>    1.206</td> <td>    2.458</td>\n",
       "</tr>\n",
       "<tr>\n",
       "  <th>first_affiliate_tracked_2_other</th>  <td>   -0.6574</td> <td>    0.578</td> <td>   -1.137</td> <td> 0.255</td> <td>   -1.790</td> <td>    0.476</td>\n",
       "</tr>\n",
       "<tr>\n",
       "  <th>first_device_type_2_android</th>      <td>   -0.5365</td> <td>    0.852</td> <td>   -0.629</td> <td> 0.529</td> <td>   -2.207</td> <td>    1.134</td>\n",
       "</tr>\n",
       "<tr>\n",
       "  <th>first_device_type_2_ipad</th>         <td>    3.1743</td> <td>    1.058</td> <td>    2.999</td> <td> 0.003</td> <td>    1.100</td> <td>    5.249</td>\n",
       "</tr>\n",
       "<tr>\n",
       "  <th>first_device_type_2_iphone</th>       <td>   -0.6533</td> <td>    1.069</td> <td>   -0.611</td> <td> 0.541</td> <td>   -2.749</td> <td>    1.443</td>\n",
       "</tr>\n",
       "<tr>\n",
       "  <th>first_device_type_2_mac desktop</th>  <td>   -2.1567</td> <td>    0.247</td> <td>   -8.736</td> <td> 0.000</td> <td>   -2.641</td> <td>   -1.673</td>\n",
       "</tr>\n",
       "<tr>\n",
       "  <th>first_device_type_2_other</th>        <td>   -1.9460</td> <td>    0.862</td> <td>   -2.257</td> <td> 0.024</td> <td>   -3.636</td> <td>   -0.256</td>\n",
       "</tr>\n",
       "<tr>\n",
       "  <th>first_browser_2_chrome</th>           <td>   -3.8549</td> <td>    0.280</td> <td>  -13.768</td> <td> 0.000</td> <td>   -4.404</td> <td>   -3.306</td>\n",
       "</tr>\n",
       "<tr>\n",
       "  <th>first_browser_2_firefox</th>          <td>    0.7804</td> <td>    0.330</td> <td>    2.364</td> <td> 0.018</td> <td>    0.133</td> <td>    1.427</td>\n",
       "</tr>\n",
       "<tr>\n",
       "  <th>first_browser_2_ie</th>               <td>    2.3651</td> <td>    0.468</td> <td>    5.054</td> <td> 0.000</td> <td>    1.448</td> <td>    3.282</td>\n",
       "</tr>\n",
       "<tr>\n",
       "  <th>first_browser_2_other</th>            <td>   -2.3002</td> <td>    1.033</td> <td>   -2.227</td> <td> 0.026</td> <td>   -4.324</td> <td>   -0.276</td>\n",
       "</tr>\n",
       "<tr>\n",
       "  <th>signup_app_2_android</th>             <td>    0.6154</td> <td>    1.144</td> <td>    0.538</td> <td> 0.591</td> <td>   -1.627</td> <td>    2.858</td>\n",
       "</tr>\n",
       "<tr>\n",
       "  <th>signup_app_2_ios</th>                 <td>   -1.5829</td> <td>    0.909</td> <td>   -1.742</td> <td> 0.082</td> <td>   -3.364</td> <td>    0.198</td>\n",
       "</tr>\n",
       "<tr>\n",
       "  <th>signup_app_2_moweb</th>               <td>   -2.6399</td> <td>    0.890</td> <td>   -2.967</td> <td> 0.003</td> <td>   -4.384</td> <td>   -0.896</td>\n",
       "</tr>\n",
       "<tr>\n",
       "  <th>secs_elapsed_mean</th>                <td> 2.243e-06</td> <td> 2.96e-06</td> <td>    0.757</td> <td> 0.449</td> <td>-3.56e-06</td> <td> 8.05e-06</td>\n",
       "</tr>\n",
       "<tr>\n",
       "  <th>secs_elapsed_std</th>                 <td> 1.724e-06</td> <td> 1.67e-06</td> <td>    1.030</td> <td> 0.303</td> <td>-1.56e-06</td> <td> 5.01e-06</td>\n",
       "</tr>\n",
       "<tr>\n",
       "  <th>num_different_devices</th>            <td>    0.0923</td> <td>    0.170</td> <td>    0.543</td> <td> 0.587</td> <td>   -0.241</td> <td>    0.425</td>\n",
       "</tr>\n",
       "<tr>\n",
       "  <th>num_different_actions</th>            <td>   -0.0430</td> <td>    0.012</td> <td>   -3.507</td> <td> 0.000</td> <td>   -0.067</td> <td>   -0.019</td>\n",
       "</tr>\n",
       "<tr>\n",
       "  <th>num_sessions</th>                     <td>   -0.0010</td> <td>    0.001</td> <td>   -1.132</td> <td> 0.258</td> <td>   -0.003</td> <td>    0.001</td>\n",
       "</tr>\n",
       "<tr>\n",
       "  <th>country_USA_World_bi</th>             <td>   -0.2238</td> <td>    0.281</td> <td>   -0.797</td> <td> 0.425</td> <td>   -0.774</td> <td>    0.326</td>\n",
       "</tr>\n",
       "</table>\n",
       "<table class=\"simpletable\">\n",
       "<tr>\n",
       "  <th>Omnibus:</th>       <td>2313.996</td> <th>  Durbin-Watson:     </th> <td>   1.989</td>\n",
       "</tr>\n",
       "<tr>\n",
       "  <th>Prob(Omnibus):</th>  <td> 0.000</td>  <th>  Jarque-Bera (JB):  </th> <td>3689.731</td>\n",
       "</tr>\n",
       "<tr>\n",
       "  <th>Skew:</th>           <td> 1.080</td>  <th>  Prob(JB):          </th> <td>    0.00</td>\n",
       "</tr>\n",
       "<tr>\n",
       "  <th>Kurtosis:</th>       <td> 4.143</td>  <th>  Cond. No.          </th> <td>7.12e+19</td>\n",
       "</tr>\n",
       "</table><br/><br/>Warnings:<br/>[1] Standard Errors assume that the covariance matrix of the errors is correctly specified.<br/>[2] The smallest eigenvalue is 6.28e-26. This might indicate that there are<br/>strong multicollinearity problems or that the design matrix is singular."
      ],
      "text/plain": [
       "<class 'statsmodels.iolib.summary.Summary'>\n",
       "\"\"\"\n",
       "                            OLS Regression Results                            \n",
       "==============================================================================\n",
       "Dep. Variable:                    age   R-squared:                       0.093\n",
       "Model:                            OLS   Adj. R-squared:                  0.090\n",
       "Method:                 Least Squares   F-statistic:                     29.84\n",
       "Date:                Tue, 05 Feb 2019   Prob (F-statistic):          4.04e-270\n",
       "Time:                        15:39:58   Log-Likelihood:                -56274.\n",
       "No. Observations:               14832   AIC:                         1.127e+05\n",
       "Df Residuals:                   14780   BIC:                         1.130e+05\n",
       "Df Model:                          51                                         \n",
       "Covariance Type:            nonrobust                                         \n",
       "====================================================================================================\n",
       "                                       coef    std err          t      P>|t|      [0.025      0.975]\n",
       "----------------------------------------------------------------------------------------------------\n",
       "const                             4.226e-06   2.45e-07     17.259      0.000    3.75e-06    4.71e-06\n",
       "signup_flow                         -0.0055      0.034     -0.161      0.872      -0.073       0.062\n",
       "gender_female                       -0.9961      0.248     -4.025      0.000      -1.481      -0.511\n",
       "gender_male                          0.5116      0.255      2.005      0.045       0.012       1.012\n",
       "gender_other                        -0.2514      1.949     -0.129      0.897      -4.071       3.568\n",
       "signup_method_basic                 -0.6562      1.546     -0.425      0.671      -3.686       2.374\n",
       "signup_method_facebook              -2.6508      1.549     -1.711      0.087      -5.687       0.385\n",
       "language_ca                      -7.581e-10   7.87e-10     -0.963      0.336    -2.3e-09    7.85e-10\n",
       "language_cs                       6.816e-12   1.42e-11      0.479      0.632   -2.11e-11    3.47e-11\n",
       "language_da                      -1.152e-10   8.38e-11     -1.374      0.169    -2.8e-10    4.91e-11\n",
       "language_de                          0.4916      1.838      0.268      0.789      -3.110       4.093\n",
       "language_el                          1.1241      5.472      0.205      0.837      -9.601      11.849\n",
       "language_en                          4.0174      0.951      4.223      0.000       2.153       5.882\n",
       "language_es                          2.5973      1.899      1.368      0.171      -1.124       6.319\n",
       "language_fi                          5.5399      7.686      0.721      0.471      -9.525      20.605\n",
       "language_fr                         -3.4612      1.771     -1.955      0.051      -6.932       0.009\n",
       "language_hr                      -2.923e-09   4.02e-09     -0.728      0.467   -1.08e-08    4.95e-09\n",
       "language_hu                         -2.7572     10.823     -0.255      0.799     -23.972      18.458\n",
       "language_id                       3.071e-14   4.49e-14      0.683      0.494   -5.74e-14    1.19e-13\n",
       "language_is                       4.351e-14   3.48e-14      1.251      0.211   -2.47e-14    1.12e-13\n",
       "language_it                          0.4587      2.787      0.165      0.869      -5.004       5.921\n",
       "language_ja                          3.2982      3.033      1.088      0.277      -2.646       9.243\n",
       "language_ko                         -0.6284      1.934     -0.325      0.745      -4.419       3.162\n",
       "language_nl                          6.3724      5.474      1.164      0.244      -4.357      17.101\n",
       "language_no                         10.7075     10.853      0.987      0.324     -10.565      31.980\n",
       "language_pl                          0.2911     10.819      0.027      0.979     -20.916      21.498\n",
       "language_pt                          3.5829      3.137      1.142      0.253      -2.567       9.732\n",
       "language_ru                         -0.5323      2.942     -0.181      0.856      -6.299       5.234\n",
       "language_sv                          6.2432      4.914      1.271      0.204      -3.388      15.875\n",
       "language_th                         -4.9428     10.819     -0.457      0.648     -26.150      16.265\n",
       "language_tr                         -0.5270      7.681     -0.069      0.945     -15.582      14.528\n",
       "country_dest_id                      0.0251      0.065      0.385      0.700      -0.103       0.153\n",
       "year_created                         0.0085      0.000     17.259      0.000       0.008       0.009\n",
       "month_created                       -0.0564      0.027     -2.053      0.040      -0.110      -0.003\n",
       "day_created                          0.0870      0.023      3.799      0.000       0.042       0.132\n",
       "year_active                          0.0085      0.000     17.259      0.000       0.008       0.009\n",
       "month_active                        -0.0564      0.027     -2.053      0.040      -0.110      -0.003\n",
       "day_active                           0.0870      0.023      3.799      0.000       0.042       0.132\n",
       "lag_active_create                -4.226e-06   2.45e-07    -17.259      0.000   -4.71e-06   -3.75e-06\n",
       "affiliate_channel_2_brand            1.3757      0.449      3.065      0.002       0.496       2.256\n",
       "affiliate_channel_2_direct           0.3110      0.218      1.427      0.154      -0.116       0.738\n",
       "affiliate_provider_2_direct          0.3110      0.218      1.427      0.154      -0.116       0.738\n",
       "affiliate_provider_2_google          1.3190      0.516      2.557      0.011       0.308       2.330\n",
       "first_affiliate_tracked_2_linked     0.3134      0.242      1.293      0.196      -0.162       0.788\n",
       "first_affiliate_tracked_2_omg        1.8325      0.319      5.738      0.000       1.206       2.458\n",
       "first_affiliate_tracked_2_other     -0.6574      0.578     -1.137      0.255      -1.790       0.476\n",
       "first_device_type_2_android         -0.5365      0.852     -0.629      0.529      -2.207       1.134\n",
       "first_device_type_2_ipad             3.1743      1.058      2.999      0.003       1.100       5.249\n",
       "first_device_type_2_iphone          -0.6533      1.069     -0.611      0.541      -2.749       1.443\n",
       "first_device_type_2_mac desktop     -2.1567      0.247     -8.736      0.000      -2.641      -1.673\n",
       "first_device_type_2_other           -1.9460      0.862     -2.257      0.024      -3.636      -0.256\n",
       "first_browser_2_chrome              -3.8549      0.280    -13.768      0.000      -4.404      -3.306\n",
       "first_browser_2_firefox              0.7804      0.330      2.364      0.018       0.133       1.427\n",
       "first_browser_2_ie                   2.3651      0.468      5.054      0.000       1.448       3.282\n",
       "first_browser_2_other               -2.3002      1.033     -2.227      0.026      -4.324      -0.276\n",
       "signup_app_2_android                 0.6154      1.144      0.538      0.591      -1.627       2.858\n",
       "signup_app_2_ios                    -1.5829      0.909     -1.742      0.082      -3.364       0.198\n",
       "signup_app_2_moweb                  -2.6399      0.890     -2.967      0.003      -4.384      -0.896\n",
       "secs_elapsed_mean                 2.243e-06   2.96e-06      0.757      0.449   -3.56e-06    8.05e-06\n",
       "secs_elapsed_std                  1.724e-06   1.67e-06      1.030      0.303   -1.56e-06    5.01e-06\n",
       "num_different_devices                0.0923      0.170      0.543      0.587      -0.241       0.425\n",
       "num_different_actions               -0.0430      0.012     -3.507      0.000      -0.067      -0.019\n",
       "num_sessions                        -0.0010      0.001     -1.132      0.258      -0.003       0.001\n",
       "country_USA_World_bi                -0.2238      0.281     -0.797      0.425      -0.774       0.326\n",
       "==============================================================================\n",
       "Omnibus:                     2313.996   Durbin-Watson:                   1.989\n",
       "Prob(Omnibus):                  0.000   Jarque-Bera (JB):             3689.731\n",
       "Skew:                           1.080   Prob(JB):                         0.00\n",
       "Kurtosis:                       4.143   Cond. No.                     7.12e+19\n",
       "==============================================================================\n",
       "\n",
       "Warnings:\n",
       "[1] Standard Errors assume that the covariance matrix of the errors is correctly specified.\n",
       "[2] The smallest eigenvalue is 6.28e-26. This might indicate that there are\n",
       "strong multicollinearity problems or that the design matrix is singular.\n",
       "\"\"\""
      ]
     },
     "execution_count": 293,
     "metadata": {},
     "output_type": "execute_result"
    }
   ],
   "source": [
    "age_reg = sm.OLS(y_train_age, X_train_age)\n",
    "fit = age_reg.fit()\n",
    "fit.summary()"
   ]
  },
  {
   "cell_type": "code",
   "execution_count": 294,
   "metadata": {},
   "outputs": [],
   "source": [
    "age_pred = fit.predict(X_test_age)"
   ]
  },
  {
   "cell_type": "code",
   "execution_count": 295,
   "metadata": {},
   "outputs": [
    {
     "data": {
      "text/plain": [
       "8.171919829871465"
      ]
     },
     "execution_count": 295,
     "metadata": {},
     "output_type": "execute_result"
    }
   ],
   "source": [
    "mae(y_test_age, age_pred)"
   ]
  },
  {
   "cell_type": "code",
   "execution_count": 296,
   "metadata": {},
   "outputs": [
    {
     "data": {
      "text/plain": [
       "Text(0, 0.5, 'Actual')"
      ]
     },
     "execution_count": 296,
     "metadata": {},
     "output_type": "execute_result"
    },
    {
     "data": {
      "image/png": "[encoded data removed]",
      "text/plain": [
       "<Figure size 432x288 with 1 Axes>"
      ]
     },
     "metadata": {},
     "output_type": "display_data"
    }
   ],
   "source": [
    "plt.scatter(age_pred,y_test_age)\n",
    "plt.plot([0,90],[0,90])\n",
    "plt.title(\"actual vs. predicted\")\n",
    "plt.xlabel(\"Predicted\")\n",
    "plt.ylabel(\"Actual\")"
   ]
  },
  {
   "cell_type": "code",
   "execution_count": 297,
   "metadata": {},
   "outputs": [
    {
     "data": {
      "text/plain": [
       "0    30.0\n",
       "dtype: float64"
      ]
     },
     "execution_count": 297,
     "metadata": {},
     "output_type": "execute_result"
    }
   ],
   "source": [
    "age_pred = fit.predict(X_test_age)\n",
    "age_mean = y_train_age.mean()\n",
    "age_median = y_train_age.median()\n",
    "age_mode = y_train_age.mode()\n",
    "age_mode"
   ]
  },
  {
   "cell_type": "code",
   "execution_count": 298,
   "metadata": {},
   "outputs": [
    {
     "name": "stdout",
     "output_type": "stream",
     "text": [
      "OLS: 8.171919829871465 Mean: 8.562897768569714 Median: 8.095173901321111 Mode: 8.270423294688594\n"
     ]
    }
   ],
   "source": [
    "print('OLS:',mae(y_test_age, age_pred),\n",
    "      'Mean:',mae(y_test_age, age_mean),\n",
    "      'Median:',mae(y_test_age, age_median),\n",
    "      'Mode:',mae(y_test_age, 30)\n",
    "     )"
   ]
  },
  {
   "cell_type": "code",
   "execution_count": 299,
   "metadata": {},
   "outputs": [],
   "source": [
    "df.to_pickle('data/users_train.pkl')"
   ]
  }
 ],
 "metadata": {
  "kernelspec": {
   "display_name": "Python 3",
   "language": "python",
   "name": "python3"
  },
  "language_info": {
   "codemirror_mode": {
    "name": "ipython",
    "version": 3
   },
   "file_extension": ".py",
   "mimetype": "text/x-python",
   "name": "python",
   "nbconvert_exporter": "python",
   "pygments_lexer": "ipython3",
   "version": "3.6.8"
  }
 },
 "nbformat": 4,
 "nbformat_minor": 2
}
