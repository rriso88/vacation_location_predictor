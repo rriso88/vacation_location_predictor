{
 "cells": [
  {
   "cell_type": "markdown",
   "metadata": {},
   "source": [
    "# Logistic regression"
   ]
  },
  {
   "cell_type": "code",
   "execution_count": 61,
   "metadata": {},
   "outputs": [],
   "source": [
    "import matplotlib.pyplot as plt\n",
    "%matplotlib inline\n",
    "import matplotlib.cm as cm\n",
    "import numpy as np\n",
    "import pandas as pd\n",
    "import random\n",
    "\n",
    "import pickle\n",
    "\n",
    "import seaborn as sns\n",
    "plt.style.use('fivethirtyeight')\n"
   ]
  },
  {
   "cell_type": "code",
   "execution_count": 62,
   "metadata": {},
   "outputs": [],
   "source": [
    "import statsmodels.api as sm\n",
    "import statsmodels.formula.api as smf \n",
    "from statsmodels.stats.outliers_influence import variance_inflation_factor\n",
    "from statsmodels.tools.tools import add_constant"
   ]
  },
  {
   "cell_type": "code",
   "execution_count": 63,
   "metadata": {},
   "outputs": [],
   "source": [
    "def warn(*args, **kwargs):\n",
    "    pass\n",
    "import warnings\n",
    "warnings.warn = warn\n",
    "\n",
    "from sklearn.linear_model import LinearRegression, Lasso, LassoCV, Ridge, RidgeCV\n",
    "from sklearn.metrics import r2_score #ordinary linear regression + w/ ridge regularization\n",
    "from sklearn.datasets import make_classification\n",
    "from sklearn.neighbors import KNeighborsClassifier\n",
    "from sklearn.tree import DecisionTreeClassifier\n",
    "from sklearn.svm import LinearSVC\n",
    "from sklearn.svm import SVC\n",
    "from sklearn.ensemble import RandomForestClassifier\n",
    "from sklearn.linear_model import LogisticRegression\n",
    "from sklearn.model_selection import train_test_split\n",
    "from sklearn.metrics import precision_score, recall_score, accuracy_score, roc_auc_score\n",
    "from sklearn.metrics import confusion_matrix\n",
    "from sklearn.preprocessing import StandardScaler\n",
    "from sklearn.model_selection import StratifiedKFold\n",
    "from sklearn.metrics import precision_score, recall_score, precision_recall_curve,f1_score, fbeta_score\n",
    "\n",
    "import xgboost as xgb\n",
    "from xgboost import XGBClassifier\n",
    "from sklearn.model_selection import GridSearchCV\n",
    "from sklearn.linear_model import LogisticRegression\n",
    "import warnings\n",
    "warnings.filterwarnings(\"ignore\", category=DeprecationWarning)"
   ]
  },
  {
   "cell_type": "code",
   "execution_count": 64,
   "metadata": {},
   "outputs": [],
   "source": [
    "def print_confusion_matrix(confusion_matrix, class_names, figsize = (10,7), fontsize=18):\n",
    "    \"\"\"Prints a confusion matrix, as returned by sklearn.metrics.confusion_matrix, as a heatmap.\n",
    "    \n",
    "    Arguments\n",
    "    ---------\n",
    "    confusion_matrix: numpy.ndarray\n",
    "        The numpy.ndarray object returned from a call to sklearn.metrics.confusion_matrix. \n",
    "        Similarly constructed ndarrays can also be used.\n",
    "    class_names: list\n",
    "        An ordered list of class names, in the order they index the given confusion matrix.\n",
    "    figsize: tuple\n",
    "        A 2-long tuple, the first value determining the horizontal size of the ouputted figure,\n",
    "        the second determining the vertical size. Defaults to (10,7).\n",
    "    fontsize: int\n",
    "        Font size for axes labels. Defaults to 14.\n",
    "        \n",
    "    Returns\n",
    "    -------\n",
    "    matplotlib.figure.Figure\n",
    "        The resulting confusion matrix figure\n",
    "    \"\"\"\n",
    "    df_cm = pd.DataFrame(confusion_matrix, index=class_names, columns=class_names, )\n",
    "    fig = plt.figure(figsize=figsize)\n",
    "    try:\n",
    "        heatmap = sns.heatmap(df_cm, annot=True, fmt=\"d\")\n",
    "    except ValueError:\n",
    "        raise ValueError(\"Confusion matrix values must be integers.\")\n",
    "    heatmap.yaxis.set_ticklabels(heatmap.yaxis.get_ticklabels(), rotation=0, ha='right', fontsize=fontsize)\n",
    "    heatmap.xaxis.set_ticklabels(heatmap.xaxis.get_ticklabels(), rotation=45, ha='right', fontsize=fontsize)\n",
    "    plt.ylabel('True label')\n",
    "    plt.xlabel('Predicted label')\n",
    "    return fig"
   ]
  },
  {
   "cell_type": "code",
   "execution_count": 65,
   "metadata": {},
   "outputs": [],
   "source": [
    "df = pd.read_pickle('data/users_train.pkl')"
   ]
  },
  {
   "cell_type": "markdown",
   "metadata": {},
   "source": [
    "**View the data**"
   ]
  },
  {
   "cell_type": "code",
   "execution_count": 66,
   "metadata": {
    "scrolled": true
   },
   "outputs": [],
   "source": [
    "#dest_bookings = Xtrain.groupby(['country_destination'])['id'].count().reset_index()\n",
    "#dest_bookings = dest_bookings[dest_bookings['country_destination'] != 'NDF']\n",
    "#dest_bookings['pct_of_total'] = [(x/dest_bookings['id'].sum())*100 for x in dest_bookings['id']]\n",
    "#dest_bookings = dest_bookings.sort_values(by='pct_of_total', ascending = False)\n",
    "#dest_bookings"
   ]
  },
  {
   "cell_type": "code",
   "execution_count": 67,
   "metadata": {
    "scrolled": true
   },
   "outputs": [
    {
     "data": {
      "text/html": [
       "<div>\n",
       "<style scoped>\n",
       "    .dataframe tbody tr th:only-of-type {\n",
       "        vertical-align: middle;\n",
       "    }\n",
       "\n",
       "    .dataframe tbody tr th {\n",
       "        vertical-align: top;\n",
       "    }\n",
       "\n",
       "    .dataframe thead th {\n",
       "        text-align: right;\n",
       "    }\n",
       "</style>\n",
       "<table border=\"1\" class=\"dataframe\">\n",
       "  <thead>\n",
       "    <tr style=\"text-align: right;\">\n",
       "      <th></th>\n",
       "      <th>country_destination</th>\n",
       "      <th>id</th>\n",
       "      <th>pct_of_total</th>\n",
       "    </tr>\n",
       "  </thead>\n",
       "  <tbody>\n",
       "    <tr>\n",
       "      <th>10</th>\n",
       "      <td>US</td>\n",
       "      <td>62376</td>\n",
       "      <td>70.157916</td>\n",
       "    </tr>\n",
       "    <tr>\n",
       "      <th>11</th>\n",
       "      <td>other</td>\n",
       "      <td>10094</td>\n",
       "      <td>11.353309</td>\n",
       "    </tr>\n",
       "    <tr>\n",
       "      <th>4</th>\n",
       "      <td>FR</td>\n",
       "      <td>5023</td>\n",
       "      <td>5.649660</td>\n",
       "    </tr>\n",
       "    <tr>\n",
       "      <th>6</th>\n",
       "      <td>IT</td>\n",
       "      <td>2835</td>\n",
       "      <td>3.188689</td>\n",
       "    </tr>\n",
       "    <tr>\n",
       "      <th>5</th>\n",
       "      <td>GB</td>\n",
       "      <td>2324</td>\n",
       "      <td>2.613938</td>\n",
       "    </tr>\n",
       "    <tr>\n",
       "      <th>3</th>\n",
       "      <td>ES</td>\n",
       "      <td>2249</td>\n",
       "      <td>2.529581</td>\n",
       "    </tr>\n",
       "    <tr>\n",
       "      <th>1</th>\n",
       "      <td>CA</td>\n",
       "      <td>1428</td>\n",
       "      <td>1.606155</td>\n",
       "    </tr>\n",
       "    <tr>\n",
       "      <th>2</th>\n",
       "      <td>DE</td>\n",
       "      <td>1061</td>\n",
       "      <td>1.193368</td>\n",
       "    </tr>\n",
       "    <tr>\n",
       "      <th>8</th>\n",
       "      <td>NL</td>\n",
       "      <td>762</td>\n",
       "      <td>0.857066</td>\n",
       "    </tr>\n",
       "    <tr>\n",
       "      <th>0</th>\n",
       "      <td>AU</td>\n",
       "      <td>539</td>\n",
       "      <td>0.606245</td>\n",
       "    </tr>\n",
       "    <tr>\n",
       "      <th>9</th>\n",
       "      <td>PT</td>\n",
       "      <td>217</td>\n",
       "      <td>0.244073</td>\n",
       "    </tr>\n",
       "  </tbody>\n",
       "</table>\n",
       "</div>"
      ],
      "text/plain": [
       "   country_destination     id  pct_of_total\n",
       "10                  US  62376     70.157916\n",
       "11               other  10094     11.353309\n",
       "4                   FR   5023      5.649660\n",
       "6                   IT   2835      3.188689\n",
       "5                   GB   2324      2.613938\n",
       "3                   ES   2249      2.529581\n",
       "1                   CA   1428      1.606155\n",
       "2                   DE   1061      1.193368\n",
       "8                   NL    762      0.857066\n",
       "0                   AU    539      0.606245\n",
       "9                   PT    217      0.244073"
      ]
     },
     "execution_count": 67,
     "metadata": {},
     "output_type": "execute_result"
    }
   ],
   "source": [
    "dest_bookings = df.groupby(['country_destination'])['id'].count().reset_index()\n",
    "dest_bookings = dest_bookings[dest_bookings['country_destination'] != 'NDF']\n",
    "dest_bookings['pct_of_total'] = [(x/dest_bookings['id'].sum())*100 for x in dest_bookings['id']]\n",
    "dest_bookings = dest_bookings.sort_values(by='pct_of_total', ascending = False)\n",
    "dest_bookings"
   ]
  },
  {
   "cell_type": "markdown",
   "metadata": {},
   "source": [
    "**Create two target classes (USA/Canada vs. rest of world)**"
   ]
  },
  {
   "cell_type": "code",
   "execution_count": 68,
   "metadata": {},
   "outputs": [
    {
     "data": {
      "text/plain": [
       "array(['US', 'other', 'FR', 'IT', 'GB', 'ES', 'CA', 'DE', 'NL', 'AU',\n",
       "       'PT'], dtype=object)"
      ]
     },
     "execution_count": 68,
     "metadata": {},
     "output_type": "execute_result"
    }
   ],
   "source": [
    "dest_bookings.country_destination.unique()"
   ]
  },
  {
   "cell_type": "code",
   "execution_count": 69,
   "metadata": {},
   "outputs": [],
   "source": [
    "dest_dict = {'US': 'USA', 'other':'WLD', 'FR':'WLD', 'IT':'WLD', \n",
    "             'GB':'WLD', 'ES':'WLD', 'CA':'USA', 'DE':'WLD', 'NL':'WLD', 'AU':'WLD','PT':'WLD'}\n",
    "dest_bi = {'USA':0, 'WLD':1}"
   ]
  },
  {
   "cell_type": "code",
   "execution_count": 70,
   "metadata": {},
   "outputs": [],
   "source": [
    "df['country_USA_World'] = df['country_destination'].map(dest_dict)\n",
    "df['country_USA_World_bi'] = df['country_USA_World'].map(dest_bi)"
   ]
  },
  {
   "cell_type": "code",
   "execution_count": 71,
   "metadata": {
    "scrolled": true
   },
   "outputs": [
    {
     "data": {
      "text/plain": [
       "0.0    0.717641\n",
       "1.0    0.282359\n",
       "Name: country_USA_World_bi, dtype: float64"
      ]
     },
     "execution_count": 71,
     "metadata": {},
     "output_type": "execute_result"
    }
   ],
   "source": [
    "df['country_USA_World_bi'].value_counts()/df['country_USA_World_bi'].value_counts().sum()"
   ]
  },
  {
   "cell_type": "markdown",
   "metadata": {},
   "source": [
    "**Define X features and y target**"
   ]
  },
  {
   "cell_type": "code",
   "execution_count": 72,
   "metadata": {},
   "outputs": [],
   "source": [
    "#df.columns"
   ]
  },
  {
   "cell_type": "code",
   "execution_count": 73,
   "metadata": {
    "scrolled": false
   },
   "outputs": [
    {
     "data": {
      "text/html": [
       "<div>\n",
       "<style scoped>\n",
       "    .dataframe tbody tr th:only-of-type {\n",
       "        vertical-align: middle;\n",
       "    }\n",
       "\n",
       "    .dataframe tbody tr th {\n",
       "        vertical-align: top;\n",
       "    }\n",
       "\n",
       "    .dataframe thead th {\n",
       "        text-align: right;\n",
       "    }\n",
       "</style>\n",
       "<table border=\"1\" class=\"dataframe\">\n",
       "  <thead>\n",
       "    <tr style=\"text-align: right;\">\n",
       "      <th></th>\n",
       "      <th>id</th>\n",
       "      <th>date_account_created</th>\n",
       "      <th>timestamp_first_active</th>\n",
       "      <th>date_first_booking</th>\n",
       "      <th>gender</th>\n",
       "      <th>age</th>\n",
       "      <th>signup_method</th>\n",
       "      <th>signup_flow</th>\n",
       "      <th>language</th>\n",
       "      <th>affiliate_channel</th>\n",
       "      <th>...</th>\n",
       "      <th>signup_app_2_ios</th>\n",
       "      <th>signup_app_2_moweb</th>\n",
       "      <th>secs_elapsed_mean</th>\n",
       "      <th>secs_elapsed_std</th>\n",
       "      <th>num_different_devices</th>\n",
       "      <th>num_different_actions</th>\n",
       "      <th>num_sessions</th>\n",
       "      <th>first_action_type</th>\n",
       "      <th>country_USA_World</th>\n",
       "      <th>country_USA_World_bi</th>\n",
       "    </tr>\n",
       "  </thead>\n",
       "  <tbody>\n",
       "    <tr>\n",
       "      <th>0</th>\n",
       "      <td>gxn3p5htnn</td>\n",
       "      <td>2010-06-28</td>\n",
       "      <td>2009-03-19 04:32:55</td>\n",
       "      <td>NaT</td>\n",
       "      <td>unknown</td>\n",
       "      <td>NaN</td>\n",
       "      <td>facebook</td>\n",
       "      <td>0.0</td>\n",
       "      <td>en</td>\n",
       "      <td>direct</td>\n",
       "      <td>...</td>\n",
       "      <td>0</td>\n",
       "      <td>0</td>\n",
       "      <td>NaN</td>\n",
       "      <td>NaN</td>\n",
       "      <td>NaN</td>\n",
       "      <td>NaN</td>\n",
       "      <td>NaN</td>\n",
       "      <td>NaN</td>\n",
       "      <td>NaN</td>\n",
       "      <td>NaN</td>\n",
       "    </tr>\n",
       "  </tbody>\n",
       "</table>\n",
       "<p>1 rows × 91 columns</p>\n",
       "</div>"
      ],
      "text/plain": [
       "           id date_account_created timestamp_first_active date_first_booking  \\\n",
       "0  gxn3p5htnn           2010-06-28    2009-03-19 04:32:55                NaT   \n",
       "\n",
       "    gender  age signup_method  signup_flow language affiliate_channel  ...  \\\n",
       "0  unknown  NaN      facebook          0.0       en            direct  ...   \n",
       "\n",
       "  signup_app_2_ios signup_app_2_moweb secs_elapsed_mean secs_elapsed_std  \\\n",
       "0                0                  0               NaN              NaN   \n",
       "\n",
       "  num_different_devices num_different_actions num_sessions  first_action_type  \\\n",
       "0                   NaN                   NaN          NaN                NaN   \n",
       "\n",
       "   country_USA_World  country_USA_World_bi  \n",
       "0                NaN                   NaN  \n",
       "\n",
       "[1 rows x 91 columns]"
      ]
     },
     "execution_count": 73,
     "metadata": {},
     "output_type": "execute_result"
    }
   ],
   "source": [
    "df.head(1)"
   ]
  },
  {
   "cell_type": "code",
   "execution_count": 74,
   "metadata": {},
   "outputs": [],
   "source": [
    "#df.dtypes"
   ]
  },
  {
   "cell_type": "code",
   "execution_count": 75,
   "metadata": {},
   "outputs": [],
   "source": [
    "numerics = ['int16', 'int32', 'int64', 'float16', 'float32', 'float64', 'uint8']\n",
    "Xy = df[df['country_destination'] != 'NDF']\n",
    "Xy = Xy.select_dtypes(include=numerics)\n"
   ]
  },
  {
   "cell_type": "code",
   "execution_count": 76,
   "metadata": {},
   "outputs": [
    {
     "data": {
      "text/plain": [
       "88908"
      ]
     },
     "execution_count": 76,
     "metadata": {},
     "output_type": "execute_result"
    }
   ],
   "source": [
    "len(Xy)"
   ]
  },
  {
   "cell_type": "code",
   "execution_count": 77,
   "metadata": {
    "scrolled": true
   },
   "outputs": [
    {
     "data": {
      "text/plain": [
       "Index(['signup_flow', 'gender_female', 'gender_male', 'gender_other',\n",
       "       'signup_method_basic', 'signup_method_facebook', 'language_ca',\n",
       "       'language_cs', 'language_da', 'language_de', 'language_el',\n",
       "       'language_en', 'language_es', 'language_fi', 'language_fr',\n",
       "       'language_hr', 'language_hu', 'language_id', 'language_is',\n",
       "       'language_it', 'language_ja', 'language_ko', 'language_nl',\n",
       "       'language_no', 'language_pl', 'language_pt', 'language_ru',\n",
       "       'language_sv', 'language_th', 'language_tr', 'country_dest_id',\n",
       "       'year_created', 'month_created', 'day_created', 'year_active',\n",
       "       'month_active', 'day_active', 'year_first_booking',\n",
       "       'month_first_booking', 'day_first_booking', 'lag_book_create',\n",
       "       'lag_active_create', 'affiliate_channel_2_brand',\n",
       "       'affiliate_channel_2_direct', 'affiliate_provider_2_direct',\n",
       "       'affiliate_provider_2_google', 'first_affiliate_tracked_2_linked',\n",
       "       'first_affiliate_tracked_2_omg', 'first_affiliate_tracked_2_other',\n",
       "       'first_device_type_2_android', 'first_device_type_2_ipad',\n",
       "       'first_device_type_2_iphone', 'first_device_type_2_mac desktop',\n",
       "       'first_device_type_2_other', 'first_browser_2_chrome',\n",
       "       'first_browser_2_firefox', 'first_browser_2_ie',\n",
       "       'first_browser_2_other', 'signup_app_2_android', 'signup_app_2_ios',\n",
       "       'signup_app_2_moweb', 'secs_elapsed_mean', 'secs_elapsed_std',\n",
       "       'num_different_devices', 'num_different_actions', 'num_sessions',\n",
       "       'country_USA_World_bi'],\n",
       "      dtype='object')"
      ]
     },
     "execution_count": 77,
     "metadata": {},
     "output_type": "execute_result"
    }
   ],
   "source": [
    "Xy.columns[1:]"
   ]
  },
  {
   "cell_type": "markdown",
   "metadata": {},
   "source": [
    "*Date and lag first booking not able to use for prediction*"
   ]
  },
  {
   "cell_type": "code",
   "execution_count": 78,
   "metadata": {},
   "outputs": [],
   "source": [
    "Xy = Xy.drop(['year_first_booking','month_first_booking', \n",
    "              'day_first_booking', 'lag_book_create'], axis = 1)"
   ]
  },
  {
   "cell_type": "code",
   "execution_count": 79,
   "metadata": {},
   "outputs": [
    {
     "data": {
      "text/plain": [
       "0.7596841679039007"
      ]
     },
     "execution_count": 79,
     "metadata": {},
     "output_type": "execute_result"
    }
   ],
   "source": [
    "#X = X.apply(lambda x: x.fillna(x.mean()),axis=0)\n",
    "nan_rows = Xy[Xy.isnull().any(1)]\n",
    "len(nan_rows)/len(Xy)"
   ]
  },
  {
   "cell_type": "code",
   "execution_count": 80,
   "metadata": {
    "scrolled": true
   },
   "outputs": [
    {
     "name": "stdout",
     "output_type": "stream",
     "text": [
      "21366\n"
     ]
    }
   ],
   "source": [
    "print(len(Xy) - len(nan_rows))"
   ]
  },
  {
   "cell_type": "code",
   "execution_count": 81,
   "metadata": {},
   "outputs": [],
   "source": [
    "Xy = Xy.dropna(axis='index', how = 'any')"
   ]
  },
  {
   "cell_type": "code",
   "execution_count": 82,
   "metadata": {},
   "outputs": [
    {
     "data": {
      "text/plain": [
       "21366"
      ]
     },
     "execution_count": 82,
     "metadata": {},
     "output_type": "execute_result"
    }
   ],
   "source": [
    "len(Xy)"
   ]
  },
  {
   "cell_type": "code",
   "execution_count": 95,
   "metadata": {},
   "outputs": [
    {
     "data": {
      "text/html": [
       "<div>\n",
       "<style scoped>\n",
       "    .dataframe tbody tr th:only-of-type {\n",
       "        vertical-align: middle;\n",
       "    }\n",
       "\n",
       "    .dataframe tbody tr th {\n",
       "        vertical-align: top;\n",
       "    }\n",
       "\n",
       "    .dataframe thead th {\n",
       "        text-align: right;\n",
       "    }\n",
       "</style>\n",
       "<table border=\"1\" class=\"dataframe\">\n",
       "  <thead>\n",
       "    <tr style=\"text-align: right;\">\n",
       "      <th></th>\n",
       "      <th>age</th>\n",
       "      <th>signup_flow</th>\n",
       "      <th>gender_female</th>\n",
       "      <th>gender_male</th>\n",
       "      <th>gender_other</th>\n",
       "      <th>signup_method_basic</th>\n",
       "      <th>signup_method_facebook</th>\n",
       "      <th>language_ca</th>\n",
       "      <th>language_cs</th>\n",
       "      <th>language_da</th>\n",
       "      <th>...</th>\n",
       "      <th>first_browser_2_other</th>\n",
       "      <th>signup_app_2_android</th>\n",
       "      <th>signup_app_2_ios</th>\n",
       "      <th>signup_app_2_moweb</th>\n",
       "      <th>secs_elapsed_mean</th>\n",
       "      <th>secs_elapsed_std</th>\n",
       "      <th>num_different_devices</th>\n",
       "      <th>num_different_actions</th>\n",
       "      <th>num_sessions</th>\n",
       "      <th>country_USA_World_bi</th>\n",
       "    </tr>\n",
       "  </thead>\n",
       "  <tbody>\n",
       "    <tr>\n",
       "      <th>count</th>\n",
       "      <td>21366.000000</td>\n",
       "      <td>21366.000000</td>\n",
       "      <td>21366.000000</td>\n",
       "      <td>21366.000000</td>\n",
       "      <td>21366.000000</td>\n",
       "      <td>21366.000000</td>\n",
       "      <td>21366.000000</td>\n",
       "      <td>21366.0</td>\n",
       "      <td>21366.0</td>\n",
       "      <td>21366.000000</td>\n",
       "      <td>...</td>\n",
       "      <td>21366.000000</td>\n",
       "      <td>21366.000000</td>\n",
       "      <td>21366.000000</td>\n",
       "      <td>21366.000000</td>\n",
       "      <td>21366.000000</td>\n",
       "      <td>21366.000000</td>\n",
       "      <td>21366.000000</td>\n",
       "      <td>21366.000000</td>\n",
       "      <td>21366.000000</td>\n",
       "      <td>21366.000000</td>\n",
       "    </tr>\n",
       "    <tr>\n",
       "      <th>mean</th>\n",
       "      <td>34.985070</td>\n",
       "      <td>2.879481</td>\n",
       "      <td>0.392680</td>\n",
       "      <td>0.347983</td>\n",
       "      <td>0.001872</td>\n",
       "      <td>0.720584</td>\n",
       "      <td>0.275859</td>\n",
       "      <td>0.0</td>\n",
       "      <td>0.0</td>\n",
       "      <td>0.000094</td>\n",
       "      <td>...</td>\n",
       "      <td>0.191987</td>\n",
       "      <td>0.028644</td>\n",
       "      <td>0.083263</td>\n",
       "      <td>0.019845</td>\n",
       "      <td>27959.947576</td>\n",
       "      <td>80440.038933</td>\n",
       "      <td>1.335112</td>\n",
       "      <td>15.803005</td>\n",
       "      <td>79.528690</td>\n",
       "      <td>0.254470</td>\n",
       "    </tr>\n",
       "    <tr>\n",
       "      <th>std</th>\n",
       "      <td>11.027706</td>\n",
       "      <td>7.609049</td>\n",
       "      <td>0.488358</td>\n",
       "      <td>0.476342</td>\n",
       "      <td>0.043229</td>\n",
       "      <td>0.448723</td>\n",
       "      <td>0.446956</td>\n",
       "      <td>0.0</td>\n",
       "      <td>0.0</td>\n",
       "      <td>0.009675</td>\n",
       "      <td>...</td>\n",
       "      <td>0.393872</td>\n",
       "      <td>0.166807</td>\n",
       "      <td>0.276286</td>\n",
       "      <td>0.139469</td>\n",
       "      <td>23290.704425</td>\n",
       "      <td>64484.377775</td>\n",
       "      <td>0.574055</td>\n",
       "      <td>8.322760</td>\n",
       "      <td>81.857238</td>\n",
       "      <td>0.435573</td>\n",
       "    </tr>\n",
       "    <tr>\n",
       "      <th>min</th>\n",
       "      <td>18.000000</td>\n",
       "      <td>0.000000</td>\n",
       "      <td>0.000000</td>\n",
       "      <td>0.000000</td>\n",
       "      <td>0.000000</td>\n",
       "      <td>0.000000</td>\n",
       "      <td>0.000000</td>\n",
       "      <td>0.0</td>\n",
       "      <td>0.0</td>\n",
       "      <td>0.000000</td>\n",
       "      <td>...</td>\n",
       "      <td>0.000000</td>\n",
       "      <td>0.000000</td>\n",
       "      <td>0.000000</td>\n",
       "      <td>0.000000</td>\n",
       "      <td>0.000000</td>\n",
       "      <td>0.000000</td>\n",
       "      <td>1.000000</td>\n",
       "      <td>0.000000</td>\n",
       "      <td>3.000000</td>\n",
       "      <td>0.000000</td>\n",
       "    </tr>\n",
       "    <tr>\n",
       "      <th>25%</th>\n",
       "      <td>27.000000</td>\n",
       "      <td>0.000000</td>\n",
       "      <td>0.000000</td>\n",
       "      <td>0.000000</td>\n",
       "      <td>0.000000</td>\n",
       "      <td>0.000000</td>\n",
       "      <td>0.000000</td>\n",
       "      <td>0.0</td>\n",
       "      <td>0.0</td>\n",
       "      <td>0.000000</td>\n",
       "      <td>...</td>\n",
       "      <td>0.000000</td>\n",
       "      <td>0.000000</td>\n",
       "      <td>0.000000</td>\n",
       "      <td>0.000000</td>\n",
       "      <td>12940.882327</td>\n",
       "      <td>31895.030971</td>\n",
       "      <td>1.000000</td>\n",
       "      <td>10.000000</td>\n",
       "      <td>25.000000</td>\n",
       "      <td>0.000000</td>\n",
       "    </tr>\n",
       "    <tr>\n",
       "      <th>50%</th>\n",
       "      <td>32.000000</td>\n",
       "      <td>0.000000</td>\n",
       "      <td>0.000000</td>\n",
       "      <td>0.000000</td>\n",
       "      <td>0.000000</td>\n",
       "      <td>1.000000</td>\n",
       "      <td>0.000000</td>\n",
       "      <td>0.0</td>\n",
       "      <td>0.0</td>\n",
       "      <td>0.000000</td>\n",
       "      <td>...</td>\n",
       "      <td>0.000000</td>\n",
       "      <td>0.000000</td>\n",
       "      <td>0.000000</td>\n",
       "      <td>0.000000</td>\n",
       "      <td>21505.000000</td>\n",
       "      <td>63010.086238</td>\n",
       "      <td>1.000000</td>\n",
       "      <td>14.000000</td>\n",
       "      <td>52.000000</td>\n",
       "      <td>0.000000</td>\n",
       "    </tr>\n",
       "    <tr>\n",
       "      <th>75%</th>\n",
       "      <td>39.000000</td>\n",
       "      <td>0.000000</td>\n",
       "      <td>1.000000</td>\n",
       "      <td>1.000000</td>\n",
       "      <td>0.000000</td>\n",
       "      <td>1.000000</td>\n",
       "      <td>1.000000</td>\n",
       "      <td>0.0</td>\n",
       "      <td>0.0</td>\n",
       "      <td>0.000000</td>\n",
       "      <td>...</td>\n",
       "      <td>0.000000</td>\n",
       "      <td>0.000000</td>\n",
       "      <td>0.000000</td>\n",
       "      <td>0.000000</td>\n",
       "      <td>34956.178846</td>\n",
       "      <td>111723.601216</td>\n",
       "      <td>2.000000</td>\n",
       "      <td>20.000000</td>\n",
       "      <td>103.000000</td>\n",
       "      <td>1.000000</td>\n",
       "    </tr>\n",
       "    <tr>\n",
       "      <th>max</th>\n",
       "      <td>85.000000</td>\n",
       "      <td>25.000000</td>\n",
       "      <td>1.000000</td>\n",
       "      <td>1.000000</td>\n",
       "      <td>1.000000</td>\n",
       "      <td>1.000000</td>\n",
       "      <td>1.000000</td>\n",
       "      <td>0.0</td>\n",
       "      <td>0.0</td>\n",
       "      <td>1.000000</td>\n",
       "      <td>...</td>\n",
       "      <td>1.000000</td>\n",
       "      <td>1.000000</td>\n",
       "      <td>1.000000</td>\n",
       "      <td>1.000000</td>\n",
       "      <td>190000.000000</td>\n",
       "      <td>313371.525965</td>\n",
       "      <td>6.000000</td>\n",
       "      <td>44.000000</td>\n",
       "      <td>472.000000</td>\n",
       "      <td>1.000000</td>\n",
       "    </tr>\n",
       "  </tbody>\n",
       "</table>\n",
       "<p>8 rows × 64 columns</p>\n",
       "</div>"
      ],
      "text/plain": [
       "                age   signup_flow  gender_female   gender_male  gender_other  \\\n",
       "count  21366.000000  21366.000000   21366.000000  21366.000000  21366.000000   \n",
       "mean      34.985070      2.879481       0.392680      0.347983      0.001872   \n",
       "std       11.027706      7.609049       0.488358      0.476342      0.043229   \n",
       "min       18.000000      0.000000       0.000000      0.000000      0.000000   \n",
       "25%       27.000000      0.000000       0.000000      0.000000      0.000000   \n",
       "50%       32.000000      0.000000       0.000000      0.000000      0.000000   \n",
       "75%       39.000000      0.000000       1.000000      1.000000      0.000000   \n",
       "max       85.000000     25.000000       1.000000      1.000000      1.000000   \n",
       "\n",
       "       signup_method_basic  signup_method_facebook  language_ca  language_cs  \\\n",
       "count         21366.000000            21366.000000      21366.0      21366.0   \n",
       "mean              0.720584                0.275859          0.0          0.0   \n",
       "std               0.448723                0.446956          0.0          0.0   \n",
       "min               0.000000                0.000000          0.0          0.0   \n",
       "25%               0.000000                0.000000          0.0          0.0   \n",
       "50%               1.000000                0.000000          0.0          0.0   \n",
       "75%               1.000000                1.000000          0.0          0.0   \n",
       "max               1.000000                1.000000          0.0          0.0   \n",
       "\n",
       "        language_da  ...  first_browser_2_other  signup_app_2_android  \\\n",
       "count  21366.000000  ...           21366.000000          21366.000000   \n",
       "mean       0.000094  ...               0.191987              0.028644   \n",
       "std        0.009675  ...               0.393872              0.166807   \n",
       "min        0.000000  ...               0.000000              0.000000   \n",
       "25%        0.000000  ...               0.000000              0.000000   \n",
       "50%        0.000000  ...               0.000000              0.000000   \n",
       "75%        0.000000  ...               0.000000              0.000000   \n",
       "max        1.000000  ...               1.000000              1.000000   \n",
       "\n",
       "       signup_app_2_ios  signup_app_2_moweb  secs_elapsed_mean  \\\n",
       "count      21366.000000        21366.000000       21366.000000   \n",
       "mean           0.083263            0.019845       27959.947576   \n",
       "std            0.276286            0.139469       23290.704425   \n",
       "min            0.000000            0.000000           0.000000   \n",
       "25%            0.000000            0.000000       12940.882327   \n",
       "50%            0.000000            0.000000       21505.000000   \n",
       "75%            0.000000            0.000000       34956.178846   \n",
       "max            1.000000            1.000000      190000.000000   \n",
       "\n",
       "       secs_elapsed_std  num_different_devices  num_different_actions  \\\n",
       "count      21366.000000           21366.000000           21366.000000   \n",
       "mean       80440.038933               1.335112              15.803005   \n",
       "std        64484.377775               0.574055               8.322760   \n",
       "min            0.000000               1.000000               0.000000   \n",
       "25%        31895.030971               1.000000              10.000000   \n",
       "50%        63010.086238               1.000000              14.000000   \n",
       "75%       111723.601216               2.000000              20.000000   \n",
       "max       313371.525965               6.000000              44.000000   \n",
       "\n",
       "       num_sessions  country_USA_World_bi  \n",
       "count  21366.000000          21366.000000  \n",
       "mean      79.528690              0.254470  \n",
       "std       81.857238              0.435573  \n",
       "min        3.000000              0.000000  \n",
       "25%       25.000000              0.000000  \n",
       "50%       52.000000              0.000000  \n",
       "75%      103.000000              1.000000  \n",
       "max      472.000000              1.000000  \n",
       "\n",
       "[8 rows x 64 columns]"
      ]
     },
     "execution_count": 95,
     "metadata": {},
     "output_type": "execute_result"
    }
   ],
   "source": [
    "Xy.describe()"
   ]
  },
  {
   "cell_type": "code",
   "execution_count": 84,
   "metadata": {},
   "outputs": [],
   "source": [
    "for col in ['secs_elapsed_mean','secs_elapsed_std','num_different_actions','num_sessions']:\n",
    "    Xy.loc[np.abs(Xy[col] - Xy[col].mean()) > 3*Xy[col].std()] = np.nan\n",
    "Xy = Xy.apply(lambda x: x.fillna(x.median()),axis=0)"
   ]
  },
  {
   "cell_type": "code",
   "execution_count": 85,
   "metadata": {},
   "outputs": [],
   "source": [
    "Xy.to_pickle('data_for_regression_20k.pkl')"
   ]
  },
  {
   "cell_type": "markdown",
   "metadata": {},
   "source": [
    "***"
   ]
  },
  {
   "cell_type": "code",
   "execution_count": 86,
   "metadata": {},
   "outputs": [],
   "source": [
    "Xy = pd.read_pickle('data_for_regression_20k.pkl')"
   ]
  },
  {
   "cell_type": "code",
   "execution_count": 87,
   "metadata": {},
   "outputs": [],
   "source": [
    "y_bi = Xy['country_USA_World_bi']\n",
    "y_mlt = Xy['country_dest_id']   \n",
    "X = Xy.drop(['country_dest_id','country_USA_World_bi'], axis = 1)"
   ]
  },
  {
   "cell_type": "code",
   "execution_count": 88,
   "metadata": {},
   "outputs": [
    {
     "data": {
      "text/plain": [
       "0.0"
      ]
     },
     "execution_count": 88,
     "metadata": {},
     "output_type": "execute_result"
    }
   ],
   "source": [
    "#X = X.apply(lambda x: x.fillna(x.mean()),axis=0)\n",
    "nan_rows = X[X.isnull().any(1)]\n",
    "len(nan_rows)/len(X)"
   ]
  },
  {
   "cell_type": "code",
   "execution_count": 89,
   "metadata": {},
   "outputs": [],
   "source": [
    "Xtrain, Xtest, ytrain, ytest = train_test_split(X, y_bi, test_size=0.2, stratify=y_bi,random_state = 88)\n"
   ]
  },
  {
   "cell_type": "code",
   "execution_count": 90,
   "metadata": {
    "scrolled": true
   },
   "outputs": [
    {
     "name": "stdout",
     "output_type": "stream",
     "text": [
      "X 21366 Xtrain 17092 79 Xtest 4274 20\n"
     ]
    }
   ],
   "source": [
    "print('X',len(X),'Xtrain', len(Xtrain), int((len(Xtrain)/len(X))*100), \n",
    "      'Xtest', len(Xtest), int((len(Xtest)/len(X))*100))"
   ]
  },
  {
   "cell_type": "code",
   "execution_count": null,
   "metadata": {},
   "outputs": [],
   "source": []
  },
  {
   "cell_type": "markdown",
   "metadata": {},
   "source": [
    "## 1. Logistic Regression"
   ]
  },
  {
   "cell_type": "markdown",
   "metadata": {},
   "source": [
    "Steps:  \n",
    "a. Scale Xtrain/Xtest  \n",
    "b. Gridsearch CV best parameters (C and penalty) using LogisticRegression class balancing option\n",
    "c. Explore important features    \n",
    "d. Save gridsearchcv model to pickle  \n",
    "e. Test other class balancing methods using optimal C/penalty  \n",
    "f. Play with different probability thresholds for classification"
   ]
  },
  {
   "cell_type": "code",
   "execution_count": 91,
   "metadata": {},
   "outputs": [],
   "source": [
    "def get_metrics(m):\n",
    "    y_predict = m.predict(X_test_scaled)\n",
    "    print(\"Model name:\",m)\n",
    "    print(\"Default threshold:\")\n",
    "    print(\"Score: {:6.4f}, Precision: {:6.4f}, Recall: {:6.4f}, F1: {:6.4f}\".format(m.score(X_test_scaled, ytest),\n",
    "                                                                                    precision_score(ytest, y_predict), \n",
    "                                                                                    recall_score(ytest, y_predict),\n",
    "                                                                                    f1_score(ytest, y_predict)))"
   ]
  },
  {
   "cell_type": "markdown",
   "metadata": {},
   "source": [
    "### *a. Scale Xtrain and Xtest*"
   ]
  },
  {
   "cell_type": "code",
   "execution_count": 92,
   "metadata": {},
   "outputs": [],
   "source": [
    "std_scale = StandardScaler()\n",
    "\n",
    "X_train_scaled = std_scale.fit_transform(Xtrain)\n",
    "X_test_scaled = std_scale.transform(Xtest)\n"
   ]
  },
  {
   "cell_type": "markdown",
   "metadata": {},
   "source": [
    "### *b. Gridsearch CV best parameters*"
   ]
  },
  {
   "cell_type": "code",
   "execution_count": 99,
   "metadata": {},
   "outputs": [
    {
     "name": "stdout",
     "output_type": "stream",
     "text": [
      "17092 17092\n"
     ]
    }
   ],
   "source": [
    "print(len(Xtrain), len(X_train_scaled))"
   ]
  },
  {
   "cell_type": "markdown",
   "metadata": {},
   "source": [
    "*Try to run again to get best recall score*"
   ]
  },
  {
   "cell_type": "code",
   "execution_count": 96,
   "metadata": {},
   "outputs": [
    {
     "name": "stdout",
     "output_type": "stream",
     "text": [
      "tuned hpyerparameters :(best parameters)  {'C': 0.01, 'penalty': 'l1'}\n",
      "accuracy : 0.6058862493272321\n"
     ]
    }
   ],
   "source": [
    "grid={\"C\":np.logspace(-3,3,7), \"penalty\":[\"l1\",\"l2\"]}# l1 lasso l2 ridge\n",
    "logreg=LogisticRegression(random_state=0, class_weight='balanced')\n",
    "\n",
    "logreg_cv=GridSearchCV(logreg,grid,cv=5,scoring='recall')\n",
    "logreg_cv.fit(X_train_scaled, ytrain)\n",
    "\n",
    "print(\"tuned hpyerparameters :(best parameters) \",logreg_cv.best_params_)\n",
    "print(\"accuracy :\",logreg_cv.best_score_)"
   ]
  },
  {
   "cell_type": "markdown",
   "metadata": {},
   "source": [
    "### *c. Define, fit, score model with best parameters*"
   ]
  },
  {
   "cell_type": "markdown",
   "metadata": {},
   "source": [
    "*How it performs on the cross-validations on average*"
   ]
  },
  {
   "cell_type": "code",
   "execution_count": 103,
   "metadata": {},
   "outputs": [
    {
     "name": "stdout",
     "output_type": "stream",
     "text": [
      "accuracy : 0.6058862493272321\n"
     ]
    }
   ],
   "source": [
    "#print(logreg_cv.cv_results_)\n",
    "print(\"accuracy :\",logreg_cv.best_score_)\n",
    "# ^^^ I think this is the best average score for the best_params averaged across all k-folds "
   ]
  },
  {
   "cell_type": "markdown",
   "metadata": {},
   "source": [
    "*How it performs on the test set*"
   ]
  },
  {
   "cell_type": "code",
   "execution_count": 104,
   "metadata": {
    "scrolled": false
   },
   "outputs": [
    {
     "name": "stdout",
     "output_type": "stream",
     "text": [
      "Model name: GridSearchCV(cv=5, error_score='raise-deprecating',\n",
      "       estimator=LogisticRegression(C=1.0, class_weight='balanced', dual=False,\n",
      "          fit_intercept=True, intercept_scaling=1, max_iter=100,\n",
      "          multi_class='warn', n_jobs=None, penalty='l2', random_state=0,\n",
      "          solver='warn', tol=0.0001, verbose=0, warm_start=False),\n",
      "       fit_params=None, iid='warn', n_jobs=None,\n",
      "       param_grid={'C': array([1.e-03, 1.e-02, 1.e-01, 1.e+00, 1.e+01, 1.e+02, 1.e+03]), 'penalty': ['l1', 'l2']},\n",
      "       pre_dispatch='2*n_jobs', refit=True, return_train_score='warn',\n",
      "       scoring='recall', verbose=0)\n",
      "Default threshold:\n",
      "Score: 0.5928, Precision: 0.2888, Recall: 0.5928, F1: 0.3884\n"
     ]
    }
   ],
   "source": [
    "get_metrics(logreg_cv)"
   ]
  },
  {
   "cell_type": "code",
   "execution_count": 105,
   "metadata": {},
   "outputs": [
    {
     "name": "stdout",
     "output_type": "stream",
     "text": [
      "0.5928308823529411\n"
     ]
    }
   ],
   "source": [
    "y_pred_cv = logreg_cv.predict(X_test_scaled)\n",
    "print(recall_score(ytest, y_pred_cv))"
   ]
  },
  {
   "cell_type": "markdown",
   "metadata": {},
   "source": [
    "*Define a new model based on best_params to be used on other balance class training data below*  "
   ]
  },
  {
   "cell_type": "code",
   "execution_count": 106,
   "metadata": {
    "scrolled": true
   },
   "outputs": [
    {
     "name": "stdout",
     "output_type": "stream",
     "text": [
      "Model name: LogisticRegression(C=0.01, class_weight='balanced', dual=False,\n",
      "          fit_intercept=True, intercept_scaling=1, max_iter=100,\n",
      "          multi_class='warn', n_jobs=None, penalty='l1', random_state=0,\n",
      "          solver='warn', tol=0.0001, verbose=0, warm_start=False)\n",
      "Default threshold:\n",
      "Score: 0.5248, Precision: 0.2888, Recall: 0.5928, F1: 0.3884\n"
     ]
    }
   ],
   "source": [
    "model = LogisticRegression(C = 0.01, penalty = 'l1', random_state=0, class_weight='balanced')\n",
    "logreg_cv_best = model.fit(X_train_scaled, ytrain)\n",
    "logreg_cv_best.score(X_test_scaled, ytest)\n",
    "get_metrics(logreg_cv_best)"
   ]
  },
  {
   "cell_type": "code",
   "execution_count": 107,
   "metadata": {},
   "outputs": [
    {
     "data": {
      "text/plain": [
       "LogisticRegression(C=0.01, class_weight='balanced', dual=False,\n",
       "          fit_intercept=True, intercept_scaling=1, max_iter=100,\n",
       "          multi_class='warn', n_jobs=None, penalty='l1', random_state=0,\n",
       "          solver='warn', tol=0.0001, verbose=0, warm_start=False)"
      ]
     },
     "execution_count": 107,
     "metadata": {},
     "output_type": "execute_result"
    }
   ],
   "source": [
    "logreg_cv_best"
   ]
  },
  {
   "cell_type": "markdown",
   "metadata": {},
   "source": [
    "### *d. Save to pickle*"
   ]
  },
  {
   "cell_type": "code",
   "execution_count": 108,
   "metadata": {},
   "outputs": [],
   "source": [
    "# THE GRIDSEARCH RESULTS #\n",
    "pkl_filename = 'models/logreg_gridsearch_cv_20k.pkl'\n",
    "# Open\n",
    "gridcv_pkl = open(pkl_filename, 'wb')\n",
    "# Insert object\n",
    "pickle.dump(logreg_cv, gridcv_pkl)\n",
    "# Close\n",
    "gridcv_pkl.close()\n",
    "\n",
    "# THE MODEL WITH BEST PARAMS FIT ON SCALED TRAIN DATA #\n",
    "pkl_filename_2 = 'models/logreg_cv_20k.pkl'\n",
    "# Open \n",
    "model_pkl = open(pkl_filename_2, 'wb')\n",
    "# Insert object\n",
    "pickle.dump(logreg_cv_best, model_pkl)\n",
    "# Close\n",
    "model_pkl.close()"
   ]
  },
  {
   "cell_type": "markdown",
   "metadata": {},
   "source": [
    "### *e. Explore important features*"
   ]
  },
  {
   "cell_type": "markdown",
   "metadata": {},
   "source": [
    "**Import best classifier pickle**"
   ]
  },
  {
   "cell_type": "code",
   "execution_count": 109,
   "metadata": {},
   "outputs": [],
   "source": [
    "logreg_cv = pd.read_pickle('models/logreg_cv_20k.pkl')\n",
    "# This was called logreg_cv_best when pickled tho"
   ]
  },
  {
   "cell_type": "code",
   "execution_count": 110,
   "metadata": {},
   "outputs": [
    {
     "data": {
      "text/plain": [
       "LogisticRegression(C=0.01, class_weight='balanced', dual=False,\n",
       "          fit_intercept=True, intercept_scaling=1, max_iter=100,\n",
       "          multi_class='warn', n_jobs=None, penalty='l1', random_state=0,\n",
       "          solver='warn', tol=0.0001, verbose=0, warm_start=False)"
      ]
     },
     "execution_count": 110,
     "metadata": {},
     "output_type": "execute_result"
    }
   ],
   "source": [
    "logreg_cv"
   ]
  },
  {
   "cell_type": "code",
   "execution_count": 111,
   "metadata": {},
   "outputs": [
    {
     "data": {
      "text/plain": [
       "[('gender_male', 0.16997466827276853),\n",
       " ('num_sessions', 0.1362791920027659),\n",
       " ('gender_female', 0.10643884444663931),\n",
       " ('first_device_type_2_mac desktop', 0.10457765009992456),\n",
       " ('first_device_type_2_ipad', 0.07569003823225495),\n",
       " ('first_browser_2_ie', 0.0613142240349707),\n",
       " ('first_browser_2_chrome', 0.04758622405671925),\n",
       " ('age', 0.0445272988376546),\n",
       " ('first_browser_2_firefox', 0.03307212288271798),\n",
       " ('language_it', 0.02818652446922778)]"
      ]
     },
     "execution_count": 111,
     "metadata": {},
     "output_type": "execute_result"
    }
   ],
   "source": [
    "coef_dict = {}\n",
    "for coef, feat in zip(logreg_cv.coef_[0],Xtrain.columns):\n",
    "    coef_dict[feat] = coef\n",
    "sorted(coef_dict.items(), key=lambda kv: kv[1], reverse=True)[0:10]"
   ]
  },
  {
   "cell_type": "code",
   "execution_count": 112,
   "metadata": {},
   "outputs": [
    {
     "data": {
      "text/html": [
       "<div>\n",
       "<style scoped>\n",
       "    .dataframe tbody tr th:only-of-type {\n",
       "        vertical-align: middle;\n",
       "    }\n",
       "\n",
       "    .dataframe tbody tr th {\n",
       "        vertical-align: top;\n",
       "    }\n",
       "\n",
       "    .dataframe thead th {\n",
       "        text-align: right;\n",
       "    }\n",
       "</style>\n",
       "<table border=\"1\" class=\"dataframe\">\n",
       "  <thead>\n",
       "    <tr style=\"text-align: right;\">\n",
       "      <th></th>\n",
       "      <th>feature</th>\n",
       "      <th>weight</th>\n",
       "      <th>abs_weight</th>\n",
       "    </tr>\n",
       "  </thead>\n",
       "  <tbody>\n",
       "    <tr>\n",
       "      <th>0</th>\n",
       "      <td>gender_male</td>\n",
       "      <td>0.169975</td>\n",
       "      <td>0.169975</td>\n",
       "    </tr>\n",
       "    <tr>\n",
       "      <th>1</th>\n",
       "      <td>num_sessions</td>\n",
       "      <td>0.136279</td>\n",
       "      <td>0.136279</td>\n",
       "    </tr>\n",
       "    <tr>\n",
       "      <th>2</th>\n",
       "      <td>num_different_actions</td>\n",
       "      <td>-0.113019</td>\n",
       "      <td>0.113019</td>\n",
       "    </tr>\n",
       "    <tr>\n",
       "      <th>3</th>\n",
       "      <td>gender_female</td>\n",
       "      <td>0.106439</td>\n",
       "      <td>0.106439</td>\n",
       "    </tr>\n",
       "    <tr>\n",
       "      <th>4</th>\n",
       "      <td>first_device_type_2_mac desktop</td>\n",
       "      <td>0.104578</td>\n",
       "      <td>0.104578</td>\n",
       "    </tr>\n",
       "    <tr>\n",
       "      <th>5</th>\n",
       "      <td>first_device_type_2_ipad</td>\n",
       "      <td>0.075690</td>\n",
       "      <td>0.075690</td>\n",
       "    </tr>\n",
       "    <tr>\n",
       "      <th>6</th>\n",
       "      <td>first_browser_2_ie</td>\n",
       "      <td>0.061314</td>\n",
       "      <td>0.061314</td>\n",
       "    </tr>\n",
       "    <tr>\n",
       "      <th>7</th>\n",
       "      <td>first_browser_2_chrome</td>\n",
       "      <td>0.047586</td>\n",
       "      <td>0.047586</td>\n",
       "    </tr>\n",
       "    <tr>\n",
       "      <th>8</th>\n",
       "      <td>age</td>\n",
       "      <td>0.044527</td>\n",
       "      <td>0.044527</td>\n",
       "    </tr>\n",
       "    <tr>\n",
       "      <th>9</th>\n",
       "      <td>signup_app_2_moweb</td>\n",
       "      <td>-0.041465</td>\n",
       "      <td>0.041465</td>\n",
       "    </tr>\n",
       "  </tbody>\n",
       "</table>\n",
       "</div>"
      ],
      "text/plain": [
       "                           feature    weight  abs_weight\n",
       "0                      gender_male  0.169975    0.169975\n",
       "1                     num_sessions  0.136279    0.136279\n",
       "2            num_different_actions -0.113019    0.113019\n",
       "3                    gender_female  0.106439    0.106439\n",
       "4  first_device_type_2_mac desktop  0.104578    0.104578\n",
       "5         first_device_type_2_ipad  0.075690    0.075690\n",
       "6               first_browser_2_ie  0.061314    0.061314\n",
       "7           first_browser_2_chrome  0.047586    0.047586\n",
       "8                              age  0.044527    0.044527\n",
       "9               signup_app_2_moweb -0.041465    0.041465"
      ]
     },
     "execution_count": 112,
     "metadata": {},
     "output_type": "execute_result"
    }
   ],
   "source": [
    "features = pd.DataFrame([coef_dict]).transpose().reset_index()\n",
    "features.columns = ['feature','weight']\n",
    "features['abs_weight'] = abs(features.weight)\n",
    "features = features.sort_values(by='abs_weight', ascending = False).reset_index(drop=True)\n",
    "features = features[features.feature != 'month_first_booking']\n",
    "features[0:10]"
   ]
  },
  {
   "cell_type": "code",
   "execution_count": 113,
   "metadata": {
    "scrolled": true
   },
   "outputs": [
    {
     "data": {
      "image/png": "[encoded data removed]",
      "text/plain": [
       "<Figure size 360x360 with 1 Axes>"
      ]
     },
     "metadata": {},
     "output_type": "display_data"
    }
   ],
   "source": [
    "sns.set_style(\"whitegrid\")\n",
    "ftplot, ax = plt.subplots(figsize = (5,5))\n",
    "ftplot = sns.barplot(y=\"feature\", x=\"weight\", \n",
    "            orient=\"h\", data=features[0:20])\n",
    "y_lab = ['Google advertisement', 'Number of page visits', 'Marketing OMG', \n",
    "         'Used mobile browser', 'Used iPad']\n",
    "#ax.set_yticklabels(labels=y_lab, ha='right');\n",
    "axes = ftplot.axes\n",
    "#axes.set_xlim(-.02,.02);"
   ]
  },
  {
   "cell_type": "markdown",
   "metadata": {},
   "source": [
    "## *e. Test other class balancing methods using optimal C/penalty* "
   ]
  },
  {
   "cell_type": "code",
   "execution_count": 114,
   "metadata": {},
   "outputs": [],
   "source": [
    "from imblearn.over_sampling import RandomOverSampler\n",
    "from imblearn.over_sampling import SMOTE\n",
    "from imblearn.over_sampling import ADASYN\n",
    "from imblearn.under_sampling import RandomUnderSampler"
   ]
  },
  {
   "cell_type": "code",
   "execution_count": 115,
   "metadata": {},
   "outputs": [
    {
     "data": {
      "text/plain": [
       "LogisticRegression(C=0.01, class_weight='balanced', dual=False,\n",
       "          fit_intercept=True, intercept_scaling=1, max_iter=100,\n",
       "          multi_class='warn', n_jobs=None, penalty='l1', random_state=0,\n",
       "          solver='warn', tol=0.0001, verbose=0, warm_start=False)"
      ]
     },
     "execution_count": 115,
     "metadata": {},
     "output_type": "execute_result"
    }
   ],
   "source": [
    "#model_2 = LogisticRegression(C = 0.001, penalty = 'l1', random_state=0)\n",
    "logreg_cv"
   ]
  },
  {
   "cell_type": "markdown",
   "metadata": {},
   "source": [
    "**Random oversampling**"
   ]
  },
  {
   "cell_type": "code",
   "execution_count": 116,
   "metadata": {},
   "outputs": [],
   "source": [
    "ros = RandomOverSampler(random_state=0)\n",
    "X_resampled, y_resampled = ros.fit_sample(X_train_scaled,ytrain)\n",
    "#logit_over_sampled = model_2.fit(X_resampled, y_resampled)\n",
    "#logit_over_sampled.score(X_test_scaled, ytest)"
   ]
  },
  {
   "cell_type": "code",
   "execution_count": 117,
   "metadata": {},
   "outputs": [
    {
     "name": "stdout",
     "output_type": "stream",
     "text": [
      "Model name: LogisticRegression(C=0.01, class_weight='balanced', dual=False,\n",
      "          fit_intercept=True, intercept_scaling=1, max_iter=100,\n",
      "          multi_class='warn', n_jobs=None, penalty='l1', random_state=0,\n",
      "          solver='warn', tol=0.0001, verbose=0, warm_start=False)\n",
      "Default threshold:\n",
      "Score: 0.5325, Precision: 0.2919, Recall: 0.5864, F1: 0.3897\n"
     ]
    }
   ],
   "source": [
    "logit_over_sampled = logreg_cv_best.fit(X_resampled, y_resampled)\n",
    "get_metrics(logit_over_sampled)"
   ]
  },
  {
   "cell_type": "markdown",
   "metadata": {},
   "source": [
    "**ADASYN**"
   ]
  },
  {
   "cell_type": "code",
   "execution_count": 118,
   "metadata": {},
   "outputs": [],
   "source": [
    "ada = ADASYN(random_state=42)\n",
    "X_adasyn, y_adasyn = ada.fit_sample(X_train_scaled,ytrain)"
   ]
  },
  {
   "cell_type": "code",
   "execution_count": 119,
   "metadata": {},
   "outputs": [
    {
     "data": {
      "text/plain": [
       "0.5238652316331306"
      ]
     },
     "execution_count": 119,
     "metadata": {},
     "output_type": "execute_result"
    }
   ],
   "source": [
    "logit_adasyn = logreg_cv_best.fit(X_adasyn, y_adasyn)\n",
    "logit_adasyn.score(X_test_scaled, ytest)"
   ]
  },
  {
   "cell_type": "code",
   "execution_count": 120,
   "metadata": {},
   "outputs": [
    {
     "name": "stdout",
     "output_type": "stream",
     "text": [
      "Model name: LogisticRegression(C=0.01, class_weight='balanced', dual=False,\n",
      "          fit_intercept=True, intercept_scaling=1, max_iter=100,\n",
      "          multi_class='warn', n_jobs=None, penalty='l1', random_state=0,\n",
      "          solver='warn', tol=0.0001, verbose=0, warm_start=False)\n",
      "Default threshold:\n",
      "Score: 0.5239, Precision: 0.2883, Recall: 0.5928, F1: 0.3880\n"
     ]
    }
   ],
   "source": [
    "get_metrics(logit_adasyn)"
   ]
  },
  {
   "cell_type": "markdown",
   "metadata": {},
   "source": [
    "**SMOTE**"
   ]
  },
  {
   "cell_type": "code",
   "execution_count": 121,
   "metadata": {},
   "outputs": [],
   "source": [
    "smt = SMOTE(random_state=42)\n",
    "X_smoted, y_smoted = smt.fit_sample(X_train_scaled,ytrain)\n"
   ]
  },
  {
   "cell_type": "code",
   "execution_count": 122,
   "metadata": {},
   "outputs": [
    {
     "data": {
      "text/plain": [
       "0.5224613944782405"
      ]
     },
     "execution_count": 122,
     "metadata": {},
     "output_type": "execute_result"
    }
   ],
   "source": [
    "logit_smote = logreg_cv_best.fit(X_smoted, y_smoted)\n",
    "logit_smote.score(X_test_scaled, ytest)"
   ]
  },
  {
   "cell_type": "code",
   "execution_count": 123,
   "metadata": {},
   "outputs": [
    {
     "name": "stdout",
     "output_type": "stream",
     "text": [
      "Model name: LogisticRegression(C=0.01, class_weight='balanced', dual=False,\n",
      "          fit_intercept=True, intercept_scaling=1, max_iter=100,\n",
      "          multi_class='warn', n_jobs=None, penalty='l1', random_state=0,\n",
      "          solver='warn', tol=0.0001, verbose=0, warm_start=False)\n",
      "Default threshold:\n",
      "Score: 0.5225, Precision: 0.2864, Recall: 0.5873, F1: 0.3851\n"
     ]
    }
   ],
   "source": [
    "get_metrics(logit_smote)"
   ]
  },
  {
   "cell_type": "markdown",
   "metadata": {},
   "source": [
    "**Undersampling**"
   ]
  },
  {
   "cell_type": "code",
   "execution_count": 124,
   "metadata": {
    "scrolled": true
   },
   "outputs": [],
   "source": [
    "rus = RandomUnderSampler(random_state=42)\n",
    "X_under, y_under = rus.fit_sample(X_train_scaled,ytrain)"
   ]
  },
  {
   "cell_type": "code",
   "execution_count": 125,
   "metadata": {},
   "outputs": [
    {
     "data": {
      "text/plain": [
       "0.5163781001403838"
      ]
     },
     "execution_count": 125,
     "metadata": {},
     "output_type": "execute_result"
    }
   ],
   "source": [
    "logit_undersample = logreg_cv_best.fit(X_under, y_under)\n",
    "model.score(X_test_scaled, ytest)"
   ]
  },
  {
   "cell_type": "code",
   "execution_count": 126,
   "metadata": {
    "scrolled": true
   },
   "outputs": [
    {
     "name": "stdout",
     "output_type": "stream",
     "text": [
      "Model name: LogisticRegression(C=0.01, class_weight='balanced', dual=False,\n",
      "          fit_intercept=True, intercept_scaling=1, max_iter=100,\n",
      "          multi_class='warn', n_jobs=None, penalty='l1', random_state=0,\n",
      "          solver='warn', tol=0.0001, verbose=0, warm_start=False)\n",
      "Default threshold:\n",
      "Score: 0.5164, Precision: 0.2827, Recall: 0.5855, F1: 0.3813\n"
     ]
    }
   ],
   "source": [
    "get_metrics(logit_undersample)"
   ]
  },
  {
   "cell_type": "code",
   "execution_count": 116,
   "metadata": {
    "scrolled": false
   },
   "outputs": [
    {
     "data": {
      "text/plain": [
       "0.5443294785960641"
      ]
     },
     "execution_count": 116,
     "metadata": {},
     "output_type": "execute_result"
    }
   ],
   "source": [
    "y_predict = logit_undersample.predict(X_test_scaled)\n",
    "recall_score(ytest, y_predict)"
   ]
  },
  {
   "cell_type": "code",
   "execution_count": 127,
   "metadata": {},
   "outputs": [],
   "source": [
    "np.save('models/X_adasyn', X_adasyn)\n",
    "np.save('models/y_adasyn', y_adasyn)\n",
    "\n",
    "np.save('models/X_under', X_under)\n",
    "np.save('models/y_under', y_under)\n",
    "\n",
    "np.save('models/X_smoted', X_smoted)\n",
    "np.save('models/y_smoted', y_smoted)\n",
    "\n",
    "np.save('models/X_resampled', X_resampled)\n",
    "np.save('models/y_resampled', y_resampled)"
   ]
  },
  {
   "cell_type": "markdown",
   "metadata": {},
   "source": [
    "**My metric: Recall of class 0**\n",
    "Precision: Be more sure someone is going to US Before you market\n",
    "Recall: Catching people going to US\n",
    "\n",
    "from sklearn.metrics import classification_report\n",
    "for m in models:\n",
    "    print()"
   ]
  },
  {
   "cell_type": "markdown",
   "metadata": {},
   "source": [
    "Next steps: Lower threshold for how you classify Europeans (change to 1)\n",
    "1. ypredict = m.predict_proba(X_test)[:,1] > 0.6  \n",
    "2. Run KNN and compare AUCs\n",
    "3. Random forest + feature importance\n",
    "4. Plot AUCs for all models\n",
    "5. Interactive bokeh graph that takes 4 models, range of predict_probas, to choose best model"
   ]
  },
  {
   "cell_type": "markdown",
   "metadata": {},
   "source": [
    "## Where to go between 0.4 and 0.4??"
   ]
  },
  {
   "cell_type": "markdown",
   "metadata": {},
   "source": [
    "*Pickling the class balancers really just pickled the logreg_cv model*  \n",
    "*Need to re-fit on the balanced data sets*"
   ]
  },
  {
   "cell_type": "code",
   "execution_count": 144,
   "metadata": {},
   "outputs": [
    {
     "data": {
      "text/plain": [
       "4274"
      ]
     },
     "execution_count": 144,
     "metadata": {},
     "output_type": "execute_result"
    }
   ],
   "source": [
    "y_predict = logreg_cv.predict_proba(X_test_scaled)[:,1]\n",
    "y_predict"
   ]
  },
  {
   "cell_type": "code",
   "execution_count": 129,
   "metadata": {},
   "outputs": [
    {
     "data": {
      "text/plain": [
       "(4274, 23)"
      ]
     },
     "execution_count": 129,
     "metadata": {},
     "output_type": "execute_result"
    }
   ],
   "source": [
    "probs=np.arange(0.,1.05,0.05)\n",
    "\n",
    "df_probas = pd.DataFrame(y_predict)\n",
    "df_probas.columns = ['probability']\n",
    "df_probas = df_probas.assign(ytest=ytest.values)\n",
    "\n",
    "for p in probs.round(2):    \n",
    "    df_probas['thrs_'+str(p)] = np.where(df_probas.eval(\"probability > \"+str(p)), 1, 0)\n",
    "    #df_probas.loc[df_probas['thrs_'+str(p)] == df_probas['ytest'], 'match_'+str(p)] = 1\n",
    "    #df_probas.loc[df_probas['thrs_'+str(p)] != df_probas['ytest'], 'match_'+str(p)] = 0\n",
    "#df_probas = pd.concat(df_probas, ytest)\n",
    "df_probas.shape"
   ]
  },
  {
   "cell_type": "code",
   "execution_count": 130,
   "metadata": {
    "scrolled": false
   },
   "outputs": [
    {
     "data": {
      "text/html": [
       "<div>\n",
       "<style scoped>\n",
       "    .dataframe tbody tr th:only-of-type {\n",
       "        vertical-align: middle;\n",
       "    }\n",
       "\n",
       "    .dataframe tbody tr th {\n",
       "        vertical-align: top;\n",
       "    }\n",
       "\n",
       "    .dataframe thead th {\n",
       "        text-align: right;\n",
       "    }\n",
       "</style>\n",
       "<table border=\"1\" class=\"dataframe\">\n",
       "  <thead>\n",
       "    <tr style=\"text-align: right;\">\n",
       "      <th></th>\n",
       "      <th>index</th>\n",
       "      <th>probability</th>\n",
       "      <th>ytest</th>\n",
       "      <th>thrs_0.0</th>\n",
       "      <th>thrs_0.05</th>\n",
       "      <th>thrs_0.1</th>\n",
       "      <th>thrs_0.15</th>\n",
       "      <th>thrs_0.2</th>\n",
       "      <th>thrs_0.25</th>\n",
       "      <th>thrs_0.3</th>\n",
       "      <th>...</th>\n",
       "      <th>thrs_0.55</th>\n",
       "      <th>thrs_0.6</th>\n",
       "      <th>thrs_0.65</th>\n",
       "      <th>thrs_0.7</th>\n",
       "      <th>thrs_0.75</th>\n",
       "      <th>thrs_0.8</th>\n",
       "      <th>thrs_0.85</th>\n",
       "      <th>thrs_0.9</th>\n",
       "      <th>thrs_0.95</th>\n",
       "      <th>thrs_1.0</th>\n",
       "    </tr>\n",
       "  </thead>\n",
       "  <tbody>\n",
       "    <tr>\n",
       "      <th>count</th>\n",
       "      <td>4274.000000</td>\n",
       "      <td>4274.000000</td>\n",
       "      <td>4274.000000</td>\n",
       "      <td>4274.0</td>\n",
       "      <td>4274.0</td>\n",
       "      <td>4274.0</td>\n",
       "      <td>4274.0</td>\n",
       "      <td>4274.0</td>\n",
       "      <td>4274.0</td>\n",
       "      <td>4274.0</td>\n",
       "      <td>...</td>\n",
       "      <td>4274.000000</td>\n",
       "      <td>4274.000000</td>\n",
       "      <td>4274.000000</td>\n",
       "      <td>4274.000000</td>\n",
       "      <td>4274.0</td>\n",
       "      <td>4274.0</td>\n",
       "      <td>4274.0</td>\n",
       "      <td>4274.0</td>\n",
       "      <td>4274.0</td>\n",
       "      <td>4274.0</td>\n",
       "    </tr>\n",
       "    <tr>\n",
       "      <th>mean</th>\n",
       "      <td>2136.500000</td>\n",
       "      <td>0.498527</td>\n",
       "      <td>0.254562</td>\n",
       "      <td>1.0</td>\n",
       "      <td>1.0</td>\n",
       "      <td>1.0</td>\n",
       "      <td>1.0</td>\n",
       "      <td>1.0</td>\n",
       "      <td>1.0</td>\n",
       "      <td>1.0</td>\n",
       "      <td>...</td>\n",
       "      <td>0.188582</td>\n",
       "      <td>0.035330</td>\n",
       "      <td>0.006083</td>\n",
       "      <td>0.000702</td>\n",
       "      <td>0.0</td>\n",
       "      <td>0.0</td>\n",
       "      <td>0.0</td>\n",
       "      <td>0.0</td>\n",
       "      <td>0.0</td>\n",
       "      <td>0.0</td>\n",
       "    </tr>\n",
       "    <tr>\n",
       "      <th>std</th>\n",
       "      <td>1233.941854</td>\n",
       "      <td>0.060196</td>\n",
       "      <td>0.435666</td>\n",
       "      <td>0.0</td>\n",
       "      <td>0.0</td>\n",
       "      <td>0.0</td>\n",
       "      <td>0.0</td>\n",
       "      <td>0.0</td>\n",
       "      <td>0.0</td>\n",
       "      <td>0.0</td>\n",
       "      <td>...</td>\n",
       "      <td>0.391222</td>\n",
       "      <td>0.184634</td>\n",
       "      <td>0.077767</td>\n",
       "      <td>0.026488</td>\n",
       "      <td>0.0</td>\n",
       "      <td>0.0</td>\n",
       "      <td>0.0</td>\n",
       "      <td>0.0</td>\n",
       "      <td>0.0</td>\n",
       "      <td>0.0</td>\n",
       "    </tr>\n",
       "    <tr>\n",
       "      <th>min</th>\n",
       "      <td>0.000000</td>\n",
       "      <td>0.307528</td>\n",
       "      <td>0.000000</td>\n",
       "      <td>1.0</td>\n",
       "      <td>1.0</td>\n",
       "      <td>1.0</td>\n",
       "      <td>1.0</td>\n",
       "      <td>1.0</td>\n",
       "      <td>1.0</td>\n",
       "      <td>1.0</td>\n",
       "      <td>...</td>\n",
       "      <td>0.000000</td>\n",
       "      <td>0.000000</td>\n",
       "      <td>0.000000</td>\n",
       "      <td>0.000000</td>\n",
       "      <td>0.0</td>\n",
       "      <td>0.0</td>\n",
       "      <td>0.0</td>\n",
       "      <td>0.0</td>\n",
       "      <td>0.0</td>\n",
       "      <td>0.0</td>\n",
       "    </tr>\n",
       "    <tr>\n",
       "      <th>25%</th>\n",
       "      <td>1068.250000</td>\n",
       "      <td>0.461587</td>\n",
       "      <td>0.000000</td>\n",
       "      <td>1.0</td>\n",
       "      <td>1.0</td>\n",
       "      <td>1.0</td>\n",
       "      <td>1.0</td>\n",
       "      <td>1.0</td>\n",
       "      <td>1.0</td>\n",
       "      <td>1.0</td>\n",
       "      <td>...</td>\n",
       "      <td>0.000000</td>\n",
       "      <td>0.000000</td>\n",
       "      <td>0.000000</td>\n",
       "      <td>0.000000</td>\n",
       "      <td>0.0</td>\n",
       "      <td>0.0</td>\n",
       "      <td>0.0</td>\n",
       "      <td>0.0</td>\n",
       "      <td>0.0</td>\n",
       "      <td>0.0</td>\n",
       "    </tr>\n",
       "    <tr>\n",
       "      <th>50%</th>\n",
       "      <td>2136.500000</td>\n",
       "      <td>0.503174</td>\n",
       "      <td>0.000000</td>\n",
       "      <td>1.0</td>\n",
       "      <td>1.0</td>\n",
       "      <td>1.0</td>\n",
       "      <td>1.0</td>\n",
       "      <td>1.0</td>\n",
       "      <td>1.0</td>\n",
       "      <td>1.0</td>\n",
       "      <td>...</td>\n",
       "      <td>0.000000</td>\n",
       "      <td>0.000000</td>\n",
       "      <td>0.000000</td>\n",
       "      <td>0.000000</td>\n",
       "      <td>0.0</td>\n",
       "      <td>0.0</td>\n",
       "      <td>0.0</td>\n",
       "      <td>0.0</td>\n",
       "      <td>0.0</td>\n",
       "      <td>0.0</td>\n",
       "    </tr>\n",
       "    <tr>\n",
       "      <th>75%</th>\n",
       "      <td>3204.750000</td>\n",
       "      <td>0.540194</td>\n",
       "      <td>1.000000</td>\n",
       "      <td>1.0</td>\n",
       "      <td>1.0</td>\n",
       "      <td>1.0</td>\n",
       "      <td>1.0</td>\n",
       "      <td>1.0</td>\n",
       "      <td>1.0</td>\n",
       "      <td>1.0</td>\n",
       "      <td>...</td>\n",
       "      <td>0.000000</td>\n",
       "      <td>0.000000</td>\n",
       "      <td>0.000000</td>\n",
       "      <td>0.000000</td>\n",
       "      <td>0.0</td>\n",
       "      <td>0.0</td>\n",
       "      <td>0.0</td>\n",
       "      <td>0.0</td>\n",
       "      <td>0.0</td>\n",
       "      <td>0.0</td>\n",
       "    </tr>\n",
       "    <tr>\n",
       "      <th>max</th>\n",
       "      <td>4273.000000</td>\n",
       "      <td>0.718321</td>\n",
       "      <td>1.000000</td>\n",
       "      <td>1.0</td>\n",
       "      <td>1.0</td>\n",
       "      <td>1.0</td>\n",
       "      <td>1.0</td>\n",
       "      <td>1.0</td>\n",
       "      <td>1.0</td>\n",
       "      <td>1.0</td>\n",
       "      <td>...</td>\n",
       "      <td>1.000000</td>\n",
       "      <td>1.000000</td>\n",
       "      <td>1.000000</td>\n",
       "      <td>1.000000</td>\n",
       "      <td>0.0</td>\n",
       "      <td>0.0</td>\n",
       "      <td>0.0</td>\n",
       "      <td>0.0</td>\n",
       "      <td>0.0</td>\n",
       "      <td>0.0</td>\n",
       "    </tr>\n",
       "  </tbody>\n",
       "</table>\n",
       "<p>8 rows × 24 columns</p>\n",
       "</div>"
      ],
      "text/plain": [
       "             index  probability        ytest  thrs_0.0  thrs_0.05  thrs_0.1  \\\n",
       "count  4274.000000  4274.000000  4274.000000    4274.0     4274.0    4274.0   \n",
       "mean   2136.500000     0.498527     0.254562       1.0        1.0       1.0   \n",
       "std    1233.941854     0.060196     0.435666       0.0        0.0       0.0   \n",
       "min       0.000000     0.307528     0.000000       1.0        1.0       1.0   \n",
       "25%    1068.250000     0.461587     0.000000       1.0        1.0       1.0   \n",
       "50%    2136.500000     0.503174     0.000000       1.0        1.0       1.0   \n",
       "75%    3204.750000     0.540194     1.000000       1.0        1.0       1.0   \n",
       "max    4273.000000     0.718321     1.000000       1.0        1.0       1.0   \n",
       "\n",
       "       thrs_0.15  thrs_0.2  thrs_0.25  thrs_0.3  ...    thrs_0.55  \\\n",
       "count     4274.0    4274.0     4274.0    4274.0  ...  4274.000000   \n",
       "mean         1.0       1.0        1.0       1.0  ...     0.188582   \n",
       "std          0.0       0.0        0.0       0.0  ...     0.391222   \n",
       "min          1.0       1.0        1.0       1.0  ...     0.000000   \n",
       "25%          1.0       1.0        1.0       1.0  ...     0.000000   \n",
       "50%          1.0       1.0        1.0       1.0  ...     0.000000   \n",
       "75%          1.0       1.0        1.0       1.0  ...     0.000000   \n",
       "max          1.0       1.0        1.0       1.0  ...     1.000000   \n",
       "\n",
       "          thrs_0.6    thrs_0.65     thrs_0.7  thrs_0.75  thrs_0.8  thrs_0.85  \\\n",
       "count  4274.000000  4274.000000  4274.000000     4274.0    4274.0     4274.0   \n",
       "mean      0.035330     0.006083     0.000702        0.0       0.0        0.0   \n",
       "std       0.184634     0.077767     0.026488        0.0       0.0        0.0   \n",
       "min       0.000000     0.000000     0.000000        0.0       0.0        0.0   \n",
       "25%       0.000000     0.000000     0.000000        0.0       0.0        0.0   \n",
       "50%       0.000000     0.000000     0.000000        0.0       0.0        0.0   \n",
       "75%       0.000000     0.000000     0.000000        0.0       0.0        0.0   \n",
       "max       1.000000     1.000000     1.000000        0.0       0.0        0.0   \n",
       "\n",
       "       thrs_0.9  thrs_0.95  thrs_1.0  \n",
       "count    4274.0     4274.0    4274.0  \n",
       "mean        0.0        0.0       0.0  \n",
       "std         0.0        0.0       0.0  \n",
       "min         0.0        0.0       0.0  \n",
       "25%         0.0        0.0       0.0  \n",
       "50%         0.0        0.0       0.0  \n",
       "75%         0.0        0.0       0.0  \n",
       "max         0.0        0.0       0.0  \n",
       "\n",
       "[8 rows x 24 columns]"
      ]
     },
     "execution_count": 130,
     "metadata": {},
     "output_type": "execute_result"
    }
   ],
   "source": [
    "df_probas = df_probas.reset_index()\n",
    "df_probas.describe()"
   ]
  },
  {
   "cell_type": "code",
   "execution_count": 131,
   "metadata": {},
   "outputs": [
    {
     "data": {
      "text/plain": [
       "array([0.41675612, 0.41536595, 0.518775  , ..., 0.58356692, 0.41027139,\n",
       "       0.4813508 ])"
      ]
     },
     "execution_count": 131,
     "metadata": {},
     "output_type": "execute_result"
    }
   ],
   "source": [
    "y_predict"
   ]
  },
  {
   "cell_type": "code",
   "execution_count": 142,
   "metadata": {},
   "outputs": [
    {
     "data": {
      "image/png": "[encoded data removed]",
      "text/plain": [
       "<Figure size 1080x360 with 1 Axes>"
      ]
     },
     "metadata": {},
     "output_type": "display_data"
    }
   ],
   "source": [
    "sns.set_style(\"whitegrid\")\n",
    "ftplot, ax = plt.subplots(figsize = (15,5))\n",
    "ftplot = sns.scatterplot(y=\"probability\", x='index', \n",
    "            data=df_probas[df_probas.ytest == 1], hue = 'thrs_0.4', alpha = 1)\n",
    "\n",
    "#ax.set_yticklabels(labels=y_lab, ha='right');\n",
    "axes = ftplot.axes\n",
    "axes.set_ylim(-0.1,1.1);"
   ]
  },
  {
   "cell_type": "code",
   "execution_count": 145,
   "metadata": {},
   "outputs": [
    {
     "data": {
      "text/plain": [
       "{0.0: 1.0,\n",
       " 0.05: 1.0,\n",
       " 0.1: 1.0,\n",
       " 0.15000000000000002: 1.0,\n",
       " 0.2: 1.0,\n",
       " 0.25: 1.0,\n",
       " 0.30000000000000004: 1.0,\n",
       " 0.35000000000000003: 0.9981617647058824,\n",
       " 0.4: 0.9816176470588235,\n",
       " 0.45: 0.8832720588235294,\n",
       " 0.5: 0.5928308823529411,\n",
       " 0.55: 0.24724264705882354,\n",
       " 0.6000000000000001: 0.05422794117647059,\n",
       " 0.65: 0.011948529411764705,\n",
       " 0.7000000000000001: 0.0009191176470588235,\n",
       " 0.75: 0.0,\n",
       " 0.8: 0.0,\n",
       " 0.8500000000000001: 0.0,\n",
       " 0.9: 0.0,\n",
       " 0.9500000000000001: 0.0,\n",
       " 1.0: 0.0}"
      ]
     },
     "execution_count": 145,
     "metadata": {},
     "output_type": "execute_result"
    }
   ],
   "source": [
    "pred_probas = {}\n",
    "probs=np.arange(0.,1.05,0.05)\n",
    "for p in probs:\n",
    "    #logit_adasyn = logreg_cv.fit(X_adasyn, y_adasyn)\n",
    "    y_predict = logreg_cv.predict_proba(X_test_scaled)[:,1] > p\n",
    "    recall = recall_score(ytest, y_predict)\n",
    "    pred_probas[p] = recall\n",
    "    #print(p,recall)\n",
    "pred_probas"
   ]
  },
  {
   "cell_type": "code",
   "execution_count": 147,
   "metadata": {},
   "outputs": [],
   "source": [
    "from sklearn.metrics import roc_auc_score, roc_curve\n",
    "\n",
    "fpr, tpr, thresholds = roc_curve(ytest, logit_adasyn.predict_proba(X_test_scaled)[:,1])"
   ]
  },
  {
   "cell_type": "code",
   "execution_count": 148,
   "metadata": {},
   "outputs": [
    {
     "data": {
      "text/plain": [
       "array([ True,  True,  True, ...,  True,  True,  True])"
      ]
     },
     "execution_count": 148,
     "metadata": {},
     "output_type": "execute_result"
    }
   ],
   "source": [
    "(logit_adasyn.predict_proba(X_test_scaled)[:,1] > 0.4)"
   ]
  },
  {
   "cell_type": "code",
   "execution_count": 149,
   "metadata": {},
   "outputs": [
    {
     "name": "stdout",
     "output_type": "stream",
     "text": [
      "ROC AUC score =  0.5855952108950925\n"
     ]
    },
    {
     "data": {
      "image/png": "[encoded data removed]",
      "text/plain": [
       "<Figure size 432x288 with 1 Axes>"
      ]
     },
     "metadata": {},
     "output_type": "display_data"
    }
   ],
   "source": [
    "plt.plot(fpr, tpr,lw=2)\n",
    "plt.plot([0,1],[0,1],c='violet',ls='--')\n",
    "plt.xlim([-0.05,1.05])\n",
    "plt.ylim([-0.05,1.05])\n",
    "\n",
    "\n",
    "plt.xlabel('False positive rate')\n",
    "plt.ylabel('True positive rate')\n",
    "plt.title('ROC curve for logistic regression');\n",
    "print(\"ROC AUC score = \", roc_auc_score(ytest, logreg_cv.predict_proba(X_test_scaled)[:,1]))"
   ]
  },
  {
   "cell_type": "markdown",
   "metadata": {},
   "source": [
    "***"
   ]
  },
  {
   "cell_type": "markdown",
   "metadata": {},
   "source": [
    "## 2. KNN"
   ]
  },
  {
   "cell_type": "code",
   "execution_count": null,
   "metadata": {},
   "outputs": [],
   "source": []
  }
 ],
 "metadata": {
  "kernelspec": {
   "display_name": "Python 3",
   "language": "python",
   "name": "python3"
  },
  "language_info": {
   "codemirror_mode": {
    "name": "ipython",
    "version": 3
   },
   "file_extension": ".py",
   "mimetype": "text/x-python",
   "name": "python",
   "nbconvert_exporter": "python",
   "pygments_lexer": "ipython3",
   "version": "3.6.8"
  }
 },
 "nbformat": 4,
 "nbformat_minor": 2
}
