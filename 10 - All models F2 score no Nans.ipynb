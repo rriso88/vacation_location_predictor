{
 "cells": [
  {
   "cell_type": "code",
   "execution_count": 1,
   "metadata": {},
   "outputs": [],
   "source": [
    "from sklearn import metrics\n",
    "import matplotlib.pyplot as plt\n",
    "import pandas as pd\n",
    "import numpy as np\n",
    "import pickle\n",
    "import seaborn as sns\n",
    "\n",
    "def warn(*args, **kwargs):\n",
    "    pass\n",
    "import warnings\n",
    "warnings.warn = warn\n",
    "\n",
    "from sklearn.linear_model import LinearRegression, Lasso, LassoCV, Ridge, RidgeCV\n",
    "from sklearn.metrics import r2_score #ordinary linear regression + w/ ridge regularization\n",
    "from sklearn.datasets import make_classification\n",
    "from sklearn.neighbors import KNeighborsClassifier\n",
    "from sklearn.tree import DecisionTreeClassifier\n",
    "from sklearn.svm import LinearSVC\n",
    "from sklearn.svm import SVC\n",
    "from sklearn.ensemble import RandomForestClassifier\n",
    "from sklearn.linear_model import LogisticRegression\n",
    "from sklearn.model_selection import train_test_split\n",
    "from sklearn.metrics import precision_score, recall_score, accuracy_score, roc_auc_score\n",
    "from sklearn.metrics import confusion_matrix\n",
    "from sklearn.preprocessing import StandardScaler\n",
    "from sklearn.model_selection import StratifiedKFold\n",
    "from sklearn.metrics import precision_score, recall_score, precision_recall_curve,f1_score, fbeta_score\n",
    "from sklearn.metrics import fbeta_score, make_scorer\n",
    "from sklearn.ensemble import RandomForestClassifier\n",
    "from sklearn.model_selection import RandomizedSearchCV\n",
    "\n",
    "import xgboost as xgb\n",
    "from xgboost import XGBClassifier\n",
    "from sklearn.model_selection import GridSearchCV\n",
    "from sklearn.linear_model import LogisticRegression\n",
    "import warnings\n",
    "warnings.filterwarnings(\"ignore\", category=DeprecationWarning)"
   ]
  },
  {
   "cell_type": "code",
   "execution_count": 2,
   "metadata": {},
   "outputs": [],
   "source": [
    "def get_metrics(m):\n",
    "    y_predict = m.predict(X_test_scaled)\n",
    "    print(\"Model name:\",m)\n",
    "    print(\"Default threshold:\")\n",
    "    print(\"Score: {:6.4f}, Precision: {:6.4f}, Recall: {:6.4f}, F1: {:6.4f}\".format(m.score(X_test_scaled, ytest),\n",
    "                                                                                    precision_score(ytest, y_predict), \n",
    "                                                                                    recall_score(ytest, y_predict),\n",
    "                                                                                    f1_score(ytest, y_predict)))"
   ]
  },
  {
   "cell_type": "markdown",
   "metadata": {},
   "source": [
    "**1. Load the data**"
   ]
  },
  {
   "cell_type": "code",
   "execution_count": 3,
   "metadata": {},
   "outputs": [],
   "source": [
    "Xy = pd.read_pickle('data_for_regression_20k.pkl')"
   ]
  },
  {
   "cell_type": "code",
   "execution_count": 20,
   "metadata": {},
   "outputs": [
    {
     "data": {
      "text/plain": [
       "(21366, 64)"
      ]
     },
     "execution_count": 20,
     "metadata": {},
     "output_type": "execute_result"
    }
   ],
   "source": [
    "Xy.shape"
   ]
  },
  {
   "cell_type": "code",
   "execution_count": 4,
   "metadata": {},
   "outputs": [],
   "source": [
    "y_bi = Xy['country_USA_World_bi']\n",
    "y_mlt = Xy['country_dest_id']   \n",
    "X = Xy.drop(['country_dest_id','country_USA_World_bi'], axis = 1)"
   ]
  },
  {
   "cell_type": "code",
   "execution_count": 24,
   "metadata": {},
   "outputs": [
    {
     "data": {
      "text/plain": [
       "(21366, 62)"
      ]
     },
     "execution_count": 24,
     "metadata": {},
     "output_type": "execute_result"
    }
   ],
   "source": [
    "X.shape"
   ]
  },
  {
   "cell_type": "code",
   "execution_count": 25,
   "metadata": {},
   "outputs": [
    {
     "data": {
      "text/plain": [
       "Index(['age', 'signup_flow', 'gender_female', 'gender_male', 'gender_other',\n",
       "       'signup_method_basic', 'signup_method_facebook', 'language_ca',\n",
       "       'language_cs', 'language_da', 'language_de', 'language_el',\n",
       "       'language_en', 'language_es', 'language_fi', 'language_fr',\n",
       "       'language_hr', 'language_hu', 'language_id', 'language_is',\n",
       "       'language_it', 'language_ja', 'language_ko', 'language_nl',\n",
       "       'language_no', 'language_pl', 'language_pt', 'language_ru',\n",
       "       'language_sv', 'language_th', 'language_tr', 'year_created',\n",
       "       'month_created', 'day_created', 'year_active', 'month_active',\n",
       "       'day_active', 'lag_active_create', 'affiliate_channel_2_brand',\n",
       "       'affiliate_channel_2_direct', 'affiliate_provider_2_direct',\n",
       "       'affiliate_provider_2_google', 'first_affiliate_tracked_2_linked',\n",
       "       'first_affiliate_tracked_2_omg', 'first_affiliate_tracked_2_other',\n",
       "       'first_device_type_2_android', 'first_device_type_2_ipad',\n",
       "       'first_device_type_2_iphone', 'first_device_type_2_mac desktop',\n",
       "       'first_device_type_2_other', 'first_browser_2_chrome',\n",
       "       'first_browser_2_firefox', 'first_browser_2_ie',\n",
       "       'first_browser_2_other', 'signup_app_2_android', 'signup_app_2_ios',\n",
       "       'signup_app_2_moweb', 'secs_elapsed_mean', 'secs_elapsed_std',\n",
       "       'num_different_devices', 'num_different_actions', 'num_sessions'],\n",
       "      dtype='object')"
      ]
     },
     "execution_count": 25,
     "metadata": {},
     "output_type": "execute_result"
    }
   ],
   "source": [
    "X.columns"
   ]
  },
  {
   "cell_type": "markdown",
   "metadata": {},
   "source": [
    "**Any last feature engineering???**"
   ]
  },
  {
   "cell_type": "code",
   "execution_count": 26,
   "metadata": {},
   "outputs": [],
   "source": [
    "#Xy1 = X.iloc[:,0:8].join(ytrain)"
   ]
  },
  {
   "cell_type": "code",
   "execution_count": 27,
   "metadata": {
    "scrolled": true
   },
   "outputs": [
    {
     "data": {
      "text/plain": [
       "[(('signup_flow', 'signup_app_2_ios'), 0.8),\n",
       " (('signup_method_basic', 'signup_method_facebook'), -0.99),\n",
       " (('month_created', 'month_active'), 1.0),\n",
       " (('day_created', 'day_active'), 1.0),\n",
       " (('affiliate_channel_2_brand', 'affiliate_channel_2_direct'), -0.8),\n",
       " (('affiliate_channel_2_brand', 'affiliate_provider_2_direct'), -0.8),\n",
       " (('affiliate_channel_2_brand', 'affiliate_provider_2_google'), 0.85),\n",
       " (('affiliate_channel_2_brand', 'first_affiliate_tracked_2_omg'), 0.72),\n",
       " (('affiliate_channel_2_direct', 'affiliate_provider_2_direct'), 1.0),\n",
       " (('affiliate_channel_2_direct', 'affiliate_provider_2_google'), -0.89),\n",
       " (('affiliate_provider_2_direct', 'affiliate_provider_2_google'), -0.89),\n",
       " (('first_device_type_2_iphone', 'signup_app_2_ios'), 0.76),\n",
       " (('secs_elapsed_mean', 'secs_elapsed_std'), 0.85)]"
      ]
     },
     "execution_count": 27,
     "metadata": {},
     "output_type": "execute_result"
    }
   ],
   "source": [
    "corrs = {}\n",
    "#cols = ['bike_score', 'walk_score', 'pct_time_in_traffic', 'gdp_per_cap_17','bus_per_sq_mi', 'percip_inches', 'density2019', 'state_tax', 'city_tax', 'total_tax', 'year_F', 'transit_score', 'population', 'log_pop', 'pop_density_1/2']\n",
    "cols = X.columns\n",
    "for x in cols:\n",
    "    cols = [w for w in cols if w != x]\n",
    "    for w in cols:\n",
    "        corrs[(x, w)] = X[x].corr(X[w])\n",
    "results = [(x, v.round(2)) for x, v in corrs.items() if abs(corrs[x]) > 0.7]\n",
    "results"
   ]
  },
  {
   "cell_type": "code",
   "execution_count": 28,
   "metadata": {},
   "outputs": [],
   "source": [
    "#X['first_device_iphone_ios'] = X['first_device_type_2_iphone']*X['signup_app_2_ios']"
   ]
  },
  {
   "cell_type": "code",
   "execution_count": 5,
   "metadata": {},
   "outputs": [],
   "source": [
    "X = X.drop(['month_created', 'day_created'], axis = 1)"
   ]
  },
  {
   "cell_type": "code",
   "execution_count": 6,
   "metadata": {},
   "outputs": [],
   "source": [
    "one_hot = pd.get_dummies(X['month_active'])\n",
    "one_hot = one_hot.add_prefix('month_active_')\n",
    "X = X.join(one_hot.iloc[:,0:-1])"
   ]
  },
  {
   "cell_type": "code",
   "execution_count": 7,
   "metadata": {},
   "outputs": [],
   "source": [
    "one_hot = pd.get_dummies(X['day_active'])\n",
    "one_hot = one_hot.add_prefix('day_active_')\n",
    "X = X.join(one_hot.iloc[:,0:-1])"
   ]
  },
  {
   "cell_type": "code",
   "execution_count": 8,
   "metadata": {},
   "outputs": [],
   "source": [
    "X = X.drop(['month_active', 'day_active'], axis = 1)"
   ]
  },
  {
   "cell_type": "code",
   "execution_count": 33,
   "metadata": {
    "scrolled": true
   },
   "outputs": [
    {
     "data": {
      "text/plain": [
       "Index(['age', 'signup_flow', 'gender_female', 'gender_male', 'gender_other',\n",
       "       'signup_method_basic', 'signup_method_facebook', 'language_ca',\n",
       "       'language_cs', 'language_da', 'language_de', 'language_el',\n",
       "       'language_en', 'language_es', 'language_fi', 'language_fr',\n",
       "       'language_hr', 'language_hu', 'language_id', 'language_is',\n",
       "       'language_it', 'language_ja', 'language_ko', 'language_nl',\n",
       "       'language_no', 'language_pl', 'language_pt', 'language_ru',\n",
       "       'language_sv', 'language_th', 'language_tr', 'year_created',\n",
       "       'year_active', 'lag_active_create', 'affiliate_channel_2_brand',\n",
       "       'affiliate_channel_2_direct', 'affiliate_provider_2_direct',\n",
       "       'affiliate_provider_2_google', 'first_affiliate_tracked_2_linked',\n",
       "       'first_affiliate_tracked_2_omg', 'first_affiliate_tracked_2_other',\n",
       "       'first_device_type_2_android', 'first_device_type_2_ipad',\n",
       "       'first_device_type_2_iphone', 'first_device_type_2_mac desktop',\n",
       "       'first_device_type_2_other', 'first_browser_2_chrome',\n",
       "       'first_browser_2_firefox', 'first_browser_2_ie',\n",
       "       'first_browser_2_other', 'signup_app_2_android', 'signup_app_2_ios',\n",
       "       'signup_app_2_moweb', 'secs_elapsed_mean', 'secs_elapsed_std',\n",
       "       'num_different_devices', 'num_different_actions', 'num_sessions',\n",
       "       'month_active_1.0', 'month_active_2.0', 'month_active_3.0',\n",
       "       'month_active_4.0', 'month_active_5.0', 'day_active_0.0',\n",
       "       'day_active_1.0', 'day_active_2.0', 'day_active_3.0', 'day_active_4.0',\n",
       "       'day_active_5.0'],\n",
       "      dtype='object')"
      ]
     },
     "execution_count": 33,
     "metadata": {},
     "output_type": "execute_result"
    }
   ],
   "source": [
    "X.columns"
   ]
  },
  {
   "cell_type": "markdown",
   "metadata": {},
   "source": [
    "**Train-test-split**"
   ]
  },
  {
   "cell_type": "code",
   "execution_count": 34,
   "metadata": {},
   "outputs": [],
   "source": [
    "Xtrain, Xtest, ytrain, ytest = train_test_split(X, y_bi, test_size=0.2, \n",
    "                                                stratify=y_bi,random_state = 88)\n"
   ]
  },
  {
   "cell_type": "code",
   "execution_count": 91,
   "metadata": {},
   "outputs": [
    {
     "data": {
      "text/plain": [
       "(17092, 69)"
      ]
     },
     "execution_count": 91,
     "metadata": {},
     "output_type": "execute_result"
    }
   ],
   "source": [
    "Xtrain.shape"
   ]
  },
  {
   "cell_type": "code",
   "execution_count": 92,
   "metadata": {},
   "outputs": [],
   "source": [
    "std_scale = StandardScaler()\n",
    "X_train_scaled = std_scale.fit_transform(Xtrain)\n",
    "X_test_scaled = std_scale.transform(Xtest)"
   ]
  },
  {
   "cell_type": "code",
   "execution_count": 93,
   "metadata": {},
   "outputs": [],
   "source": [
    "np.save('data/X_train_scaled_20k', X_train_scaled)\n",
    "np.save('data/X_test_scaled_20k', X_test_scaled)\n",
    "\n",
    "\n",
    "ytrain.to_pickle('ytrain_20k.pkl')\n",
    "ytest.to_pickle('ytest_20k.pkl')"
   ]
  },
  {
   "cell_type": "code",
   "execution_count": 134,
   "metadata": {},
   "outputs": [],
   "source": [
    "Xtrain.to_pickle('data-viz/Xtrain.pkl')\n",
    "Xtest.to_pickle('data-viz/Xtest.pkl')"
   ]
  },
  {
   "cell_type": "markdown",
   "metadata": {},
   "source": [
    "**2. Gridsearch to optimize F2**"
   ]
  },
  {
   "cell_type": "code",
   "execution_count": 9,
   "metadata": {},
   "outputs": [],
   "source": [
    "X_train_scaled = np.load('data/X_train_scaled_20k.npy')\n",
    "X_test_scaled = np.load('data/X_test_scaled_20k.npy')\n",
    "\n",
    "ytrain = pd.read_pickle('ytrain_20k.pkl')\n",
    "ytest = pd.read_pickle('ytest_20k.pkl')"
   ]
  },
  {
   "cell_type": "code",
   "execution_count": 10,
   "metadata": {},
   "outputs": [],
   "source": [
    "ftwo_scorer = make_scorer(fbeta_score, beta=2)"
   ]
  },
  {
   "cell_type": "markdown",
   "metadata": {},
   "source": [
    "*a. Logistic regression*"
   ]
  },
  {
   "cell_type": "code",
   "execution_count": 13,
   "metadata": {},
   "outputs": [
    {
     "name": "stdout",
     "output_type": "stream",
     "text": [
      "tuned hpyerparameters :(best parameters)  {'C': 0.01, 'penalty': 'l1'}\n",
      "f2 score : 0.4989799848059427\n"
     ]
    }
   ],
   "source": [
    "grid={\"C\":np.logspace(-3,3,7), \"penalty\":[\"l1\",\"l2\"]}# l1 lasso l2 ridge\n",
    "logreg=LogisticRegression(random_state=0, class_weight='balanced')\n",
    "\n",
    "logreg_cv=GridSearchCV(logreg,grid,cv=5,scoring=ftwo_scorer)\n",
    "logreg_cv.fit(X_train_scaled, ytrain)\n",
    "\n",
    "print(\"tuned hpyerparameters :(best parameters) \", logreg_cv.best_params_)\n",
    "print(\"f2 score :\", logreg_cv.best_score_)"
   ]
  },
  {
   "cell_type": "markdown",
   "metadata": {},
   "source": [
    "*b. KNN*"
   ]
  },
  {
   "cell_type": "code",
   "execution_count": 38,
   "metadata": {},
   "outputs": [
    {
     "name": "stdout",
     "output_type": "stream",
     "text": [
      "tuned hpyerparameters :(best parameters)  {'n_neighbors': 1}\n",
      "f2 score : 0.27884008778627306\n"
     ]
    }
   ],
   "source": [
    "grid={\"n_neighbors\":np.arange(8)+1}\n",
    "knn=KNeighborsClassifier()\n",
    "knn_cv=GridSearchCV(knn, grid, cv=3, scoring=ftwo_scorer)\n",
    "knn_cv.fit(X_train_scaled, ytrain)\n",
    "\n",
    "print(\"tuned hpyerparameters :(best parameters) \",knn_cv.best_params_)\n",
    "print(\"f2 score :\",knn_cv.best_score_)"
   ]
  },
  {
   "cell_type": "markdown",
   "metadata": {},
   "source": [
    "*c. Decision tree*"
   ]
  },
  {
   "cell_type": "code",
   "execution_count": 14,
   "metadata": {},
   "outputs": [
    {
     "name": "stdout",
     "output_type": "stream",
     "text": [
      "tuned hpyerparameters :(best parameters)  {'max_depth': 7}\n",
      "f2 score : 0.5185261817980878\n"
     ]
    }
   ],
   "source": [
    "grid={\"max_depth\":np.arange(8)+1}\n",
    "dsc=DecisionTreeClassifier(random_state=0, class_weight='balanced')\n",
    "dsc_cv=GridSearchCV(dsc, grid, cv=3, scoring = ftwo_scorer)\n",
    "dsc_cv.fit(X_train_scaled, ytrain)\n",
    "\n",
    "print(\"tuned hpyerparameters :(best parameters) \",dsc_cv.best_params_)\n",
    "print(\"f2 score :\",dsc_cv.best_score_)"
   ]
  },
  {
   "cell_type": "markdown",
   "metadata": {},
   "source": [
    "*d. Random forest*"
   ]
  },
  {
   "cell_type": "code",
   "execution_count": 16,
   "metadata": {},
   "outputs": [
    {
     "name": "stdout",
     "output_type": "stream",
     "text": [
      "tuned hpyerparameters :(best parameters)  {'criterion': 'entropy', 'max_depth': 6, 'max_features': 'auto', 'n_estimators': 500}\n",
      "f2 score : 0.5283258652524836\n"
     ]
    }
   ],
   "source": [
    "grid = { \n",
    "    'n_estimators': [200, 500],\n",
    "    'max_features': ['auto', 'sqrt', 'log2'],\n",
    "    'max_depth' : [4,5,6,7,8],\n",
    "    'criterion' :['gini', 'entropy']}\n",
    "\n",
    "rf = RandomForestClassifier(random_state=0, class_weight='balanced')\n",
    "rf_cv = GridSearchCV(rf, grid, cv=3, scoring = ftwo_scorer)\n",
    "rf_cv.fit(X_train_scaled, ytrain)\n",
    "\n",
    "print(\"tuned hpyerparameters :(best parameters) \",rf_cv.best_params_)\n",
    "print(\"f2 score :\",rf_cv.best_score_)"
   ]
  },
  {
   "cell_type": "markdown",
   "metadata": {},
   "source": [
    "*e. SVM*"
   ]
  },
  {
   "cell_type": "code",
   "execution_count": 39,
   "metadata": {},
   "outputs": [
    {
     "name": "stdout",
     "output_type": "stream",
     "text": [
      "tuned hpyerparameters :(best parameters)  {'C': 1, 'gamma': 0.0001, 'kernel': 'poly'}\n",
      "f2 score : 0.6303824598293394\n"
     ]
    }
   ],
   "source": [
    "grid = {'C': [1, 10, 100, 1000], 'gamma': [0.001, 0.0001], 'kernel': ['poly']}\n",
    "svm = SVC(random_state=0, class_weight='balanced')\n",
    "svm_cv_rp=GridSearchCV(svm, grid, cv=3, scoring = ftwo_scorer)\n",
    "svm_cv_rp.fit(X_train_scaled, ytrain)\n",
    "\n",
    "print(\"tuned hpyerparameters :(best parameters) \",svm_cv_rp.best_params_)\n",
    "print(\"f2 score :\",svm_cv_rp.best_score_)"
   ]
  },
  {
   "cell_type": "code",
   "execution_count": 48,
   "metadata": {},
   "outputs": [
    {
     "name": "stdout",
     "output_type": "stream",
     "text": [
      "tuned hpyerparameters :(best parameters)  {'C': 10, 'gamma': 0.001, 'kernel': 'rbf'}\n",
      "f2 score : 0.5430786071115057\n"
     ]
    }
   ],
   "source": [
    "grid = {'C': [1, 10, 100, 1000], 'gamma': [0.001, 0.0001], 'kernel': ['rbf']}\n",
    "svm = SVC(random_state=0, class_weight='balanced')\n",
    "svm_cv_r=GridSearchCV(svm, grid, cv=3, scoring = ftwo_scorer)\n",
    "svm_cv_r.fit(X_train_scaled, ytrain)\n",
    "\n",
    "print(\"tuned hpyerparameters :(best parameters) \",svm_cv_r.best_params_)\n",
    "print(\"f2 score :\",svm_cv_r.best_score_)"
   ]
  },
  {
   "cell_type": "code",
   "execution_count": 43,
   "metadata": {
    "scrolled": true
   },
   "outputs": [
    {
     "name": "stdout",
     "output_type": "stream",
     "text": [
      "Model name: GridSearchCV(cv=3, error_score='raise-deprecating',\n",
      "       estimator=SVC(C=1.0, cache_size=200, class_weight='balanced', coef0=0.0,\n",
      "  decision_function_shape='ovr', degree=3, gamma='auto_deprecated',\n",
      "  kernel='rbf', max_iter=-1, probability=False, random_state=0,\n",
      "  shrinking=True, tol=0.001, verbose=False),\n",
      "       fit_params=None, iid='warn', n_jobs=None,\n",
      "       param_grid={'C': [1, 10, 100, 1000], 'gamma': [0.001, 0.0001], 'kernel': ['rbf', 'poly']},\n",
      "       pre_dispatch='2*n_jobs', refit=True, return_train_score='warn',\n",
      "       scoring=make_scorer(fbeta_score, beta=2), verbose=0)\n",
      "Default threshold:\n",
      "Score: 0.6308, Precision: 0.2547, Recall: 1.0000, F1: 0.4060\n"
     ]
    }
   ],
   "source": [
    "get_metrics(svm_cv_rp)"
   ]
  },
  {
   "cell_type": "markdown",
   "metadata": {},
   "source": [
    "**Save gridsearch results to pickle**"
   ]
  },
  {
   "cell_type": "code",
   "execution_count": 50,
   "metadata": {},
   "outputs": [],
   "source": [
    "results = [{'name': 'logreg','gridsearch': logreg_cv},\n",
    "          {'name': 'knn','gridsearch': knn_cv},\n",
    "          {'name': 'dsc','gridsearch': dsc_cv},\n",
    "          {'name': 'rf', 'gridsearch': rf_cv},\n",
    "          {'name': 'svm_poly', 'gridsearch': svm_cv_rp},\n",
    "          {'name': 'svm_rbf', 'gridsearch': svm_cv_r}]\n",
    "# PICKLE THE GRIDSEARCH RESULTS #\n",
    "for r in results:\n",
    "    name = r['name']\n",
    "    pkl_filename = 'modelsF2/'+name+'grid_20k.pkl'\n",
    "    # Open\n",
    "    gridcv_pkl = open(pkl_filename, 'wb')\n",
    "    # Insert object\n",
    "    pickle.dump(r['gridsearch'], gridcv_pkl)\n",
    "    # Close\n",
    "    gridcv_pkl.close()"
   ]
  },
  {
   "cell_type": "markdown",
   "metadata": {},
   "source": [
    "**Load in gridsearch pickles**"
   ]
  },
  {
   "cell_type": "code",
   "execution_count": 94,
   "metadata": {},
   "outputs": [],
   "source": [
    "logreg_cv=pd.read_pickle('modelsF2/logreggrid_20k.pkl')\n",
    "knn_cv=pd.read_pickle('modelsF2/knngrid_20k.pkl')\n",
    "dsc_cv=pd.read_pickle('modelsF2/dscgrid_20k.pkl')\n",
    "rf_cv=pd.read_pickle('modelsF2/rfgrid_20k.pkl')\n",
    "svm_cv_rp=pd.read_pickle('modelsF2/svm_polygrid_20k.pkl')\n",
    "svm_cv_r=pd.read_pickle('modelsF2/svm_rbfgrid_20k.pkl')\n"
   ]
  },
  {
   "cell_type": "code",
   "execution_count": 95,
   "metadata": {},
   "outputs": [
    {
     "data": {
      "text/plain": [
       "SVC(C=1, cache_size=200, class_weight='balanced', coef0=0.0,\n",
       "  decision_function_shape='ovr', degree=3, gamma=0.0001, kernel='poly',\n",
       "  max_iter=-1, probability=True, random_state=0, shrinking=True, tol=0.001,\n",
       "  verbose=False)"
      ]
     },
     "execution_count": 95,
     "metadata": {},
     "output_type": "execute_result"
    }
   ],
   "source": [
    "svm_poly"
   ]
  },
  {
   "cell_type": "code",
   "execution_count": 96,
   "metadata": {},
   "outputs": [],
   "source": [
    "logreg = logreg_cv.best_estimator_.fit(X_train_scaled, ytrain)\n",
    "knn = knn_cv.best_estimator_.fit(X_train_scaled, ytrain)\n",
    "dsc = dsc_cv.best_estimator_.fit(X_train_scaled, ytrain)\n",
    "rf = rf_cv.best_estimator_.fit(X_train_scaled, ytrain)\n",
    "\n",
    "svm_poly_best = SVC(C=1, cache_size=200, class_weight='balanced', coef0=0.0,\n",
    "  decision_function_shape='ovr', degree=3, gamma=0.0001, kernel='poly',\n",
    "  max_iter=-1, probability=True, random_state=0, shrinking=True,\n",
    "  tol=0.001, verbose=False)\n",
    "\n",
    "svm_rbf_best = SVC(C=10, cache_size=200, class_weight='balanced', coef0=0.0,\n",
    "  decision_function_shape='ovr', degree=3, gamma=0.001, kernel='rbf',\n",
    "  max_iter=-1, probability=True, random_state=0, shrinking=True,\n",
    "  tol=0.001, verbose=False)\n",
    "\n",
    "svm_poly = svm_poly_best.fit(X_train_scaled, ytrain)\n",
    "\n",
    "svm_rbf = svm_rbf_best.fit(X_train_scaled, ytrain)"
   ]
  },
  {
   "cell_type": "code",
   "execution_count": 97,
   "metadata": {},
   "outputs": [],
   "source": [
    "results = [{'name': 'logreg','gridsearch': logreg_cv, 'model': logreg},\n",
    "          {'name': 'knn','gridsearch': knn_cv,'model':knn},\n",
    "          {'name': 'dsc','gridsearch': dsc_cv,'model':dsc},\n",
    "          {'name': 'rf', 'gridsearch': rf_cv,'model':rf},\n",
    "          {'name': 'svm_poly', 'gridsearch': svm_cv_rp,'model':svm_poly},\n",
    "          {'name': 'svm_rbf', 'gridsearch': svm_cv_r,'model':svm_rbf}]"
   ]
  },
  {
   "cell_type": "code",
   "execution_count": 98,
   "metadata": {},
   "outputs": [],
   "source": [
    "# FIT AND PICKLE EACH MODEL AND PREDICTIONS #\n",
    "for r in results:\n",
    "    #Model\n",
    "    model = r['model']\n",
    "    name = r['name']\n",
    "    pkl_filename = 'modelsF2/'+name+'_20k.pkl'\n",
    "    model_pkl = open(pkl_filename, 'wb')\n",
    "    pickle.dump(model, model_pkl)\n",
    "    model_pkl.close()\n",
    "    #Predictions\n",
    "    y_pred = model.predict(X_test_scaled)\n",
    "    np.save('modelsF2/'+r['name']+'_ypreds', y_pred)"
   ]
  },
  {
   "cell_type": "markdown",
   "metadata": {},
   "source": [
    "**Read in models and predictions**"
   ]
  },
  {
   "cell_type": "code",
   "execution_count": 99,
   "metadata": {},
   "outputs": [
    {
     "data": {
      "text/plain": [
       "SVC(C=10, cache_size=200, class_weight='balanced', coef0=0.0,\n",
       "  decision_function_shape='ovr', degree=3, gamma=0.001, kernel='rbf',\n",
       "  max_iter=-1, probability=True, random_state=0, shrinking=True, tol=0.001,\n",
       "  verbose=False)"
      ]
     },
     "execution_count": 99,
     "metadata": {},
     "output_type": "execute_result"
    }
   ],
   "source": [
    "svm_rbf"
   ]
  },
  {
   "cell_type": "code",
   "execution_count": 11,
   "metadata": {},
   "outputs": [],
   "source": [
    "logreg=pd.read_pickle('modelsF2/logreg_20k.pkl')\n",
    "knn=pd.read_pickle('modelsF2/knn_20k.pkl')\n",
    "dsc=pd.read_pickle('modelsF2/dsc_20k.pkl')\n",
    "rf=pd.read_pickle('modelsF2/rf_20k.pkl')\n",
    "svm_poly=pd.read_pickle('modelsF2/svm_poly_20k.pkl')\n",
    "svm_rbf=pd.read_pickle('modelsF2/svm_rbf_20k.pkl')\n",
    "\n"
   ]
  },
  {
   "cell_type": "code",
   "execution_count": 12,
   "metadata": {
    "scrolled": true
   },
   "outputs": [],
   "source": [
    "models = [{'name': 'logreg','label': 'Logistic Regression', 'model': logreg},\n",
    "          {'name': 'knn','label': 'K Nearest Neighbors','model':knn},\n",
    "          {'name': 'dsc','label': 'Descision Tree','model':dsc},\n",
    "          {'name': 'rf', 'label': 'Random Forest','model':rf},\n",
    "          {'name': 'svm_poly', 'label': 'SVC (Poly)','model':svm_poly},\n",
    "          {'name': 'svm_rbf', 'label': 'SVC (RBF)','model':svm_rbf}]"
   ]
  },
  {
   "cell_type": "markdown",
   "metadata": {},
   "source": [
    "**Get metrics**"
   ]
  },
  {
   "cell_type": "code",
   "execution_count": 41,
   "metadata": {
    "scrolled": true
   },
   "outputs": [
    {
     "name": "stdout",
     "output_type": "stream",
     "text": [
      "Model name: Logistic Regression\n",
      "Default threshold:\n",
      "Accuracy: 0.516 Precision: 0.291 Recall: 0.628 F1: 0.398 F2: 0.51\n",
      "***\n",
      "Model name: K Nearest Neighbors\n",
      "Default threshold:\n",
      "Accuracy: 0.633 Precision: 0.268 Recall: 0.256 F1: 0.262 F2: 0.258\n",
      "***\n",
      "Model name: Descision Tree\n",
      "Default threshold:\n",
      "Accuracy: 0.572 Precision: 0.311 Recall: 0.559 F1: 0.399 F2: 0.482\n",
      "***\n",
      "Model name: Random Forest\n",
      "Default threshold:\n",
      "Accuracy: 0.491 Precision: 0.302 Recall: 0.759 F1: 0.432 F2: 0.583\n",
      "***\n",
      "Model name: SVC (Poly)\n",
      "Default threshold:\n",
      "Accuracy: 0.255 Precision: 0.255 Recall: 1.0 F1: 0.406 F2: 0.631\n",
      "***\n",
      "Model name: SVC (RBF)\n",
      "Default threshold:\n",
      "Accuracy: 0.495 Precision: 0.293 Recall: 0.698 F1: 0.413 F2: 0.547\n",
      "***\n"
     ]
    }
   ],
   "source": [
    "for m in models:\n",
    "    y_predict = np.load('modelsF2/'+m['name']+'_ypreds.npy')\n",
    "    \n",
    "    accuracy = m['model'].score(X_test_scaled, ytest).round(3)\n",
    "    precision = precision_score(ytest, y_predict).round(3)\n",
    "    recall = recall_score(ytest, y_predict).round(3)\n",
    "    f1 = f1_score(ytest, y_predict).round(3)\n",
    "    f2 = fbeta_score(ytest, y_predict, beta=2).round(3)\n",
    "    \n",
    "    m['accuracy'] = accuracy\n",
    "    m['precision'] = precision\n",
    "    m['recall'] = recall\n",
    "    m['f1'] = f1\n",
    "    m['f2'] = f2\n",
    "    \n",
    "    print(\"Model name:\",m['label'])\n",
    "    print(\"Default threshold:\")\n",
    "    print('Accuracy:',accuracy,\n",
    "          'Precision:',precision,\n",
    "          'Recall:',recall,\n",
    "          'F1:',f1,\n",
    "          'F2:',f2)        \n",
    "          \n",
    "    print('***')"
   ]
  },
  {
   "cell_type": "code",
   "execution_count": 13,
   "metadata": {},
   "outputs": [
    {
     "name": "stdout",
     "output_type": "stream",
     "text": [
      "['logreg', 'knn', 'dsc', 'rf', 'svm_poly', 'svm_rbf']\n"
     ]
    }
   ],
   "source": [
    "print([m['name'] for m in models])"
   ]
  },
  {
   "cell_type": "code",
   "execution_count": 14,
   "metadata": {},
   "outputs": [
    {
     "name": "stdout",
     "output_type": "stream",
     "text": [
      "logreg\n",
      "rf\n",
      "svm_rbf\n"
     ]
    }
   ],
   "source": [
    "for m in models:\n",
    "    if m['name'] == 'logreg' or m['name'] == 'rf' or m['name'] =='svm_rbf':\n",
    "        print (m['name'])"
   ]
  },
  {
   "cell_type": "code",
   "execution_count": 15,
   "metadata": {},
   "outputs": [
    {
     "data": {
      "text/plain": [
       "array([0., 0., 1., ..., 1., 1., 1.])"
      ]
     },
     "execution_count": 15,
     "metadata": {},
     "output_type": "execute_result"
    }
   ],
   "source": [
    "y_predict = np.load('modelsF2/svm_rbf_ypreds.npy')\n",
    "y_predict"
   ]
  },
  {
   "cell_type": "code",
   "execution_count": 16,
   "metadata": {
    "scrolled": false
   },
   "outputs": [
    {
     "data": {
      "text/plain": [
       "array([0.22871855, 0.16596767, 0.27281404, ..., 0.3679374 , 0.26055163,\n",
       "       0.26344118])"
      ]
     },
     "execution_count": 16,
     "metadata": {},
     "output_type": "execute_result"
    }
   ],
   "source": [
    "#svm_rbf.fit(X_train_scaled, ytrain)\n",
    "#y_pred=svm_rbf.predict(X_test_scaled)\n",
    "svm_rbf.predict_proba(X_test_scaled)[:,1]"
   ]
  },
  {
   "cell_type": "code",
   "execution_count": 21,
   "metadata": {},
   "outputs": [
    {
     "data": {
      "text/plain": [
       "[(0.51, 'logreg'),\n",
       " (0.258, 'knn'),\n",
       " (0.482, 'dsc'),\n",
       " (0.583, 'rf'),\n",
       " (0.631, 'svm_poly'),\n",
       " (0.547, 'svm_rbf')]"
      ]
     },
     "execution_count": 21,
     "metadata": {},
     "output_type": "execute_result"
    }
   ],
   "source": [
    "list(zip([m['f2'] for m in models], [m['name'] for m in models]))"
   ]
  },
  {
   "cell_type": "code",
   "execution_count": 23,
   "metadata": {},
   "outputs": [
    {
     "data": {
      "text/plain": [
       "['rf', 'svm_rbf', 'logreg', 'svm_poly']"
      ]
     },
     "execution_count": 23,
     "metadata": {},
     "output_type": "execute_result"
    }
   ],
   "source": [
    "models_graph = []\n",
    "models_graph.append(models[3])\n",
    "models_graph.append(models[5])\n",
    "models_graph.append(models[0])\n",
    "models_graph.append(models[4])\n",
    "#models_graph.append(models[2])\n",
    "#models_graph.append(models[1])\n",
    "[m['name'] for m in models_graph]"
   ]
  },
  {
   "cell_type": "code",
   "execution_count": 43,
   "metadata": {},
   "outputs": [
    {
     "data": {
      "image/png": "[encoded data removed]",
      "text/plain": [
       "<Figure size 720x504 with 1 Axes>"
      ]
     },
     "metadata": {},
     "output_type": "display_data"
    }
   ],
   "source": [
    "plt.style.use('seaborn-colorblind')\n",
    "sns.set_style(\"whitegrid\", {'axes.grid' : False})\n",
    "\n",
    "from cycler import cycler\n",
    "plt.rcParams['axes.prop_cycle'] = cycler(color=['deeppink','orange','olive','cornflowerblue'])\n",
    "\n",
    "figure, ax = plt.subplots(figsize = (10,7))\n",
    "#plt.figure(figsize=(10, 7))\n",
    "\n",
    "\n",
    "for m in models_graph:\n",
    "    if m['name'] == 'logreg' or m['name'] == 'rf' or m['name'] =='svm_rbf' or m['name'] =='svm_poly':\n",
    "        model = m['model'] \n",
    "        y_predict = np.load('modelsF2/'+m['name']+'_ypreds.npy')\n",
    "    \n",
    "        fpr, tpr, thresholds = metrics.roc_curve(ytest, model.predict_proba(X_test_scaled)[:,1])\n",
    "        if model == svm_poly:\n",
    "            fpr = 1-fpr\n",
    "            tpr = 1-tpr\n",
    "        # Calculate Area under the curve to display on the plot\n",
    "        auc = metrics.roc_auc_score(ytest,model.predict(X_test_scaled))\n",
    "        # Plot the computed values\n",
    "        plt.plot(fpr, tpr, label='%s (%0.2f)' % (m['label'], auc))\n",
    "\n",
    "# Custom settings for the plot \n",
    "plt.plot([0, 1], [0, 1], color = 'gray', linestyle=\"--\")\n",
    "plt.xlim([0.0, 1.0])\n",
    "plt.ylim([0.0, 1.05])\n",
    "plt.setp(ax.lines, linewidth=5)\n",
    "plt.xlabel('False Positive Rate', size = 24)\n",
    "plt.ylabel('True Positive Rate', size = 24)\n",
    "ax.tick_params(axis = 'both', which = 'major', labelsize = 18)\n",
    "plt.title('Random Forest Classifier Maximizes AUC', weight = 'bold', size = 28)\n",
    "plt.legend(loc=\"lower right\", prop = {'size': 20})\n",
    "plt.savefig(\"graphs/ROCAUC.png\", bbox_inches='tight')\n",
    "plt.show();"
   ]
  },
  {
   "cell_type": "markdown",
   "metadata": {},
   "source": [
    "***"
   ]
  },
  {
   "cell_type": "markdown",
   "metadata": {},
   "source": [
    "**Correlated features from logistic regression**"
   ]
  },
  {
   "cell_type": "code",
   "execution_count": 110,
   "metadata": {
    "scrolled": false
   },
   "outputs": [
    {
     "data": {
      "text/plain": [
       "[('gender_male', 0.13546890700471856),\n",
       " ('num_sessions', 0.12756780415050537),\n",
       " ('first_device_type_2_mac desktop', 0.0728090709284054),\n",
       " ('gender_female', 0.07160256081137119),\n",
       " ('first_device_type_2_ipad', 0.06000110991394809),\n",
       " ('age', 0.03978261794028165),\n",
       " ('first_browser_2_ie', 0.03845576217103059),\n",
       " ('language_it', 0.027429724082392665),\n",
       " ('first_browser_2_chrome', 0.014265459750094306),\n",
       " ('language_fr', 0.010755559415014887)]"
      ]
     },
     "execution_count": 110,
     "metadata": {},
     "output_type": "execute_result"
    }
   ],
   "source": [
    "coef_dict = {}\n",
    "for coef, feat in zip(logreg.coef_[0],Xtrain.columns):\n",
    "    coef_dict[feat] = coef\n",
    "sorted(coef_dict.items(), key=lambda kv: kv[1], reverse=True)[0:10]"
   ]
  },
  {
   "cell_type": "code",
   "execution_count": 111,
   "metadata": {},
   "outputs": [],
   "source": [
    "features = pd.DataFrame([coef_dict]).transpose().reset_index()\n",
    "features.columns = ['feature','weight']\n"
   ]
  },
  {
   "cell_type": "code",
   "execution_count": 112,
   "metadata": {},
   "outputs": [],
   "source": [
    "lang = features[features['feature'].str.contains(\"language\")]\n",
    "lang = lang[lang['feature'] != 'language_en']\n",
    "lang['weight'].sum()\n",
    "\n",
    "features = features.append({'feature': 'language_non_english',\n",
    "                            'weight': lang['weight'].sum()}, ignore_index=True)"
   ]
  },
  {
   "cell_type": "code",
   "execution_count": 113,
   "metadata": {
    "scrolled": true
   },
   "outputs": [
    {
     "data": {
      "text/html": [
       "<div>\n",
       "<style scoped>\n",
       "    .dataframe tbody tr th:only-of-type {\n",
       "        vertical-align: middle;\n",
       "    }\n",
       "\n",
       "    .dataframe tbody tr th {\n",
       "        vertical-align: top;\n",
       "    }\n",
       "\n",
       "    .dataframe thead th {\n",
       "        text-align: right;\n",
       "    }\n",
       "</style>\n",
       "<table border=\"1\" class=\"dataframe\">\n",
       "  <thead>\n",
       "    <tr style=\"text-align: right;\">\n",
       "      <th></th>\n",
       "      <th>feature</th>\n",
       "      <th>weight</th>\n",
       "      <th>abs_weight</th>\n",
       "    </tr>\n",
       "  </thead>\n",
       "  <tbody>\n",
       "    <tr>\n",
       "      <th>0</th>\n",
       "      <td>day_active_3.0</td>\n",
       "      <td>-0.149004</td>\n",
       "      <td>0.149004</td>\n",
       "    </tr>\n",
       "    <tr>\n",
       "      <th>1</th>\n",
       "      <td>gender_male</td>\n",
       "      <td>0.135469</td>\n",
       "      <td>0.135469</td>\n",
       "    </tr>\n",
       "    <tr>\n",
       "      <th>2</th>\n",
       "      <td>num_sessions</td>\n",
       "      <td>0.127568</td>\n",
       "      <td>0.127568</td>\n",
       "    </tr>\n",
       "    <tr>\n",
       "      <th>3</th>\n",
       "      <td>num_different_actions</td>\n",
       "      <td>-0.111161</td>\n",
       "      <td>0.111161</td>\n",
       "    </tr>\n",
       "    <tr>\n",
       "      <th>4</th>\n",
       "      <td>month_active_4.0</td>\n",
       "      <td>-0.110948</td>\n",
       "      <td>0.110948</td>\n",
       "    </tr>\n",
       "    <tr>\n",
       "      <th>5</th>\n",
       "      <td>first_device_type_2_mac desktop</td>\n",
       "      <td>0.072809</td>\n",
       "      <td>0.072809</td>\n",
       "    </tr>\n",
       "    <tr>\n",
       "      <th>6</th>\n",
       "      <td>gender_female</td>\n",
       "      <td>0.071603</td>\n",
       "      <td>0.071603</td>\n",
       "    </tr>\n",
       "    <tr>\n",
       "      <th>7</th>\n",
       "      <td>language_non_english</td>\n",
       "      <td>0.067342</td>\n",
       "      <td>0.067342</td>\n",
       "    </tr>\n",
       "    <tr>\n",
       "      <th>8</th>\n",
       "      <td>first_device_type_2_ipad</td>\n",
       "      <td>0.060001</td>\n",
       "      <td>0.060001</td>\n",
       "    </tr>\n",
       "    <tr>\n",
       "      <th>9</th>\n",
       "      <td>signup_app_2_moweb</td>\n",
       "      <td>-0.050122</td>\n",
       "      <td>0.050122</td>\n",
       "    </tr>\n",
       "  </tbody>\n",
       "</table>\n",
       "</div>"
      ],
      "text/plain": [
       "                           feature    weight  abs_weight\n",
       "0                   day_active_3.0 -0.149004    0.149004\n",
       "1                      gender_male  0.135469    0.135469\n",
       "2                     num_sessions  0.127568    0.127568\n",
       "3            num_different_actions -0.111161    0.111161\n",
       "4                 month_active_4.0 -0.110948    0.110948\n",
       "5  first_device_type_2_mac desktop  0.072809    0.072809\n",
       "6                    gender_female  0.071603    0.071603\n",
       "7             language_non_english  0.067342    0.067342\n",
       "8         first_device_type_2_ipad  0.060001    0.060001\n",
       "9               signup_app_2_moweb -0.050122    0.050122"
      ]
     },
     "execution_count": 113,
     "metadata": {},
     "output_type": "execute_result"
    }
   ],
   "source": [
    "features['abs_weight'] = abs(features.weight)\n",
    "features = features.sort_values(by='abs_weight', ascending = False).reset_index(drop=True)\n",
    "features = features[features.feature != 'month_first_booking']\n",
    "features[0:10]"
   ]
  },
  {
   "cell_type": "code",
   "execution_count": 114,
   "metadata": {},
   "outputs": [
    {
     "data": {
      "image/png": "[encoded data removed]",
      "text/plain": [
       "<Figure size 720x720 with 1 Axes>"
      ]
     },
     "metadata": {},
     "output_type": "display_data"
    }
   ],
   "source": [
    "sns.set_style(\"whitegrid\")\n",
    "ftplot, ax = plt.subplots(figsize = (10,10))\n",
    "ftplot = sns.barplot(y=\"feature\", x=\"weight\", orient=\"h\", data=features[0:11])\n",
    "\n",
    "y_lab = ['First active Thursday', \n",
    "         'Male user', \n",
    "         'Number of sessions', \n",
    "         'Number of different actions', \n",
    "         'First active April',\n",
    "         'Used desktop',\n",
    "         'Female user',\n",
    "         'Non-English account',\n",
    "         'Used iPad',\n",
    "         'Used mobile website',\n",
    "         'Age of user']\n",
    "\n",
    "ax.set_xlabel('Weight')\n",
    "ax.set_ylabel('Feature')\n",
    "ax.set_title('Language,age, and internet time/focus associated with travel to Europe', weight='bold')\n",
    "\n",
    "ax.set_yticklabels(labels=y_lab, ha='right');\n",
    "axes = ftplot.axes\n",
    "plt.savefig(\"graphs/logreg_features.png\", bbox_inches='tight')\n",
    "#axes.set_xlim(-.02,.02);"
   ]
  },
  {
   "cell_type": "markdown",
   "metadata": {},
   "source": [
    "**Important features from random forest**"
   ]
  },
  {
   "cell_type": "code",
   "execution_count": 115,
   "metadata": {
    "scrolled": true
   },
   "outputs": [
    {
     "data": {
      "text/plain": [
       "[('secs_elapsed_std', 0.11675262344714768),\n",
       " ('num_sessions', 0.11559320102210376),\n",
       " ('age', 0.1141285691032105),\n",
       " ('secs_elapsed_mean', 0.11161479845672491),\n",
       " ('day_active_3.0', 0.0983911399113991),\n",
       " ('month_active_4.0', 0.083973110503857),\n",
       " ('num_different_actions', 0.08189867205747428),\n",
       " ('gender_male', 0.029818070054350755),\n",
       " ('first_device_type_2_mac desktop', 0.022141727436610272),\n",
       " ('gender_female', 0.0177875715350553)]"
      ]
     },
     "execution_count": 115,
     "metadata": {},
     "output_type": "execute_result"
    }
   ],
   "source": [
    "importances_dict = {}\n",
    "for feature, importance in zip(Xtrain.columns, rf.feature_importances_):\n",
    "    importances_dict[feature] = importance\n",
    "sorted(importances_dict.items(), key=lambda kv: kv[1], reverse=True)[0:10]"
   ]
  },
  {
   "cell_type": "code",
   "execution_count": 116,
   "metadata": {},
   "outputs": [],
   "source": [
    "features = pd.DataFrame([importances_dict]).transpose().reset_index()\n",
    "features.columns = ['feature','importance']"
   ]
  },
  {
   "cell_type": "code",
   "execution_count": 117,
   "metadata": {},
   "outputs": [],
   "source": [
    "lang = features[features['feature'].str.contains(\"language\")]\n",
    "lang = lang[lang['feature'] != 'language_en']\n",
    "lang['importance'].sum()\n",
    "\n",
    "features = features.append({'feature': 'language_non_english',\n",
    "                            'importance': lang['importance'].sum()}, ignore_index=True)"
   ]
  },
  {
   "cell_type": "code",
   "execution_count": 118,
   "metadata": {
    "scrolled": true
   },
   "outputs": [
    {
     "data": {
      "text/html": [
       "<div>\n",
       "<style scoped>\n",
       "    .dataframe tbody tr th:only-of-type {\n",
       "        vertical-align: middle;\n",
       "    }\n",
       "\n",
       "    .dataframe tbody tr th {\n",
       "        vertical-align: top;\n",
       "    }\n",
       "\n",
       "    .dataframe thead th {\n",
       "        text-align: right;\n",
       "    }\n",
       "</style>\n",
       "<table border=\"1\" class=\"dataframe\">\n",
       "  <thead>\n",
       "    <tr style=\"text-align: right;\">\n",
       "      <th></th>\n",
       "      <th>feature</th>\n",
       "      <th>importance</th>\n",
       "    </tr>\n",
       "  </thead>\n",
       "  <tbody>\n",
       "    <tr>\n",
       "      <th>0</th>\n",
       "      <td>secs_elapsed_std</td>\n",
       "      <td>0.116753</td>\n",
       "    </tr>\n",
       "    <tr>\n",
       "      <th>1</th>\n",
       "      <td>num_sessions</td>\n",
       "      <td>0.115593</td>\n",
       "    </tr>\n",
       "    <tr>\n",
       "      <th>2</th>\n",
       "      <td>age</td>\n",
       "      <td>0.114129</td>\n",
       "    </tr>\n",
       "    <tr>\n",
       "      <th>3</th>\n",
       "      <td>secs_elapsed_mean</td>\n",
       "      <td>0.111615</td>\n",
       "    </tr>\n",
       "    <tr>\n",
       "      <th>4</th>\n",
       "      <td>day_active_3.0</td>\n",
       "      <td>0.098391</td>\n",
       "    </tr>\n",
       "  </tbody>\n",
       "</table>\n",
       "</div>"
      ],
      "text/plain": [
       "             feature  importance\n",
       "0   secs_elapsed_std    0.116753\n",
       "1       num_sessions    0.115593\n",
       "2                age    0.114129\n",
       "3  secs_elapsed_mean    0.111615\n",
       "4     day_active_3.0    0.098391"
      ]
     },
     "execution_count": 118,
     "metadata": {},
     "output_type": "execute_result"
    }
   ],
   "source": [
    "features = features.sort_values(by='importance', ascending = False).reset_index(drop=True)\n",
    "features[0:5]"
   ]
  },
  {
   "cell_type": "code",
   "execution_count": null,
   "metadata": {},
   "outputs": [],
   "source": [
    "label = {'secs_elapsed_std': 'Seconds between sessions (std dev)',  \n",
    "             'num_sessions':'Number of sessions', \n",
    "             'age':'Age of user',\n",
    "             'secs_elapsed_mean':'Seconds between sessions (mean)', \n",
    "             'day_active_3.0':'First active Thursday',\n",
    "             'month_active_4.0':'First active April',\n",
    "             'num different_actions':'Number of different actions',\n",
    "             'gender_male':'Male user',\n",
    "             'first_device_type_2_mac desktop':'Used Mac desktop',\n",
    "             'gender_female':'Female user',\n",
    "             'language_non_english':'Non-English account'}\n",
    "features = "
   ]
  },
  {
   "cell_type": "code",
   "execution_count": 119,
   "metadata": {},
   "outputs": [
    {
     "data": {
      "image/png": "[encoded data removed]",
      "text/plain": [
       "<Figure size 360x576 with 1 Axes>"
      ]
     },
     "metadata": {},
     "output_type": "display_data"
    }
   ],
   "source": [
    "plt.style.use('fivethirtyeight')\n",
    "sns.set_style(\"whitegrid\")\n",
    "ftplot, ax = plt.subplots(figsize = (5,8))\n",
    "ftplot = sns.barplot(y=\"feature\", x=\"importance\", \n",
    "            orient=\"h\", data=features[0:11])\n",
    "\n",
    "y_lab = ['Seconds between sessions (std dev)',  \n",
    "         'Number of sessions', \n",
    "         'Age of user',\n",
    "         'Seconds between sessions (mean)', \n",
    "         'First active Thursday',\n",
    "         'First active April',\n",
    "         'Number of different actions',\n",
    "         'Male user',\n",
    "         'Used Mac desktop',\n",
    "         'Female user',\n",
    "         'Non-English account'\n",
    "         ]\n",
    "\n",
    "ax.set_xlabel('Importance')\n",
    "ax.set_ylabel('Feature')\n",
    "ax.set_title('Random forest feature importance', weight='bold')\n",
    "\n",
    "ax.set_yticklabels(labels=y_lab, ha='right');\n",
    "axes = ftplot.axes\n",
    "plt.savefig(\"graphs/rf_importance.png\", bbox_inches='tight')"
   ]
  },
  {
   "cell_type": "markdown",
   "metadata": {},
   "source": [
    "**Change threshold for top model**"
   ]
  },
  {
   "cell_type": "code",
   "execution_count": 120,
   "metadata": {},
   "outputs": [],
   "source": [
    "top_model = rf"
   ]
  },
  {
   "cell_type": "code",
   "execution_count": 121,
   "metadata": {},
   "outputs": [
    {
     "data": {
      "text/plain": [
       "{0.0: 0.631,\n",
       " 0.05: 0.631,\n",
       " 0.1: 0.652,\n",
       " 0.15000000000000002: 0.652,\n",
       " 0.2: 0.652,\n",
       " 0.25: 0.652,\n",
       " 0.30000000000000004: 0.652,\n",
       " 0.35000000000000003: 0.652,\n",
       " 0.4: 0.652,\n",
       " 0.45: 0.651,\n",
       " 0.5: 0.583,\n",
       " 0.55: 0.117,\n",
       " 0.6000000000000001: 0.006,\n",
       " 0.65: 0.0,\n",
       " 0.7000000000000001: 0.0,\n",
       " 0.75: 0.0,\n",
       " 0.8: 0.0,\n",
       " 0.8500000000000001: 0.0,\n",
       " 0.9: 0.0,\n",
       " 0.9500000000000001: 0.0,\n",
       " 1.0: 0.0}"
      ]
     },
     "execution_count": 121,
     "metadata": {},
     "output_type": "execute_result"
    }
   ],
   "source": [
    "pred_probas = {}\n",
    "probs=np.arange(0.,1.05,0.05)\n",
    "for p in probs:\n",
    "    y_predict = top_model.predict_proba(X_test_scaled)[:,1] > p\n",
    "    f2 = fbeta_score(ytest, y_predict, beta=2).round(3)\n",
    "    pred_probas[p] = f2\n",
    "pred_probas"
   ]
  },
  {
   "cell_type": "markdown",
   "metadata": {},
   "source": [
    "**Toggle threshold**"
   ]
  },
  {
   "cell_type": "code",
   "execution_count": 122,
   "metadata": {},
   "outputs": [
    {
     "data": {
      "text/plain": [
       "array([0.50532477, 0.4706952 , 0.50507232, ..., 0.54469946, 0.50569214,\n",
       "       0.51592175])"
      ]
     },
     "execution_count": 122,
     "metadata": {},
     "output_type": "execute_result"
    }
   ],
   "source": [
    "y_predict = rf.predict_proba(X_test_scaled)[:,1]\n",
    "y_predict"
   ]
  },
  {
   "cell_type": "code",
   "execution_count": 153,
   "metadata": {
    "scrolled": true
   },
   "outputs": [
    {
     "data": {
      "text/html": [
       "<div>\n",
       "<style scoped>\n",
       "    .dataframe tbody tr th:only-of-type {\n",
       "        vertical-align: middle;\n",
       "    }\n",
       "\n",
       "    .dataframe tbody tr th {\n",
       "        vertical-align: top;\n",
       "    }\n",
       "\n",
       "    .dataframe thead th {\n",
       "        text-align: right;\n",
       "    }\n",
       "</style>\n",
       "<table border=\"1\" class=\"dataframe\">\n",
       "  <thead>\n",
       "    <tr style=\"text-align: right;\">\n",
       "      <th></th>\n",
       "      <th>prob</th>\n",
       "      <th>ytest</th>\n",
       "      <th>ypred</th>\n",
       "    </tr>\n",
       "  </thead>\n",
       "  <tbody>\n",
       "    <tr>\n",
       "      <th>0</th>\n",
       "      <td>0.505325</td>\n",
       "      <td>0</td>\n",
       "      <td>1</td>\n",
       "    </tr>\n",
       "    <tr>\n",
       "      <th>1</th>\n",
       "      <td>0.470695</td>\n",
       "      <td>0</td>\n",
       "      <td>0</td>\n",
       "    </tr>\n",
       "    <tr>\n",
       "      <th>2</th>\n",
       "      <td>0.505072</td>\n",
       "      <td>0</td>\n",
       "      <td>1</td>\n",
       "    </tr>\n",
       "    <tr>\n",
       "      <th>3</th>\n",
       "      <td>0.524007</td>\n",
       "      <td>0</td>\n",
       "      <td>1</td>\n",
       "    </tr>\n",
       "    <tr>\n",
       "      <th>4</th>\n",
       "      <td>0.517490</td>\n",
       "      <td>1</td>\n",
       "      <td>1</td>\n",
       "    </tr>\n",
       "  </tbody>\n",
       "</table>\n",
       "</div>"
      ],
      "text/plain": [
       "       prob  ytest  ypred\n",
       "0  0.505325      0      1\n",
       "1  0.470695      0      0\n",
       "2  0.505072      0      1\n",
       "3  0.524007      0      1\n",
       "4  0.517490      1      1"
      ]
     },
     "execution_count": 153,
     "metadata": {},
     "output_type": "execute_result"
    }
   ],
   "source": [
    "t = 0.5\n",
    "df = pd.DataFrame(y_predict)\n",
    "df.columns = ['prob']\n",
    "df = df.assign(ytest=ytest.values)\n",
    "df.ytest = [int(x) for x in df.ytest]\n",
    "df['ypred'] = np.where(df.eval(\"prob > \"+str(t)), 1, 0)\n",
    "df.head()"
   ]
  }
 ],
 "metadata": {
  "kernelspec": {
   "display_name": "Python 3",
   "language": "python",
   "name": "python3"
  },
  "language_info": {
   "codemirror_mode": {
    "name": "ipython",
    "version": 3
   },
   "file_extension": ".py",
   "mimetype": "text/x-python",
   "name": "python",
   "nbconvert_exporter": "python",
   "pygments_lexer": "ipython3",
   "version": "3.6.8"
  }
 },
 "nbformat": 4,
 "nbformat_minor": 2
}
