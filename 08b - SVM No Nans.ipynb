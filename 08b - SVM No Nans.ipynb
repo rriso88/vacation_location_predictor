{
 "cells": [
  {
   "cell_type": "markdown",
   "metadata": {},
   "source": [
    "# SVM Classification"
   ]
  },
  {
   "cell_type": "code",
   "execution_count": 1,
   "metadata": {},
   "outputs": [],
   "source": [
    "import matplotlib.pyplot as plt\n",
    "%matplotlib inline\n",
    "import matplotlib.cm as cm\n",
    "import numpy as np\n",
    "import pandas as pd\n",
    "import random\n",
    "\n",
    "import seaborn as sns\n",
    "plt.style.use('fivethirtyeight')\n"
   ]
  },
  {
   "cell_type": "code",
   "execution_count": 2,
   "metadata": {},
   "outputs": [],
   "source": [
    "import statsmodels.api as sm\n",
    "import statsmodels.formula.api as smf \n",
    "from statsmodels.stats.outliers_influence import variance_inflation_factor\n",
    "from statsmodels.tools.tools import add_constant"
   ]
  },
  {
   "cell_type": "code",
   "execution_count": 3,
   "metadata": {},
   "outputs": [],
   "source": [
    "def warn(*args, **kwargs):\n",
    "    pass\n",
    "import warnings\n",
    "warnings.warn = warn\n",
    "\n",
    "import pickle\n",
    "\n",
    "from sklearn.linear_model import LinearRegression, Lasso, LassoCV, Ridge, RidgeCV\n",
    "from sklearn.metrics import r2_score #ordinary linear regression + w/ ridge regularization\n",
    "\n",
    "from sklearn.neighbors import KNeighborsClassifier\n",
    "from sklearn.tree import DecisionTreeClassifier\n",
    "from sklearn.svm import LinearSVC\n",
    "from sklearn.svm import SVC\n",
    "from sklearn.ensemble import RandomForestClassifier\n",
    "from sklearn.linear_model import LogisticRegression\n",
    "from sklearn.model_selection import train_test_split\n",
    "from sklearn.metrics import precision_score, recall_score, accuracy_score, roc_auc_score\n",
    "from sklearn.metrics import confusion_matrix\n",
    "from sklearn.preprocessing import StandardScaler\n",
    "from sklearn.model_selection import StratifiedKFold\n",
    "from sklearn.metrics import precision_score, recall_score, precision_recall_curve,f1_score, fbeta_score\n",
    "\n",
    "import xgboost as xgb\n",
    "from xgboost import XGBClassifier\n",
    "from sklearn.model_selection import GridSearchCV\n",
    "from sklearn.linear_model import LogisticRegression\n",
    "import warnings\n",
    "warnings.filterwarnings(\"ignore\", category=DeprecationWarning)"
   ]
  },
  {
   "cell_type": "code",
   "execution_count": 4,
   "metadata": {},
   "outputs": [],
   "source": [
    "def print_confusion_matrix(confusion_matrix, class_names, figsize = (10,7), fontsize=18):\n",
    "    \"\"\"Prints a confusion matrix, as returned by sklearn.metrics.confusion_matrix, as a heatmap.\n",
    "    \n",
    "    Arguments\n",
    "    ---------\n",
    "    confusion_matrix: numpy.ndarray\n",
    "        The numpy.ndarray object returned from a call to sklearn.metrics.confusion_matrix. \n",
    "        Similarly constructed ndarrays can also be used.\n",
    "    class_names: list\n",
    "        An ordered list of class names, in the order they index the given confusion matrix.\n",
    "    figsize: tuple\n",
    "        A 2-long tuple, the first value determining the horizontal size of the ouputted figure,\n",
    "        the second determining the vertical size. Defaults to (10,7).\n",
    "    fontsize: int\n",
    "        Font size for axes labels. Defaults to 14.\n",
    "        \n",
    "    Returns\n",
    "    -------\n",
    "    matplotlib.figure.Figure\n",
    "        The resulting confusion matrix figure\n",
    "    \"\"\"\n",
    "    df_cm = pd.DataFrame(confusion_matrix, index=class_names, columns=class_names, )\n",
    "    fig = plt.figure(figsize=figsize)\n",
    "    try:\n",
    "        heatmap = sns.heatmap(df_cm, annot=True, fmt=\"d\")\n",
    "    except ValueError:\n",
    "        raise ValueError(\"Confusion matrix values must be integers.\")\n",
    "    heatmap.yaxis.set_ticklabels(heatmap.yaxis.get_ticklabels(), rotation=0, ha='right', fontsize=fontsize)\n",
    "    heatmap.xaxis.set_ticklabels(heatmap.xaxis.get_ticklabels(), rotation=45, ha='right', fontsize=fontsize)\n",
    "    plt.ylabel('True label')\n",
    "    plt.xlabel('Predicted label')\n",
    "    return fig"
   ]
  },
  {
   "cell_type": "code",
   "execution_count": 5,
   "metadata": {},
   "outputs": [],
   "source": [
    "def get_metrics(m):\n",
    "    y_predict = m.predict(X_test_scaled)\n",
    "    print(\"Model name:\",m)\n",
    "    print(\"Default threshold:\")\n",
    "    print(\"Score: {:6.4f}, Precision: {:6.4f}, Recall: {:6.4f}, F1: {:6.4f}\".format(m.score(X_test_scaled, ytest),\n",
    "                                                                                    precision_score(ytest, y_predict), \n",
    "                                                                                    recall_score(ytest, y_predict),\n",
    "                                                                                    f1_score(ytest, y_predict)))"
   ]
  },
  {
   "cell_type": "markdown",
   "metadata": {},
   "source": [
    "***"
   ]
  },
  {
   "cell_type": "code",
   "execution_count": 6,
   "metadata": {},
   "outputs": [],
   "source": [
    "Xy = pd.read_pickle('data_for_regression_20k.pkl')"
   ]
  },
  {
   "cell_type": "code",
   "execution_count": 7,
   "metadata": {},
   "outputs": [],
   "source": [
    "y_bi = Xy['country_USA_World_bi']\n",
    "y_mlt = Xy['country_dest_id']   \n",
    "X = Xy.drop(['country_dest_id','country_USA_World_bi'], axis = 1)"
   ]
  },
  {
   "cell_type": "code",
   "execution_count": 8,
   "metadata": {},
   "outputs": [
    {
     "data": {
      "text/plain": [
       "0.0"
      ]
     },
     "execution_count": 8,
     "metadata": {},
     "output_type": "execute_result"
    }
   ],
   "source": [
    "#Xy.describe()\n",
    "nan_rows = X[X.isnull().any(1)]\n",
    "len(nan_rows)/len(X)"
   ]
  },
  {
   "cell_type": "code",
   "execution_count": 9,
   "metadata": {},
   "outputs": [
    {
     "data": {
      "text/plain": [
       "0.0    0.74553\n",
       "1.0    0.25447\n",
       "Name: country_USA_World_bi, dtype: float64"
      ]
     },
     "execution_count": 9,
     "metadata": {},
     "output_type": "execute_result"
    }
   ],
   "source": [
    "y_bi.value_counts()/y_bi.value_counts().sum()"
   ]
  },
  {
   "cell_type": "code",
   "execution_count": 10,
   "metadata": {},
   "outputs": [],
   "source": [
    "Xtrain, Xtest, ytrain, ytest = train_test_split(X, y_bi, test_size=0.2, stratify=y_bi,random_state = 88)"
   ]
  },
  {
   "cell_type": "code",
   "execution_count": 11,
   "metadata": {
    "scrolled": true
   },
   "outputs": [
    {
     "name": "stdout",
     "output_type": "stream",
     "text": [
      "X 21366 Xtrain 17092 79 Xtest 4274 20\n"
     ]
    }
   ],
   "source": [
    "print('X',len(X),'Xtrain', len(Xtrain), int((len(Xtrain)/len(X))*100), \n",
    "      'Xtest', len(Xtest), int((len(Xtest)/len(X))*100))"
   ]
  },
  {
   "cell_type": "markdown",
   "metadata": {},
   "source": [
    "## 2. SVM"
   ]
  },
  {
   "cell_type": "markdown",
   "metadata": {},
   "source": [
    "Steps:  \n",
    "a. Scale Xtrain/Xtest  \n",
    "b. Gridsearch CV best parameters (Number of neighbors) using  class balancing option  \n",
    "c. Test other class balancing methods using optimal K  \n",
    "d. Play with different probability thresholds for classification"
   ]
  },
  {
   "cell_type": "markdown",
   "metadata": {},
   "source": [
    "### *a. Scale Xtrain and Xtest*"
   ]
  },
  {
   "cell_type": "code",
   "execution_count": 12,
   "metadata": {},
   "outputs": [],
   "source": [
    "std_scale = StandardScaler()\n",
    "\n",
    "X_train_scaled = std_scale.fit_transform(Xtrain)\n",
    "X_test_scaled = std_scale.transform(Xtest)\n"
   ]
  },
  {
   "cell_type": "markdown",
   "metadata": {},
   "source": [
    "### *b. Gridsearch CV best parameters*"
   ]
  },
  {
   "cell_type": "code",
   "execution_count": null,
   "metadata": {
    "scrolled": true
   },
   "outputs": [],
   "source": [
    "grid = {'C': [1, 10, 100, 1000], 'kernel': ['linear']}\n",
    "svm = SVC(random_state=0, class_weight='balanced')\n",
    "svm_cv=GridSearchCV(svm, grid, cv=3, scoring = 'recall')\n",
    "svm_cv.fit(X_train_scaled, ytrain)\n",
    "\n",
    "print(\"tuned hpyerparameters :(best parameters) \",svm_cv.best_params_)\n",
    "print(\"best average recall score :\",svm_cv.best_score_)"
   ]
  },
  {
   "cell_type": "code",
   "execution_count": null,
   "metadata": {},
   "outputs": [],
   "source": [
    "# THE GRIDSEARCH RESULTS #\n",
    "pkl_filename = 'models/svm_lin_gridsearch_cv_20k.pkl'\n",
    "# Open\n",
    "gridcv_pkl = open(pkl_filename, 'wb')\n",
    "# Insert object\n",
    "pickle.dump(svm_cv, gridcv_pkl)\n",
    "# Close\n",
    "gridcv_pkl.close()"
   ]
  },
  {
   "cell_type": "code",
   "execution_count": 32,
   "metadata": {
    "scrolled": true
   },
   "outputs": [
    {
     "name": "stdout",
     "output_type": "stream",
     "text": [
      "Model name: GridSearchCV(cv=3, error_score='raise-deprecating',\n",
      "       estimator=KNeighborsClassifier(algorithm='auto', leaf_size=30, metric='minkowski',\n",
      "           metric_params=None, n_jobs=None, n_neighbors=5, p=2,\n",
      "           weights='uniform'),\n",
      "       fit_params=None, iid='warn', n_jobs=None,\n",
      "       param_grid={'n_neighbors': array([1, 2, 3, 4, 5, 6, 7, 8])},\n",
      "       pre_dispatch='2*n_jobs', refit=True, return_train_score='warn',\n",
      "       scoring='recall', verbose=0)\n",
      "Default threshold:\n",
      "Score: 0.2877, Precision: 0.2912, Recall: 0.2877, F1: 0.2894\n"
     ]
    }
   ],
   "source": [
    "get_metrics(svm_cv)"
   ]
  },
  {
   "cell_type": "code",
   "execution_count": 25,
   "metadata": {},
   "outputs": [
    {
     "data": {
      "text/plain": [
       "GridSearchCV(cv=3, error_score='raise-deprecating',\n",
       "       estimator=SVC(C=1.0, cache_size=200, class_weight='balanced', coef0=0.0,\n",
       "  decision_function_shape='ovr', degree=3, gamma='auto_deprecated',\n",
       "  kernel='rbf', max_iter=-1, probability=False, random_state=0,\n",
       "  shrinking=True, tol=0.001, verbose=False),\n",
       "       fit_params=None, iid='warn', n_jobs=None,\n",
       "       param_grid={'C': [1, 10, 100, 1000], 'gamma': [0.001, 0.0001], 'kernel': ['rbf', 'poly']},\n",
       "       pre_dispatch='2*n_jobs', refit=True, return_train_score='warn',\n",
       "       scoring='f1', verbose=0)"
      ]
     },
     "execution_count": 25,
     "metadata": {},
     "output_type": "execute_result"
    }
   ],
   "source": [
    "grid = {'C': [1, 10, 100, 1000], 'gamma': [0.001, 0.0001], 'kernel': ['rbf', 'poly']}\n",
    "svm = SVC(random_state=0, class_weight='balanced')\n",
    "svm_cv_rp=GridSearchCV(svm, grid, cv=3, scoring = 'f1')\n",
    "svm_cv_rp.fit(X_train_scaled, ytrain)\n"
   ]
  },
  {
   "cell_type": "code",
   "execution_count": 26,
   "metadata": {},
   "outputs": [
    {
     "name": "stdout",
     "output_type": "stream",
     "text": [
      "tuned hpyerparameters :(best parameters)  {'C': 10, 'gamma': 0.001, 'kernel': 'rbf'}\n",
      "best average recall score : 0.4122700202951906\n"
     ]
    }
   ],
   "source": [
    "print(\"tuned hpyerparameters :(best parameters) \",svm_cv_rp.best_params_)\n",
    "print(\"best average recall score :\",svm_cv_rp.best_score_)"
   ]
  },
  {
   "cell_type": "code",
   "execution_count": 27,
   "metadata": {},
   "outputs": [],
   "source": [
    "# THE GRIDSEARCH RESULTS #\n",
    "pkl_filename = 'models/svm_gridsearch_cv.pkl'\n",
    "# Open\n",
    "gridcv_pkl = open(pkl_filename, 'wb')\n",
    "# Insert object\n",
    "pickle.dump(svm_cv_rp, gridcv_pkl)\n",
    "# Close\n",
    "gridcv_pkl.close()"
   ]
  },
  {
   "cell_type": "markdown",
   "metadata": {},
   "source": [
    "### *c. Define, fit, score model with best parameters*"
   ]
  },
  {
   "cell_type": "code",
   "execution_count": 28,
   "metadata": {},
   "outputs": [
    {
     "name": "stdout",
     "output_type": "stream",
     "text": [
      "Model name: SVC(C=10, cache_size=200, class_weight='balanced', coef0=0.0,\n",
      "  decision_function_shape='ovr', degree=3, gamma=0.001, kernel='rbf',\n",
      "  max_iter=-1, probability=False, random_state=0, shrinking=True,\n",
      "  tol=0.001, verbose=False)\n",
      "Default threshold:\n",
      "Score: 0.4995, Precision: 0.2953, Recall: 0.6967, F1: 0.4148\n"
     ]
    }
   ],
   "source": [
    "model = SVC(random_state=0, class_weight='balanced', C = 10, gamma = 0.001, kernel = 'rbf')\n",
    "svm_cv_best = model.fit(X_train_scaled, ytrain)\n",
    "svm_cv_best.score(X_test_scaled, ytest)\n",
    "get_metrics(svm_cv_best)"
   ]
  },
  {
   "cell_type": "code",
   "execution_count": 17,
   "metadata": {},
   "outputs": [
    {
     "name": "stdout",
     "output_type": "stream",
     "text": [
      "Model name: SVC(C=1, cache_size=200, class_weight='balanced', coef0=0.0,\n",
      "  decision_function_shape='ovr', degree=3, gamma=0.0001, kernel='poly',\n",
      "  max_iter=-1, probability=False, random_state=0, shrinking=True,\n",
      "  tol=0.001, verbose=False)\n",
      "Default threshold:\n",
      "Score: 0.2550, Precision: 0.2547, Recall: 1.0000, F1: 0.4060\n"
     ]
    }
   ],
   "source": [
    "model = SVC(random_state=0, class_weight='balanced', C = 1, gamma = 0.0001, kernel = 'poly')\n",
    "svm_cv_best = model.fit(X_train_scaled, ytrain)\n",
    "svm_cv_best.score(X_test_scaled, ytest)\n",
    "get_metrics(svm_cv_best)"
   ]
  },
  {
   "cell_type": "code",
   "execution_count": 20,
   "metadata": {},
   "outputs": [],
   "source": [
    "# THE MODEL WITH BEST PARAMS FIT ON SCALED TRAIN DATA #\n",
    "pkl_filename_2 = 'models/svm_cv_best.pkl'\n",
    "# Open \n",
    "model_pkl = open(pkl_filename_2, 'wb')\n",
    "# Insert object\n",
    "pickle.dump(svm_cv_best, model_pkl)\n",
    "# Close\n",
    "model_pkl.close()"
   ]
  },
  {
   "cell_type": "markdown",
   "metadata": {},
   "source": [
    "***"
   ]
  },
  {
   "cell_type": "code",
   "execution_count": 35,
   "metadata": {
    "scrolled": true
   },
   "outputs": [
    {
     "name": "stdout",
     "output_type": "stream",
     "text": [
      "Model name: KNeighborsClassifier(algorithm='auto', leaf_size=30, metric='minkowski',\n",
      "           metric_params=None, n_jobs=None, n_neighbors=1, p=2,\n",
      "           weights='uniform')\n",
      "Default threshold:\n",
      "Score: 0.6085, Precision: 0.2912, Recall: 0.2877, F1: 0.2894\n"
     ]
    }
   ],
   "source": [
    "model = KNeighborsClassifier(n_neighbors = 1)\n",
    "knn_cv_best = model.fit(X_train_scaled, ytrain)\n",
    "knn_cv_best.score(X_test_scaled, ytest)\n",
    "get_metrics(knn_cv_best)"
   ]
  },
  {
   "cell_type": "markdown",
   "metadata": {},
   "source": [
    "*How this performs on the training data*"
   ]
  },
  {
   "cell_type": "code",
   "execution_count": 40,
   "metadata": {},
   "outputs": [
    {
     "data": {
      "text/plain": [
       "0.9941512245873521"
      ]
     },
     "execution_count": 40,
     "metadata": {},
     "output_type": "execute_result"
    }
   ],
   "source": [
    "knn_cv_best.score(X_train_scaled, ytrain)"
   ]
  },
  {
   "cell_type": "code",
   "execution_count": 41,
   "metadata": {},
   "outputs": [
    {
     "data": {
      "text/plain": [
       "0.9896007710647796"
      ]
     },
     "execution_count": 41,
     "metadata": {},
     "output_type": "execute_result"
    }
   ],
   "source": [
    "y_pred_train = knn_cv_best.predict(X_train_scaled)\n",
    "recall_score(ytrain, y_pred_train)"
   ]
  },
  {
   "cell_type": "markdown",
   "metadata": {},
   "source": [
    "*Hos this performs on the test data*"
   ]
  },
  {
   "cell_type": "code",
   "execution_count": 37,
   "metadata": {},
   "outputs": [],
   "source": [
    "y_predict = knn_cv_best.predict(X_test_scaled)"
   ]
  },
  {
   "cell_type": "code",
   "execution_count": 38,
   "metadata": {},
   "outputs": [
    {
     "data": {
      "text/plain": [
       "0.6084804858846025"
      ]
     },
     "execution_count": 38,
     "metadata": {},
     "output_type": "execute_result"
    }
   ],
   "source": [
    "knn_cv_best.score(X_test_scaled, ytest)"
   ]
  },
  {
   "cell_type": "code",
   "execution_count": 39,
   "metadata": {},
   "outputs": [
    {
     "data": {
      "text/plain": [
       "0.28768512882937713"
      ]
     },
     "execution_count": 39,
     "metadata": {},
     "output_type": "execute_result"
    }
   ],
   "source": [
    "recall_score(ytest, y_predict)"
   ]
  },
  {
   "cell_type": "markdown",
   "metadata": {},
   "source": [
    "### ^Best KNN model is 60% accurate but only picks up <30% of potential EU travellers^"
   ]
  },
  {
   "cell_type": "code",
   "execution_count": 45,
   "metadata": {},
   "outputs": [
    {
     "data": {
      "text/plain": [
       "'\\nprobs=np.arange(0.,1.1,0.1)\\nfor p in probs:\\n    #knn_pp = knn_cv_best.fit(X_adasyn, y_adasyn)\\n    y_pred_knn = knn_cv_best.predict_proba(X_test_scaled)[:,1] > p\\n    print(p,recall_score(ytest, y_pred_knn))\\n'"
      ]
     },
     "execution_count": 45,
     "metadata": {},
     "output_type": "execute_result"
    }
   ],
   "source": [
    "\"\"\"\n",
    "probs=np.arange(0.,1.1,0.1)\n",
    "for p in probs:\n",
    "    #knn_pp = knn_cv_best.fit(X_adasyn, y_adasyn)\n",
    "    y_pred_knn = knn_cv_best.predict_proba(X_test_scaled)[:,1] > p\n",
    "    print(p,recall_score(ytest, y_pred_knn))\n",
    "\"\"\""
   ]
  },
  {
   "cell_type": "code",
   "execution_count": 43,
   "metadata": {},
   "outputs": [],
   "source": [
    "from sklearn.metrics import roc_auc_score, roc_curve\n",
    "\n",
    "fpr, tpr, thresholds = roc_curve(ytest, knn_cv_best.predict_proba(X_test_scaled)[:,1])"
   ]
  },
  {
   "cell_type": "code",
   "execution_count": 44,
   "metadata": {},
   "outputs": [
    {
     "name": "stdout",
     "output_type": "stream",
     "text": [
      "ROC AUC score =  0.5095937509081142\n"
     ]
    },
    {
     "data": {
      "image/png": "[encoded data removed]",
      "text/plain": [
       "<Figure size 432x288 with 1 Axes>"
      ]
     },
     "metadata": {},
     "output_type": "display_data"
    }
   ],
   "source": [
    "plt.plot(fpr, tpr,lw=2)\n",
    "plt.plot([0,1],[0,1],c='violet',ls='--')\n",
    "plt.xlim([-0.05,1.05])\n",
    "plt.ylim([-0.05,1.05])\n",
    "\n",
    "\n",
    "plt.xlabel('False positive rate')\n",
    "plt.ylabel('True positive rate')\n",
    "plt.title('ROC curve for fraud problem');\n",
    "print(\"ROC AUC score = \", roc_auc_score(ytest, knn_cv_best.predict_proba(X_test_scaled)[:,1]))"
   ]
  },
  {
   "cell_type": "markdown",
   "metadata": {},
   "source": [
    "***"
   ]
  },
  {
   "cell_type": "code",
   "execution_count": 36,
   "metadata": {},
   "outputs": [],
   "source": [
    "# THE MODEL WITH BEST PARAMS FIT ON SCALED TRAIN DATA #\n",
    "pkl_filename_2 = 'models/knn_cv_model.pkl'\n",
    "# Open \n",
    "model_pkl = open(pkl_filename_2, 'wb')\n",
    "# Insert object\n",
    "pickle.dump(knn_cv_best, model_pkl)\n",
    "# Close\n",
    "model_pkl.close()"
   ]
  },
  {
   "cell_type": "markdown",
   "metadata": {},
   "source": [
    "### *d. Save to pickle*"
   ]
  },
  {
   "cell_type": "code",
   "execution_count": 160,
   "metadata": {},
   "outputs": [],
   "source": [
    "\n",
    "# Dump the trained decision tree classifier with Pickle\n",
    "logreg_cv_pkl_filename = 'models/logreg_cv.pkl'\n",
    "# Open the file to save as pkl file\n",
    "logreg_cv_model_pkl = open(logreg_cv_pkl_filename, 'wb')\n",
    "\n",
    "#pickle.dump(logreg_cv, logreg_cv_model_pkl)\n",
    "# OR???\n",
    "pickle.dump(logreg_cv_best, logreg_cv_model_pkl)\n",
    "\n",
    "# Close the pickle instances\n",
    "logreg_cv_model_pkl.close()"
   ]
  },
  {
   "cell_type": "markdown",
   "metadata": {},
   "source": [
    "### *e. Explore important features*"
   ]
  },
  {
   "cell_type": "markdown",
   "metadata": {},
   "source": [
    "**Import best classifier pickle**"
   ]
  },
  {
   "cell_type": "code",
   "execution_count": 109,
   "metadata": {},
   "outputs": [],
   "source": [
    "logreg_cv = pd.read_pickle('models/logreg_cv.pkl')"
   ]
  },
  {
   "cell_type": "code",
   "execution_count": 125,
   "metadata": {},
   "outputs": [
    {
     "data": {
      "text/plain": [
       "[('signup_app_2_moweb', 0.019718034564082648),\n",
       " ('month_first_booking', 0.006910153113009323),\n",
       " ('month_active', 7.427366192803331e-05),\n",
       " ('age', 0.0),\n",
       " ('signup_flow', 0.0),\n",
       " ('gender_female', 0.0),\n",
       " ('gender_male', 0.0),\n",
       " ('gender_other', 0.0),\n",
       " ('signup_method_basic', 0.0),\n",
       " ('signup_method_facebook', 0.0),\n",
       " ('language_ca', 0.0),\n",
       " ('language_cs', 0.0),\n",
       " ('language_da', 0.0),\n",
       " ('language_de', 0.0),\n",
       " ('language_el', 0.0),\n",
       " ('language_en', 0.0),\n",
       " ('language_es', 0.0),\n",
       " ('language_fi', 0.0),\n",
       " ('language_fr', 0.0),\n",
       " ('language_hr', 0.0),\n",
       " ('language_hu', 0.0),\n",
       " ('language_id', 0.0),\n",
       " ('language_is', 0.0),\n",
       " ('language_it', 0.0),\n",
       " ('language_ja', 0.0),\n",
       " ('language_ko', 0.0),\n",
       " ('language_nl', 0.0),\n",
       " ('language_no', 0.0),\n",
       " ('language_pl', 0.0),\n",
       " ('language_pt', 0.0),\n",
       " ('language_ru', 0.0),\n",
       " ('language_sv', 0.0),\n",
       " ('language_th', 0.0),\n",
       " ('language_tr', 0.0),\n",
       " ('year_created', 0.0),\n",
       " ('month_created', 0.0),\n",
       " ('day_created', 0.0),\n",
       " ('year_active', 0.0),\n",
       " ('day_active', 0.0),\n",
       " ('year_first_booking', 0.0),\n",
       " ('day_first_booking', 0.0),\n",
       " ('lag_book_create', 0.0),\n",
       " ('lag_active_create', 0.0),\n",
       " ('affiliate_channel_2_brand', 0.0),\n",
       " ('affiliate_channel_2_direct', 0.0),\n",
       " ('affiliate_provider_2_direct', 0.0),\n",
       " ('first_affiliate_tracked_2_linked', 0.0),\n",
       " ('first_affiliate_tracked_2_other', 0.0),\n",
       " ('first_device_type_2_android', 0.0),\n",
       " ('first_device_type_2_ipad', 0.0),\n",
       " ('first_device_type_2_iphone', 0.0),\n",
       " ('first_device_type_2_mac desktop', 0.0),\n",
       " ('first_device_type_2_other', 0.0),\n",
       " ('first_browser_2_chrome', 0.0),\n",
       " ('first_browser_2_firefox', 0.0),\n",
       " ('first_browser_2_ie', 0.0),\n",
       " ('first_browser_2_other', 0.0),\n",
       " ('signup_app_2_android', 0.0),\n",
       " ('signup_app_2_ios', 0.0),\n",
       " ('secs_elapsed_mean', 0.0),\n",
       " ('secs_elapsed_std', 0.0),\n",
       " ('num_different_devices', 0.0),\n",
       " ('num_different_actions', 0.0),\n",
       " ('first_affiliate_tracked_2_omg', -0.01118460204360367),\n",
       " ('num_sessions', -0.011956633354907865),\n",
       " ('affiliate_provider_2_google', -0.017560653346013935)]"
      ]
     },
     "execution_count": 125,
     "metadata": {},
     "output_type": "execute_result"
    }
   ],
   "source": [
    "coef_dict = {}\n",
    "for coef, feat in zip(logreg_cv_best.coef_[0],Xtrain.columns):\n",
    "    coef_dict[feat] = coef\n",
    "sorted(coef_dict.items(), key=lambda kv: kv[1], reverse=True)"
   ]
  },
  {
   "cell_type": "code",
   "execution_count": 126,
   "metadata": {},
   "outputs": [
    {
     "name": "stdout",
     "output_type": "stream",
     "text": [
      "1 66\n"
     ]
    }
   ],
   "source": [
    "print(len(logreg_cv.best_estimator_.coef_),len(Xtrain.columns))"
   ]
  },
  {
   "cell_type": "code",
   "execution_count": 111,
   "metadata": {},
   "outputs": [
    {
     "data": {
      "text/plain": [
       "0.0"
      ]
     },
     "execution_count": 111,
     "metadata": {},
     "output_type": "execute_result"
    }
   ],
   "source": [
    "logreg_cv.best_estimator_.coef_[0][0]"
   ]
  },
  {
   "cell_type": "code",
   "execution_count": 112,
   "metadata": {},
   "outputs": [],
   "source": [
    "#coef_dict = {}\n",
    "#for coef, feat in zip(logreg_cv.best_estimator_.coef_[0],Xtrain.columns):\n",
    "#    coef_dict[feat] = coef\n",
    "#sorted(coef_dict.items(), key=lambda kv: kv[1], reverse=True)"
   ]
  },
  {
   "cell_type": "code",
   "execution_count": 122,
   "metadata": {},
   "outputs": [],
   "source": [
    "features = pd.DataFrame([coef_dict]).transpose().reset_index()\n",
    "features.columns = ['feature','weight']\n",
    "features['abs_weight'] = abs(features.weight)\n",
    "features = features.sort_values(by='abs_weight', ascending = False).reset_index(drop=True)\n",
    "#features"
   ]
  },
  {
   "cell_type": "code",
   "execution_count": 127,
   "metadata": {},
   "outputs": [
    {
     "data": {
      "image/png": "[encoded data removed]",
      "text/plain": [
       "<Figure size 576x576 with 1 Axes>"
      ]
     },
     "metadata": {},
     "output_type": "display_data"
    }
   ],
   "source": [
    "sns.set_style(\"whitegrid\")\n",
    "ftplot, ax = plt.subplots(figsize = (8,8))\n",
    "ftplot = sns.barplot(y=\"feature\", x=\"weight\", \n",
    "            orient=\"h\", data=features[0:10])\n",
    "y_lab = ['Number of sessions', 'Affiliate provider = Google', 'Affiliate channel = Direct', \n",
    "         'Number of actions', 'First device = iPad', 'Signup App = Moweb', \n",
    "         'First browser = IE', 'First device = Mac desktop']\n",
    "#ax.set_yticklabels(labels=y_lab, ha='right');\n",
    "\n",
    "axes = ftplot.axes\n",
    "#axes.set_xlim(-.1,.1);"
   ]
  },
  {
   "cell_type": "markdown",
   "metadata": {},
   "source": [
    "**Oversampling**"
   ]
  },
  {
   "cell_type": "code",
   "execution_count": 130,
   "metadata": {},
   "outputs": [],
   "source": [
    "model_2 = LogisticRegression(C = 0.001, penalty = 'l1', random_state=0)\n",
    "\n"
   ]
  },
  {
   "cell_type": "code",
   "execution_count": 132,
   "metadata": {},
   "outputs": [
    {
     "name": "stderr",
     "output_type": "stream",
     "text": [
      "/anaconda3/lib/python3.6/site-packages/sklearn/linear_model/logistic.py:433: FutureWarning: Default solver will be changed to 'lbfgs' in 0.22. Specify a solver to silence this warning.\n",
      "  FutureWarning)\n"
     ]
    },
    {
     "data": {
      "text/plain": [
       "0.5537059948262287"
      ]
     },
     "execution_count": 132,
     "metadata": {},
     "output_type": "execute_result"
    }
   ],
   "source": [
    "from imblearn.over_sampling import RandomOverSampler\n",
    "ros = RandomOverSampler(random_state=0)\n",
    "X_resampled, y_resampled = ros.fit_sample(X_train_scaled,ytrain)\n",
    "logit_over_sampled = model_2.fit(X_resampled, y_resampled)\n",
    "logit_over_sampled.score(X_test_scaled, ytest)"
   ]
  },
  {
   "cell_type": "code",
   "execution_count": 152,
   "metadata": {},
   "outputs": [
    {
     "name": "stdout",
     "output_type": "stream",
     "text": [
      "Default threshold:\n",
      "Precision: 0.7547,   Recall: 0.5270, F1: 0.6206\n"
     ]
    }
   ],
   "source": [
    "y_predict = logit_over_sampled.predict(X_test_scaled)\n",
    "print(\"Default threshold:\")\n",
    "print(\"Precision: {:6.4f},   Recall: {:6.4f}, F1: {:6.4f}\".format(precision_score(ytest, y_predict), \n",
    "                                                                  recall_score(ytest, y_predict),\n",
    "                                                                  f1_score(ytest, y_predict)))"
   ]
  },
  {
   "cell_type": "code",
   "execution_count": 119,
   "metadata": {},
   "outputs": [
    {
     "data": {
      "text/plain": [
       "Counter({1.0: 51413, 0.0: 51413})"
      ]
     },
     "execution_count": 119,
     "metadata": {},
     "output_type": "execute_result"
    }
   ],
   "source": [
    "from collections import Counter\n",
    "Counter(y_resampled)"
   ]
  },
  {
   "cell_type": "markdown",
   "metadata": {},
   "source": [
    "**SMOTE**"
   ]
  },
  {
   "cell_type": "code",
   "execution_count": 137,
   "metadata": {},
   "outputs": [
    {
     "name": "stderr",
     "output_type": "stream",
     "text": [
      "/anaconda3/lib/python3.6/site-packages/sklearn/linear_model/logistic.py:433: FutureWarning: Default solver will be changed to 'lbfgs' in 0.22. Specify a solver to silence this warning.\n",
      "  FutureWarning)\n"
     ]
    },
    {
     "data": {
      "text/plain": [
       "0.5263749859408391"
      ]
     },
     "execution_count": 137,
     "metadata": {},
     "output_type": "execute_result"
    }
   ],
   "source": [
    "from imblearn.over_sampling import SMOTE\n",
    "X_smoted, y_smoted = SMOTE(random_state=42).fit_sample(X_train_scaled,ytrain)\n",
    "logit_smote = model_2.fit(X_smoted, y_smoted)\n",
    "logit_smote.score(X_test_scaled, ytest)"
   ]
  },
  {
   "cell_type": "code",
   "execution_count": 154,
   "metadata": {},
   "outputs": [
    {
     "name": "stdout",
     "output_type": "stream",
     "text": [
      "Default threshold:\n",
      "Precision: 0.7553,   Recall: 0.5172, F1: 0.6140\n"
     ]
    }
   ],
   "source": [
    "y_predict = logit_smote.predict(X_test_scaled)\n",
    "print(\"Default threshold:\")\n",
    "print(\"Precision: {:6.4f},   Recall: {:6.4f}, F1: {:6.4f}\".format(precision_score(ytest, y_predict), \n",
    "                                                                  recall_score(ytest, y_predict),\n",
    "                                                                  f1_score(ytest, y_predict)))"
   ]
  },
  {
   "cell_type": "code",
   "execution_count": 128,
   "metadata": {},
   "outputs": [],
   "source": [
    "#cm = print_confusion_matrix(confusion_matrix(ytest, model.predict(X_test_scaled)), ['Class 0', 'Class 1'])\n"
   ]
  },
  {
   "cell_type": "markdown",
   "metadata": {},
   "source": [
    "**ADASYN**"
   ]
  },
  {
   "cell_type": "code",
   "execution_count": 133,
   "metadata": {},
   "outputs": [
    {
     "name": "stderr",
     "output_type": "stream",
     "text": [
      "/anaconda3/lib/python3.6/site-packages/sklearn/linear_model/logistic.py:433: FutureWarning: Default solver will be changed to 'lbfgs' in 0.22. Specify a solver to silence this warning.\n",
      "  FutureWarning)\n"
     ]
    },
    {
     "data": {
      "text/plain": [
       "0.5552243842087504"
      ]
     },
     "execution_count": 133,
     "metadata": {},
     "output_type": "execute_result"
    }
   ],
   "source": [
    "from imblearn.over_sampling import ADASYN\n",
    "X_adasyn, y_adasyn = ADASYN(random_state=42).fit_sample(X_train_scaled,ytrain)\n",
    "logit_adasyn = model_2.fit(X_adasyn, y_adasyn)\n",
    "logit_adasyn.score(X_test_scaled, ytest)\n"
   ]
  },
  {
   "cell_type": "code",
   "execution_count": 134,
   "metadata": {},
   "outputs": [
    {
     "name": "stdout",
     "output_type": "stream",
     "text": [
      "Model name: LogisticRegression(C=0.001, class_weight=None, dual=False, fit_intercept=True,\n",
      "          intercept_scaling=1, max_iter=100, multi_class='warn',\n",
      "          n_jobs=None, penalty='l1', random_state=0, solver='warn',\n",
      "          tol=0.0001, verbose=0, warm_start=False)\n",
      "Default threshold:\n",
      "Score: 0.5552, Precision: 0.7401, Recall: 0.5928, F1: 0.6583\n"
     ]
    }
   ],
   "source": [
    "get_metrics(logit_adasyn)"
   ]
  },
  {
   "cell_type": "code",
   "execution_count": null,
   "metadata": {},
   "outputs": [],
   "source": [
    "y_predict = logit_adasyn.predict(X_test_scaled)\n",
    "print(\"Default threshold:\")\n",
    "print(\"Precision: {:6.4f},   Recall: {:6.4f}, F1: {:6.4f}\".format(precision_score(ytest, y_predict), \n",
    "                                                                  recall_score(ytest, y_predict),\n",
    "                                                                  f1_score(ytest, y_predict)))"
   ]
  },
  {
   "cell_type": "markdown",
   "metadata": {},
   "source": [
    "**Undersampling**"
   ]
  },
  {
   "cell_type": "code",
   "execution_count": 135,
   "metadata": {
    "scrolled": true
   },
   "outputs": [
    {
     "name": "stderr",
     "output_type": "stream",
     "text": [
      "/anaconda3/lib/python3.6/site-packages/sklearn/linear_model/logistic.py:433: FutureWarning: Default solver will be changed to 'lbfgs' in 0.22. Specify a solver to silence this warning.\n",
      "  FutureWarning)\n"
     ]
    },
    {
     "data": {
      "text/plain": [
       "0.5537059948262287"
      ]
     },
     "execution_count": 135,
     "metadata": {},
     "output_type": "execute_result"
    }
   ],
   "source": [
    "from imblearn.under_sampling import RandomUnderSampler\n",
    "X_under, y_under = RandomUnderSampler(random_state=42).fit_sample(X_train_scaled,ytrain)\n",
    "\n",
    "logit_undersample = model_2.fit(X_under, y_under)\n",
    "model.score(X_test_scaled, ytest)"
   ]
  },
  {
   "cell_type": "code",
   "execution_count": null,
   "metadata": {},
   "outputs": [],
   "source": []
  },
  {
   "cell_type": "code",
   "execution_count": 138,
   "metadata": {
    "scrolled": true
   },
   "outputs": [
    {
     "name": "stdout",
     "output_type": "stream",
     "text": [
      "Model name: LogisticRegression(C=0.001, class_weight=None, dual=False, fit_intercept=True,\n",
      "          intercept_scaling=1, max_iter=100, multi_class='warn',\n",
      "          n_jobs=None, penalty='l1', random_state=0, solver='warn',\n",
      "          tol=0.0001, verbose=0, warm_start=False)\n",
      "Default threshold:\n",
      "Score: 0.5264, Precision: 0.7496, Recall: 0.5177, F1: 0.6124\n",
      "Model name: LogisticRegression(C=0.001, class_weight=None, dual=False, fit_intercept=True,\n",
      "          intercept_scaling=1, max_iter=100, multi_class='warn',\n",
      "          n_jobs=None, penalty='l1', random_state=0, solver='warn',\n",
      "          tol=0.0001, verbose=0, warm_start=False)\n",
      "Default threshold:\n",
      "Score: 0.5264, Precision: 0.7496, Recall: 0.5177, F1: 0.6124\n",
      "Model name: LogisticRegression(C=0.001, class_weight=None, dual=False, fit_intercept=True,\n",
      "          intercept_scaling=1, max_iter=100, multi_class='warn',\n",
      "          n_jobs=None, penalty='l1', random_state=0, solver='warn',\n",
      "          tol=0.0001, verbose=0, warm_start=False)\n",
      "Default threshold:\n",
      "Score: 0.5264, Precision: 0.7496, Recall: 0.5177, F1: 0.6124\n",
      "Model name: LogisticRegression(C=0.001, class_weight=None, dual=False, fit_intercept=True,\n",
      "          intercept_scaling=1, max_iter=100, multi_class='warn',\n",
      "          n_jobs=None, penalty='l1', random_state=0, solver='warn',\n",
      "          tol=0.0001, verbose=0, warm_start=False)\n",
      "Default threshold:\n",
      "Score: 0.5264, Precision: 0.7496, Recall: 0.5177, F1: 0.6124\n"
     ]
    }
   ],
   "source": [
    "models = [logit_undersample, logit_adasyn, logit_smote, logit_over_sampled]\n",
    "for m in models:\n",
    "    get_metrics(m)\n"
   ]
  },
  {
   "cell_type": "markdown",
   "metadata": {},
   "source": [
    "Regular cv: Score: 0.6008, Precision: 0.7400, Recall: 0.6903, F1: 0.7143"
   ]
  },
  {
   "cell_type": "markdown",
   "metadata": {},
   "source": [
    "**My metric: Recall of class 0**\n",
    "Precision: Be more sure someone is going to US Before you market\n",
    "Recall: Catching people going to US\n",
    "\n",
    "from sklearn.metrics import classification_report\n",
    "for m in models:\n",
    "    print()"
   ]
  },
  {
   "cell_type": "markdown",
   "metadata": {},
   "source": [
    "Next steps: Lower threshold for how you classify Europeans (change to 1)\n",
    "1. ypredict = m.predict_proba(X_test)[:,1] > 0.6  \n",
    "2. Run KNN and compare AUCs\n",
    "3. Random forest + feature importance\n",
    "4. Plot AUCs for all models"
   ]
  },
  {
   "cell_type": "code",
   "execution_count": null,
   "metadata": {},
   "outputs": [],
   "source": []
  },
  {
   "cell_type": "markdown",
   "metadata": {},
   "source": [
    "***"
   ]
  },
  {
   "cell_type": "markdown",
   "metadata": {},
   "source": [
    "## 2. KNN"
   ]
  },
  {
   "cell_type": "code",
   "execution_count": null,
   "metadata": {},
   "outputs": [],
   "source": []
  },
  {
   "cell_type": "markdown",
   "metadata": {},
   "source": [
    "# II. Refined Models"
   ]
  },
  {
   "cell_type": "markdown",
   "metadata": {},
   "source": [
    "### 1. Decision Tree"
   ]
  },
  {
   "cell_type": "code",
   "execution_count": 174,
   "metadata": {},
   "outputs": [
    {
     "data": {
      "text/plain": [
       "0.6256588039633646"
      ]
     },
     "execution_count": 174,
     "metadata": {},
     "output_type": "execute_result"
    }
   ],
   "source": [
    "model = DecisionTreeClassifier(max_depth=2)\n",
    "model.fit(Xtrain, ytrain)\n",
    "model.score(Xtest, ytest)"
   ]
  },
  {
   "cell_type": "code",
   "execution_count": 34,
   "metadata": {},
   "outputs": [
    {
     "data": {
      "text/plain": [
       "2"
      ]
     },
     "execution_count": 34,
     "metadata": {},
     "output_type": "execute_result"
    }
   ],
   "source": [
    "skf = StratifiedKFold(n_splits=2)\n",
    "skf.get_n_splits(X, y)"
   ]
  },
  {
   "cell_type": "code",
   "execution_count": 48,
   "metadata": {},
   "outputs": [
    {
     "data": {
      "text/plain": [
       "<generator object _BaseKFold.split at 0x1a15e1f990>"
      ]
     },
     "execution_count": 48,
     "metadata": {},
     "output_type": "execute_result"
    }
   ],
   "source": [
    "skf.split(X, y)"
   ]
  },
  {
   "cell_type": "code",
   "execution_count": 54,
   "metadata": {},
   "outputs": [],
   "source": [
    "#xtrain"
   ]
  },
  {
   "cell_type": "code",
   "execution_count": null,
   "metadata": {},
   "outputs": [],
   "source": []
  }
 ],
 "metadata": {
  "kernelspec": {
   "display_name": "Python 3",
   "language": "python",
   "name": "python3"
  },
  "language_info": {
   "codemirror_mode": {
    "name": "ipython",
    "version": 3
   },
   "file_extension": ".py",
   "mimetype": "text/x-python",
   "name": "python",
   "nbconvert_exporter": "python",
   "pygments_lexer": "ipython3",
   "version": "3.6.8"
  }
 },
 "nbformat": 4,
 "nbformat_minor": 2
}
